{
  "cells": [
    {
      "cell_type": "markdown",
      "metadata": {
        "id": "view-in-github",
        "colab_type": "text"
      },
      "source": [
        "<a href=\"https://colab.research.google.com/github/antonum/Redis-Workshops/blob/experimental/kamran-redis/RAG.ipynb\" target=\"_parent\"><img src=\"https://colab.research.google.com/assets/colab-badge.svg\" alt=\"Open In Colab\"/></a>"
      ]
    },
    {
      "cell_type": "markdown",
      "id": "7b382c9a-1c9c-4686-a2e4-616a367226e2",
      "metadata": {
        "id": "7b382c9a-1c9c-4686-a2e4-616a367226e2"
      },
      "source": [
        "**Copied from [LangChain: Chat with Your Data](https://learn.deeplearning.ai/langchain-chat-with-your-data)** Use the short course to learn about RAG. **This is only tested on M1 using python 3.10**.\n",
        "[source](https://learn.deeplearning.ai/microsoft-semantic-kernel/lesson/1/introduction)\n",
        "[DLAI_-_Learning_Platform_Beta.png]\n",
        "\n",
        "[DLAI_-_Learning_Platform_Beta_🔊.png]\n",
        "## Retrieval Augmented Generation\n",
        "\n",
        "In retrieval augmented generation (RAG), an LLM retrieves contextual documents from an external dataset as part of its execution.\n",
        "\n",
        "This is useful if we want to ask question about specific documents (e.g., our PDFs, a set of videos, etc).\n",
        "\n",
        "\n",
        "RAG allows Grounding LLMs:\n",
        "* Access information outside of training data\n",
        "* Integrate with existing IT systems, databases,\n",
        "and business data\n",
        "* Mitigate risk of hallucinations\n",
        "\n",
        "\n",
        "This notebook uses [langchain](https://python.langchain.com/) and is changed to run offline on local machine.\n",
        "* Uses [llama.cpp](https://github.com/ggerganov/llama.cpp) as inference engine by running a local openAI API compatible server.\n",
        "* HuggingFace local embedding\n",
        "\n",
        "**Code to run with Azure AI is at the bottom**\n",
        "\n",
        "## Redis  \n",
        "![CleanShot 2023-10-06 at 21.37.56@2x.png](https://github.com/antonum/Redis-Workshops/blob/experimental/kamran-redis/0424fda2-0313-46e6-9ba1-0c1bb6b7afdf.png?raw=1)\n",
        "\n",
        "* Retrieving contextual data for RAG using [Redis as a Vector Database](https://python.langchain.com/docs/integrations/vectorstores/redis)\n",
        "* [Semantic Cache](https://python.langchain.com/docs/integrations/llms/llm_caching#semantic-cache) for prompts based on semantic similarity between the prompt and previously cached results\n",
        "* [Chat Memory History](https://python.langchain.com/docs/integrations/memory/redis_chat_message_history)\n",
        "\n"
      ]
    },
    {
      "cell_type": "markdown",
      "id": "30273efb-6ab5-48e4-b480-dcf01fda207a",
      "metadata": {
        "id": "30273efb-6ab5-48e4-b480-dcf01fda207a"
      },
      "source": [
        "![overview.jpeg](https://github.com/kamran-redis/rag/blob/main/overview.jpeg?raw=1)"
      ]
    },
    {
      "cell_type": "code",
      "execution_count": 1,
      "id": "4f69f638-53f0-4906-a52b-71587982770e",
      "metadata": {
        "scrolled": true,
        "colab": {
          "base_uri": "https://localhost:8080/"
        },
        "id": "4f69f638-53f0-4906-a52b-71587982770e",
        "outputId": "c81db681-7e72-4b72-edce-58a41e240902"
      },
      "outputs": [
        {
          "output_type": "stream",
          "name": "stdout",
          "text": [
            "\u001b[2K     \u001b[90m━━━━━━━━━━━━━━━━━━━━━━━━━━━━━━━━━━━━━━━━\u001b[0m \u001b[32m816.1/816.1 kB\u001b[0m \u001b[31m11.3 MB/s\u001b[0m eta \u001b[36m0:00:00\u001b[0m\n",
            "\u001b[2K     \u001b[90m━━━━━━━━━━━━━━━━━━━━━━━━━━━━━━━━━━━━━━━━\u001b[0m \u001b[32m226.7/226.7 kB\u001b[0m \u001b[31m13.7 MB/s\u001b[0m eta \u001b[36m0:00:00\u001b[0m\n",
            "\u001b[2K     \u001b[90m━━━━━━━━━━━━━━━━━━━━━━━━━━━━━━━━━━━━━━━━\u001b[0m \u001b[32m132.8/132.8 kB\u001b[0m \u001b[31m15.2 MB/s\u001b[0m eta \u001b[36m0:00:00\u001b[0m\n",
            "\u001b[2K     \u001b[90m━━━━━━━━━━━━━━━━━━━━━━━━━━━━━━━━━━━━━━━━\u001b[0m \u001b[32m284.0/284.0 kB\u001b[0m \u001b[31m15.9 MB/s\u001b[0m eta \u001b[36m0:00:00\u001b[0m\n",
            "\u001b[2K     \u001b[90m━━━━━━━━━━━━━━━━━━━━━━━━━━━━━━━━━━━━━━━━\u001b[0m \u001b[32m16.9/16.9 MB\u001b[0m \u001b[31m39.3 MB/s\u001b[0m eta \u001b[36m0:00:00\u001b[0m\n",
            "\u001b[2K     \u001b[90m━━━━━━━━━━━━━━━━━━━━━━━━━━━━━━━━━━━━━━━━\u001b[0m \u001b[32m1.8/1.8 MB\u001b[0m \u001b[31m40.7 MB/s\u001b[0m eta \u001b[36m0:00:00\u001b[0m\n",
            "\u001b[2K     \u001b[90m━━━━━━━━━━━━━━━━━━━━━━━━━━━━━━━━━━━━━━━━\u001b[0m \u001b[32m250.3/250.3 kB\u001b[0m \u001b[31m26.1 MB/s\u001b[0m eta \u001b[36m0:00:00\u001b[0m\n",
            "\u001b[2K     \u001b[90m━━━━━━━━━━━━━━━━━━━━━━━━━━━━━━━━━━━━━━━━\u001b[0m \u001b[32m1.7/1.7 MB\u001b[0m \u001b[31m37.0 MB/s\u001b[0m eta \u001b[36m0:00:00\u001b[0m\n",
            "\u001b[2K     \u001b[90m━━━━━━━━━━━━━━━━━━━━━━━━━━━━━━━━━━━━━━━━\u001b[0m \u001b[32m242.1/242.1 kB\u001b[0m \u001b[31m20.7 MB/s\u001b[0m eta \u001b[36m0:00:00\u001b[0m\n",
            "\u001b[2K     \u001b[90m━━━━━━━━━━━━━━━━━━━━━━━━━━━━━━━━━━━━━━━━\u001b[0m \u001b[32m61.0/61.0 kB\u001b[0m \u001b[31m7.9 MB/s\u001b[0m eta \u001b[36m0:00:00\u001b[0m\n",
            "\u001b[2K     \u001b[90m━━━━━━━━━━━━━━━━━━━━━━━━━━━━━━━━━━━━━━━━\u001b[0m \u001b[32m75.6/75.6 kB\u001b[0m \u001b[31m7.5 MB/s\u001b[0m eta \u001b[36m0:00:00\u001b[0m\n",
            "\u001b[2K     \u001b[90m━━━━━━━━━━━━━━━━━━━━━━━━━━━━━━━━━━━━━━━━\u001b[0m \u001b[32m92.1/92.1 kB\u001b[0m \u001b[31m10.5 MB/s\u001b[0m eta \u001b[36m0:00:00\u001b[0m\n",
            "\u001b[?25h  Preparing metadata (setup.py) ... \u001b[?25l\u001b[?25hdone\n",
            "\u001b[2K     \u001b[90m━━━━━━━━━━━━━━━━━━━━━━━━━━━━━━━━━━━━━━━━\u001b[0m \u001b[32m307.7/307.7 kB\u001b[0m \u001b[31m18.0 MB/s\u001b[0m eta \u001b[36m0:00:00\u001b[0m\n",
            "\u001b[2K     \u001b[90m━━━━━━━━━━━━━━━━━━━━━━━━━━━━━━━━━━━━━━━━\u001b[0m \u001b[32m139.0/139.0 kB\u001b[0m \u001b[31m14.7 MB/s\u001b[0m eta \u001b[36m0:00:00\u001b[0m\n",
            "\u001b[2K     \u001b[90m━━━━━━━━━━━━━━━━━━━━━━━━━━━━━━━━━━━━━━━━\u001b[0m \u001b[32m7.8/7.8 MB\u001b[0m \u001b[31m63.0 MB/s\u001b[0m eta \u001b[36m0:00:00\u001b[0m\n",
            "\u001b[2K     \u001b[90m━━━━━━━━━━━━━━━━━━━━━━━━━━━━━━━━━━━━━━━━\u001b[0m \u001b[32m60.8/60.8 kB\u001b[0m \u001b[31m7.5 MB/s\u001b[0m eta \u001b[36m0:00:00\u001b[0m\n",
            "\u001b[2K     \u001b[90m━━━━━━━━━━━━━━━━━━━━━━━━━━━━━━━━━━━━━━━━\u001b[0m \u001b[32m129.9/129.9 kB\u001b[0m \u001b[31m14.4 MB/s\u001b[0m eta \u001b[36m0:00:00\u001b[0m\n",
            "\u001b[2K     \u001b[90m━━━━━━━━━━━━━━━━━━━━━━━━━━━━━━━━━━━━━━━━\u001b[0m \u001b[32m49.4/49.4 kB\u001b[0m \u001b[31m6.5 MB/s\u001b[0m eta \u001b[36m0:00:00\u001b[0m\n",
            "\u001b[2K     \u001b[90m━━━━━━━━━━━━━━━━━━━━━━━━━━━━━━━━━━━━━━━━\u001b[0m \u001b[32m77.8/77.8 kB\u001b[0m \u001b[31m11.0 MB/s\u001b[0m eta \u001b[36m0:00:00\u001b[0m\n",
            "\u001b[2K     \u001b[90m━━━━━━━━━━━━━━━━━━━━━━━━━━━━━━━━━━━━━━━━\u001b[0m \u001b[32m58.3/58.3 kB\u001b[0m \u001b[31m8.0 MB/s\u001b[0m eta \u001b[36m0:00:00\u001b[0m\n",
            "\u001b[2K     \u001b[90m━━━━━━━━━━━━━━━━━━━━━━━━━━━━━━━━━━━━━━━━\u001b[0m \u001b[32m71.5/71.5 kB\u001b[0m \u001b[31m10.1 MB/s\u001b[0m eta \u001b[36m0:00:00\u001b[0m\n",
            "\u001b[?25h  Building wheel for ffmpy (setup.py) ... \u001b[?25l\u001b[?25hdone\n"
          ]
        }
      ],
      "source": [
        "! pip install -q langchain openai sentence_transformers pypdf gradio tiktoken scikit-learn redis\n"
      ]
    },
    {
      "cell_type": "code",
      "execution_count": 2,
      "id": "9092ba11-d64d-4dbf-8377-55c0bfed5d0b",
      "metadata": {
        "colab": {
          "base_uri": "https://localhost:8080/"
        },
        "id": "9092ba11-d64d-4dbf-8377-55c0bfed5d0b",
        "outputId": "d429de74-8d78-48e6-8946-327e1c9bbf55"
      },
      "outputs": [
        {
          "name": "stdout",
          "output_type": "stream",
          "text": [
            "OpenAI Key: ··········\n"
          ]
        }
      ],
      "source": [
        "from langchain.embeddings import HuggingFaceEmbeddings\n",
        "from langchain.llms import OpenAI\n",
        "from langchain.chat_models import ChatOpenAI\n",
        "import langchain\n",
        "import getpass\n",
        "\n",
        "openai_api_key = getpass.getpass(prompt='OpenAI Key: ', stream=None)\n",
        "#openai_api_base =\"http://localhost:8081/v1\"\n",
        "\n",
        "temprature_default=0.8\n",
        "temprature_max=1.0\n",
        "top_p_default=0.95\n",
        "top_p_max=1.0\n",
        "max_tokens_default=256\n",
        "max_tokens_max=4000\n",
        "\n",
        "def getLLM(temperature=0.8, top_p=0.95, max_tokens=256):\n",
        "    return OpenAI(model_name=\"gpt-3.5-turbo-instruct\",\n",
        "                 openai_api_key= openai_api_key,\n",
        "                  max_retries=1,max_tokens=max_tokens,top_p=top_p,temperature=temperature,) #model_kwargs={\"top_p\":top_p}\n",
        "\n",
        "def getChatLLM(temperature=0.8, top_p=0.95, max_tokens=256):\n",
        "       return ChatOpenAI(model_name=\"gpt-3.5-turbo\",\n",
        "                 openai_api_key= openai_api_key, max_retries=1,\n",
        "                 temperature=temperature,max_tokens=max_tokens,model_kwargs={\"top_p\":top_p} ,) #\n",
        "def getEmbeddings():\n",
        "    return HuggingFaceEmbeddings()\n",
        "\n"
      ]
    },
    {
      "cell_type": "code",
      "source": [
        "\n",
        "%%sh\n",
        "curl -fsSL https://packages.redis.io/gpg | sudo gpg --dearmor -o /usr/share/keyrings/redis-archive-keyring.gpg\n",
        "echo \"deb [signed-by=/usr/share/keyrings/redis-archive-keyring.gpg] https://packages.redis.io/deb $(lsb_release -cs) main\" | sudo tee /etc/apt/sources.list.d/redis.list\n",
        "sudo apt-get update  > /dev/null 2>&1\n",
        "sudo apt-get install redis-stack-server  > /dev/null 2>&1\n",
        "redis-stack-server --daemonize yes\n"
      ],
      "metadata": {
        "colab": {
          "base_uri": "https://localhost:8080/"
        },
        "id": "UYzZr3bEaZj0",
        "outputId": "146b096e-74ef-4823-8bd6-1f28396ad1d3"
      },
      "id": "UYzZr3bEaZj0",
      "execution_count": 3,
      "outputs": [
        {
          "output_type": "stream",
          "name": "stdout",
          "text": [
            "deb [signed-by=/usr/share/keyrings/redis-archive-keyring.gpg] https://packages.redis.io/deb jammy main\n",
            "Starting redis-stack-server, database path /var/lib/redis-stack\n"
          ]
        }
      ]
    },
    {
      "cell_type": "markdown",
      "id": "53fb785e-ad03-49ab-b6c2-abbd9e4be6d0",
      "metadata": {
        "id": "53fb785e-ad03-49ab-b6c2-abbd9e4be6d0"
      },
      "source": [
        "# Document Loading"
      ]
    },
    {
      "cell_type": "markdown",
      "id": "7af98078-a849-4e74-9d03-69374a238278",
      "metadata": {
        "id": "7af98078-a849-4e74-9d03-69374a238278"
      },
      "source": [
        "## PDF Document\n",
        "\n",
        "Let's load a PDF document"
      ]
    },
    {
      "cell_type": "code",
      "execution_count": 4,
      "id": "48097876-ff96-429d-ade0-dcb5b42cf1dc",
      "metadata": {
        "id": "48097876-ff96-429d-ade0-dcb5b42cf1dc"
      },
      "outputs": [],
      "source": [
        "from langchain.document_loaders import PyPDFLoader\n",
        "loaders = [\n",
        "    PyPDFLoader(\"https://raw.githubusercontent.com/kamran-redis/rag/main/docs/Buyers Guide for Enterprise Caching (2022-02).pdf\"),\n",
        "    PyPDFLoader(\"https://raw.githubusercontent.com/kamran-redis/rag/main/docs/the-economist- corporate-espionage-is-entering-a-new-era.pdf\"),\n",
        "    PyPDFLoader(\"https://raw.githubusercontent.com/kamran-redis/rag/main/docs/How Silicon Valley is helping the Pentagon in the AI arms race _ Financial Times.pdf\"),\n",
        "    PyPDFLoader(\"https://raw.githubusercontent.com/kamran-redis/rag/main/docs/2022-chevrolet-colorado-ebrochure.pdf\"),\n",
        "    #PyPDFLoader(\"docs/kubernetes-docs.pdf\"),\n",
        "    #PyPDFLoader(\"docs/rc-docs.pdf\"),\n",
        "    #PyPDFLoader(\"docs/ri-docs.pdf\"),\n",
        "    PyPDFLoader(\"https://raw.githubusercontent.com/kamran-redis/rag/main/docs/rs-docs.pdf\"),\n",
        "    #PyPDFLoader(\"docs/stack-docs.pdf\")\n",
        "]\n",
        "pages = []\n",
        "for loader in loaders:\n",
        "    pages.extend(loader.load())"
      ]
    },
    {
      "cell_type": "markdown",
      "id": "bc4925da-4a0c-4fd1-abef-1513f7528eae",
      "metadata": {
        "id": "bc4925da-4a0c-4fd1-abef-1513f7528eae"
      },
      "source": [
        "Each page is a `Document`.\n",
        "\n",
        "A `Document` contains text (`page_content`) and `metadata`."
      ]
    },
    {
      "cell_type": "code",
      "execution_count": 5,
      "id": "635b24a8-794e-4ab2-832d-07ad431a3166",
      "metadata": {
        "scrolled": true,
        "colab": {
          "base_uri": "https://localhost:8080/",
          "height": 625
        },
        "id": "635b24a8-794e-4ab2-832d-07ad431a3166",
        "outputId": "20238ca7-df71-45fd-f2ab-b4d4ae9eb380"
      },
      "outputs": [
        {
          "output_type": "stream",
          "name": "stdout",
          "text": [
            "Setting queue=True in a Colab notebook requires sharing enabled. Setting `share=True` (you can turn this off by setting `share=False` in `launch()` explicitly).\n",
            "\n",
            "Colab notebook detected. To show errors in colab notebook, set debug=True in launch()\n",
            "Running on public URL: https://320667fd957aecd2de.gradio.live\n",
            "\n",
            "This share link expires in 72 hours. For free permanent hosting and GPU upgrades, run `gradio deploy` from Terminal to deploy to Spaces (https://huggingface.co/spaces)\n"
          ]
        },
        {
          "output_type": "display_data",
          "data": {
            "text/plain": [
              "<IPython.core.display.HTML object>"
            ],
            "text/html": [
              "<div><iframe src=\"https://320667fd957aecd2de.gradio.live\" width=\"100%\" height=\"500\" allow=\"autoplay; camera; microphone; clipboard-read; clipboard-write;\" frameborder=\"0\" allowfullscreen></iframe></div>"
            ]
          },
          "metadata": {}
        },
        {
          "output_type": "execute_result",
          "data": {
            "text/plain": []
          },
          "metadata": {},
          "execution_count": 5
        }
      ],
      "source": [
        "import gradio as gr\n",
        "\n",
        "def pagenumber_change(n):\n",
        "    page = pages[int(n)]\n",
        "    return page.page_content,page.metadata\n",
        "\n",
        "with gr.Blocks() as demopage:\n",
        "    gr.Markdown(\"### Pages Content\")\n",
        "    page = gr.TextArea(label=\"Page Content\",max_lines=10,value=pages[0].page_content)\n",
        "    meta_data = gr.Textbox(label=\"MetaData\",value=pages[0].metadata)\n",
        "    page_number = gr.Slider(label=\"Page Number\",  minimum=0, maximum= len(pages)-1, value=0,step=1, scale=1)\n",
        "    page_number.release(pagenumber_change, inputs=[page_number], outputs=[page,meta_data])\n",
        "\n",
        "demopage.launch()"
      ]
    },
    {
      "cell_type": "markdown",
      "id": "a539de36-3e9d-4a2d-b1a6-d5e2196980fa",
      "metadata": {
        "id": "a539de36-3e9d-4a2d-b1a6-d5e2196980fa"
      },
      "source": [
        "## URLs"
      ]
    },
    {
      "cell_type": "code",
      "execution_count": 6,
      "id": "f62389de-eb72-4f8e-a8d3-0d40660b7bc7",
      "metadata": {
        "id": "f62389de-eb72-4f8e-a8d3-0d40660b7bc7"
      },
      "outputs": [],
      "source": [
        "#from langchain.document_loaders import WebBaseLoader\n",
        "\n",
        "#loader = WebBaseLoader(\"https://github.com/basecamp/handbook/blob/master/37signals-is-you.md\")"
      ]
    },
    {
      "cell_type": "code",
      "execution_count": 7,
      "id": "0c68e0ec-690d-4411-98b0-303b7edf599e",
      "metadata": {
        "id": "0c68e0ec-690d-4411-98b0-303b7edf599e"
      },
      "outputs": [],
      "source": [
        "#webdocs = loader.load()\n",
        "#pages=webdocs"
      ]
    },
    {
      "cell_type": "code",
      "execution_count": 8,
      "id": "cd7814d4-0558-4fe3-a2b7-5a28ecdf9de7",
      "metadata": {
        "id": "cd7814d4-0558-4fe3-a2b7-5a28ecdf9de7"
      },
      "outputs": [],
      "source": [
        "#print(webdocs[0].page_content[:500])"
      ]
    },
    {
      "cell_type": "markdown",
      "id": "fe165505-d88d-4b8a-8429-d0994fc2bd58",
      "metadata": {
        "id": "fe165505-d88d-4b8a-8429-d0994fc2bd58"
      },
      "source": [
        "# Splitting Text"
      ]
    },
    {
      "cell_type": "markdown",
      "id": "45b8863c-88c4-4eeb-9812-757691cf6fb9",
      "metadata": {
        "id": "45b8863c-88c4-4eeb-9812-757691cf6fb9"
      },
      "source": [
        "We will use `RecursiveCharacterTextSplitter` and also add lookback period as seperator"
      ]
    },
    {
      "cell_type": "code",
      "execution_count": 9,
      "id": "5a998c90-23c6-4bd9-b561-0159a4fb4046",
      "metadata": {
        "id": "5a998c90-23c6-4bd9-b561-0159a4fb4046"
      },
      "outputs": [],
      "source": [
        "from langchain.text_splitter import RecursiveCharacterTextSplitter\n",
        "r_splitter = RecursiveCharacterTextSplitter(\n",
        "    chunk_size=1500,\n",
        "    chunk_overlap=50,\n",
        "    separators=[\"\\n\\n\", \"\\n\", \"(?<=\\. )\", \" \", \"\"],\n",
        ")"
      ]
    },
    {
      "cell_type": "code",
      "execution_count": 10,
      "id": "9031756e-b0f3-489d-aad4-abb352afcae2",
      "metadata": {
        "id": "9031756e-b0f3-489d-aad4-abb352afcae2"
      },
      "outputs": [],
      "source": [
        "docs = r_splitter.split_documents(pages)"
      ]
    },
    {
      "cell_type": "code",
      "execution_count": 11,
      "id": "1777d9dc-0bdd-4749-b29b-aab33ec6ec0d",
      "metadata": {
        "colab": {
          "base_uri": "https://localhost:8080/",
          "height": 625
        },
        "id": "1777d9dc-0bdd-4749-b29b-aab33ec6ec0d",
        "outputId": "0299382b-59f6-4157-8360-ee9157c4c742"
      },
      "outputs": [
        {
          "output_type": "stream",
          "name": "stdout",
          "text": [
            "Setting queue=True in a Colab notebook requires sharing enabled. Setting `share=True` (you can turn this off by setting `share=False` in `launch()` explicitly).\n",
            "\n",
            "Colab notebook detected. To show errors in colab notebook, set debug=True in launch()\n",
            "Running on public URL: https://465b68c9c999214e34.gradio.live\n",
            "\n",
            "This share link expires in 72 hours. For free permanent hosting and GPU upgrades, run `gradio deploy` from Terminal to deploy to Spaces (https://huggingface.co/spaces)\n"
          ]
        },
        {
          "output_type": "display_data",
          "data": {
            "text/plain": [
              "<IPython.core.display.HTML object>"
            ],
            "text/html": [
              "<div><iframe src=\"https://465b68c9c999214e34.gradio.live\" width=\"100%\" height=\"500\" allow=\"autoplay; camera; microphone; clipboard-read; clipboard-write;\" frameborder=\"0\" allowfullscreen></iframe></div>"
            ]
          },
          "metadata": {}
        },
        {
          "output_type": "execute_result",
          "data": {
            "text/plain": []
          },
          "metadata": {},
          "execution_count": 11
        }
      ],
      "source": [
        "import gradio as gr\n",
        "\n",
        "def docnumber_change(n):\n",
        "    doc = docs[int(n)]\n",
        "    return doc.page_content,doc.metadata\n",
        "\n",
        "with gr.Blocks() as demodoc:\n",
        "    gr.Markdown(\"### View Splitted Documents\")\n",
        "    doc_content = gr.TextArea(label=\"Document Content\",max_lines=10,value=docs[0].page_content)\n",
        "    doc_meta_data = gr.Textbox(label=\"MetaData\",value=docs[0].metadata)\n",
        "    doc_number = gr.Slider(label=\"Document Number\",  minimum=0, maximum= len(docs)-1, value=0,step=1, scale=1)\n",
        "    doc_number.release(docnumber_change, inputs=[doc_number], outputs=[doc_content,doc_meta_data])\n",
        "\n",
        "demodoc.launch()"
      ]
    },
    {
      "cell_type": "markdown",
      "id": "0aa16897-9733-4bd7-873d-8d8c01c1b7ae",
      "metadata": {
        "id": "0aa16897-9733-4bd7-873d-8d8c01c1b7ae"
      },
      "source": [
        "# Storage"
      ]
    },
    {
      "cell_type": "markdown",
      "id": "dffb57a6-6c26-4ae6-a2ab-9406e7c28154",
      "metadata": {
        "id": "dffb57a6-6c26-4ae6-a2ab-9406e7c28154"
      },
      "source": [
        "## Embeddings\n",
        "![Cursor_and_DLAI_-_Learning_Platform_Beta.png]"
      ]
    },
    {
      "cell_type": "markdown",
      "id": "0a5f4e04-8c31-48a8-9c78-91a6165952c6",
      "metadata": {
        "id": "0a5f4e04-8c31-48a8-9c78-91a6165952c6"
      },
      "source": [
        "Other uses of embeddings other than similarity are\n",
        "\n",
        "**Classification**\n",
        "Train a random forest model to classify the category\n",
        "\n",
        "**Anomaly / Outlier detection**\n",
        "We can add an anomalous piece of text and check if the outlier (anomaly) detection algorithm (Isolation Forest) can identify it as an outlier (anomaly), based on its embedding."
      ]
    },
    {
      "cell_type": "code",
      "execution_count": 12,
      "id": "428bae6b-1cd4-49ff-8967-39306e7ce237",
      "metadata": {
        "colab": {
          "base_uri": "https://localhost:8080/",
          "height": 528,
          "referenced_widgets": [
            "b4dbc27b3e69421bbce458a33af4da29",
            "377170d102fd41cda78380260b6cea26",
            "e0bbff7154e54b58b4ce3f32678dd782",
            "84d10db0a5784dd59e3bb3f11d69282e",
            "704fe742e4dd4b6d93c9201c158472d0",
            "f96106be504645168476852726e6e24b",
            "8996cae1bf8c409581a2748ed6daee66",
            "58cf3df33a864e08bdc55dd83c69cac2",
            "23849062576946d48cccab1e24bfca53",
            "0bf8e1ef19174c82be183d761e82e844",
            "a0a5a17810bd4b5c8aa91a0a2f2d3778",
            "f354a7c26507495fac259b5baad17891",
            "7fc9b7e925454b558991253333efbf14",
            "81bfeb147af84bd98e5456d4fc3876ad",
            "dadf0a7f411749f59331ef68cb728d2d",
            "ce89e943434d44f1b1b69e0c09e2e579",
            "e22723b5f4f74f849e7a7adedcc82eae",
            "6a4c5d4042fa4f80a544dbdf919cffe2",
            "ba5cb61264634ba79ba4c2514f17f4d5",
            "7993e945e0b84a20ba1a7a465ad527dd",
            "1fc39dd0983a4c76b27aec4bfddaac9c",
            "751fa635846b4e608ee8def85fb158a7",
            "8fac07871c724b7596f71bfc41da9231",
            "571234e40e8b431088d16059ed296432",
            "a5fa89a0b336482a8c13308a72691e8d",
            "124c187590dd4b9488c88b995550db54",
            "334f178286d2457082b9fdcc42dd925d",
            "4b4be9555f1140629897c852377929b5",
            "312e07fe428443e5a19ab67ad4adcf40",
            "f2ed84074b124f7b97cf11003c5750a6",
            "25a9a453b6fb4980b3d40f031eceaa44",
            "bf19a2ee96a649898266935cc308e303",
            "e2ff8be20dfe4eada6e81f4ed956e271",
            "6ac8bf5169cb4d168c09fe597d0d4fd1",
            "d80abd2bbb5c40b6ac5572f276610447",
            "7a042db6990344d3b1a2c5df7c368431",
            "56f59e6328a34e5c80f3a90289224bf8",
            "5211444e17e8492cb03d4666ec21384e",
            "f365d2de8eac468a87e92ded0ad74403",
            "405449ffa19a4c9d8e75b3d983ef3cd5",
            "41a8c06843fb4bb489e36d08c6add837",
            "b80a75c4b732431a865fc351c8ac3db7",
            "30333a7647c245c5bdfe7e85fd7aef61",
            "236c22556d164c1dba412a58c8369e09",
            "465dbb7a123c408d86040c05aff59157",
            "7080e39826ba47368ce4c66017fd19fd",
            "eb63ab64693a42938b773493037c6d86",
            "7e3c069a71714048b5776361694a51f3",
            "c58b405fda864c3a981c778abbc4cb89",
            "73e84260f4fe4e8cb333a94d09b8ec97",
            "2decece666ad49a38dcc962ae19b06db",
            "78e546f2b07846188fb7514513b1fd68",
            "91c4105d10994fe491c08612c6ba6d9f",
            "87ab3216cd4e4f70806bd83f1ffc276a",
            "945f4958d76d4c218205766810750aad",
            "21afec906d334fe3ad574f8a3bf34f7c",
            "4b178d7e107442c38733005a405bae49",
            "8e4a877fb78940bd93de804850f7dc71",
            "e574cb6f03124628a4ae94d710c55705",
            "41afad5723f24401a8424b8c19cfefe3",
            "bb24ba296bf0464daa029796d8807adf",
            "2974a9c750594b9797a3f1335ba2c8d0",
            "35ab3797589a47dabb84a59bfacb6b0f",
            "92f965d73e9649a1a895a7165654e413",
            "2e2da00351c648f495ecb0b857895a1b",
            "c9faf8bb16fa43d6ac44db8019868277",
            "130270cd47b543518a2c993ea19d17b5",
            "d5d347a907934c31b93173dccf403405",
            "4cadaf449a0d4befaf30545fac71c0bc",
            "bf5f9dbab4224f499c95d136318907c4",
            "8133bb7805634748a3872f3342616886",
            "fd7eaa9293414bc0b7b03445acd8df5f",
            "e06c53563ca442cab4b3aac58b5a353e",
            "c37ad2f6a06e456bb1d99aaf1f3e8d36",
            "94e849c438534596b92b13ed1eb110d2",
            "17126727fbef49f09e4393d11ecf5f63",
            "82877b515c684630a92d260f7be5120b",
            "7a3c0665774c4efd865cf50824446703",
            "c53428da97cc4d45a23c3f1df9251525",
            "dcc586a30c184478a4fea65bb8b2f7ee",
            "dd232c8003904a2298c4d7d692749b06",
            "397665ae0eb54611a27c49c61b9b86ad",
            "5f7b29c4176a4186a9f400618026fbb0",
            "6e33ef29161a4a94b933255a7caef6b4",
            "b9547b58167b4bf0b1c26d17bf1b774c",
            "7228216149984300bd636d9c7404e15f",
            "7919e825a6bc416a9c3f44368e817515",
            "fb9bcde29a724e78973a2dfbf1d8c2b3",
            "60328d6f070a495d8dd1ef473d326296",
            "909dcd3eb66f41018a557f62135bb6fd",
            "8822b14312ff481e80c32593d4013a17",
            "c17ca8072d324ffc85b2d4b28fc5bddd",
            "1cb7c2aebc6c472a8b6642f90b2fe14d",
            "8e1721cb09c043b8a82baa876db3e582",
            "fba60a5f5e304c73b1b6fe08942b5450",
            "a939055539fe4993a9c942a88d06c975",
            "ae7d876774fe4053be9eb5eff7f6b396",
            "4bbbce9672234c83bdbd6334d7290d81",
            "9bb705f2e521493e949c5667386e0c90",
            "caf61db9e4864fa7a302f34d8fa301ca",
            "0c25f26b81f64e269de6ba1ec66bd5b7",
            "d64a59c5040441b6b4209b201c21aa4b",
            "5efbad6282d54c04b32ee2d1d7b62466",
            "3b98cd8e4783435e9e97d2d7c0400b7f",
            "4e09f356f7af432e9b02ec93fc2f2617",
            "daae3673cda94c6499e96244ab308aa3",
            "eeefb8eb9a72410591f29b12dba8a016",
            "c9d71781b3ec487f848d2c281191ee71",
            "de681ac412364ccb9660eaf92ebc4af3",
            "f1720bbe33064fcca49b6ee09a34d84f",
            "52382f19087944a28a485c1876f5dc62",
            "5eb00c7a0b6445d79cb0de94194b41f4",
            "5c5c61e8366745a39fbe5ceb3bbd2307",
            "f0b114c6aa174d9587c21aba962f936a",
            "f1e29e0e850c4fefbbf7991289a80d4d",
            "038ca4f141fd4ee58bfc49333265dbde",
            "eee67f9996d848a2bc71abab5061d018",
            "8f0906422b5c427aaf500715048afc1e",
            "49616abc846d4169baccda5efd6efa0c",
            "5aabc856fbc7498ab879f4c4d2482337",
            "a6b4fe9ebd4e4226981594343c2d3add"
          ]
        },
        "id": "428bae6b-1cd4-49ff-8967-39306e7ce237",
        "outputId": "8ce57f6e-f968-475e-8fd7-ce85f9c02554"
      },
      "outputs": [
        {
          "output_type": "stream",
          "name": "stderr",
          "text": [
            "/usr/local/lib/python3.10/dist-packages/huggingface_hub/utils/_token.py:88: UserWarning: \n",
            "The secret `HF_TOKEN` does not exist in your Colab secrets.\n",
            "To authenticate with the Hugging Face Hub, create a token in your settings tab (https://huggingface.co/settings/tokens), set it as secret in your Google Colab and restart your session.\n",
            "You will be able to reuse this secret in all of your notebooks.\n",
            "Please note that authentication is recommended but still optional to access public models or datasets.\n",
            "  warnings.warn(\n"
          ]
        },
        {
          "output_type": "display_data",
          "data": {
            "text/plain": [
              "modules.json:   0%|          | 0.00/349 [00:00<?, ?B/s]"
            ],
            "application/vnd.jupyter.widget-view+json": {
              "version_major": 2,
              "version_minor": 0,
              "model_id": "b4dbc27b3e69421bbce458a33af4da29"
            }
          },
          "metadata": {}
        },
        {
          "output_type": "display_data",
          "data": {
            "text/plain": [
              "config_sentence_transformers.json:   0%|          | 0.00/116 [00:00<?, ?B/s]"
            ],
            "application/vnd.jupyter.widget-view+json": {
              "version_major": 2,
              "version_minor": 0,
              "model_id": "f354a7c26507495fac259b5baad17891"
            }
          },
          "metadata": {}
        },
        {
          "output_type": "display_data",
          "data": {
            "text/plain": [
              "README.md:   0%|          | 0.00/10.6k [00:00<?, ?B/s]"
            ],
            "application/vnd.jupyter.widget-view+json": {
              "version_major": 2,
              "version_minor": 0,
              "model_id": "8fac07871c724b7596f71bfc41da9231"
            }
          },
          "metadata": {}
        },
        {
          "output_type": "display_data",
          "data": {
            "text/plain": [
              "sentence_bert_config.json:   0%|          | 0.00/53.0 [00:00<?, ?B/s]"
            ],
            "application/vnd.jupyter.widget-view+json": {
              "version_major": 2,
              "version_minor": 0,
              "model_id": "6ac8bf5169cb4d168c09fe597d0d4fd1"
            }
          },
          "metadata": {}
        },
        {
          "output_type": "display_data",
          "data": {
            "text/plain": [
              "config.json:   0%|          | 0.00/571 [00:00<?, ?B/s]"
            ],
            "application/vnd.jupyter.widget-view+json": {
              "version_major": 2,
              "version_minor": 0,
              "model_id": "465dbb7a123c408d86040c05aff59157"
            }
          },
          "metadata": {}
        },
        {
          "output_type": "display_data",
          "data": {
            "text/plain": [
              "pytorch_model.bin:   0%|          | 0.00/438M [00:00<?, ?B/s]"
            ],
            "application/vnd.jupyter.widget-view+json": {
              "version_major": 2,
              "version_minor": 0,
              "model_id": "21afec906d334fe3ad574f8a3bf34f7c"
            }
          },
          "metadata": {}
        },
        {
          "output_type": "stream",
          "name": "stderr",
          "text": [
            "/usr/local/lib/python3.10/dist-packages/torch/_utils.py:831: UserWarning: TypedStorage is deprecated. It will be removed in the future and UntypedStorage will be the only storage class. This should only matter to you if you are using storages directly.  To access UntypedStorage directly, use tensor.untyped_storage() instead of tensor.storage()\n",
            "  return self.fget.__get__(instance, owner)()\n"
          ]
        },
        {
          "output_type": "display_data",
          "data": {
            "text/plain": [
              "tokenizer_config.json:   0%|          | 0.00/363 [00:00<?, ?B/s]"
            ],
            "application/vnd.jupyter.widget-view+json": {
              "version_major": 2,
              "version_minor": 0,
              "model_id": "130270cd47b543518a2c993ea19d17b5"
            }
          },
          "metadata": {}
        },
        {
          "output_type": "display_data",
          "data": {
            "text/plain": [
              "vocab.txt:   0%|          | 0.00/232k [00:00<?, ?B/s]"
            ],
            "application/vnd.jupyter.widget-view+json": {
              "version_major": 2,
              "version_minor": 0,
              "model_id": "7a3c0665774c4efd865cf50824446703"
            }
          },
          "metadata": {}
        },
        {
          "output_type": "display_data",
          "data": {
            "text/plain": [
              "tokenizer.json:   0%|          | 0.00/466k [00:00<?, ?B/s]"
            ],
            "application/vnd.jupyter.widget-view+json": {
              "version_major": 2,
              "version_minor": 0,
              "model_id": "60328d6f070a495d8dd1ef473d326296"
            }
          },
          "metadata": {}
        },
        {
          "output_type": "display_data",
          "data": {
            "text/plain": [
              "special_tokens_map.json:   0%|          | 0.00/239 [00:00<?, ?B/s]"
            ],
            "application/vnd.jupyter.widget-view+json": {
              "version_major": 2,
              "version_minor": 0,
              "model_id": "caf61db9e4864fa7a302f34d8fa301ca"
            }
          },
          "metadata": {}
        },
        {
          "output_type": "display_data",
          "data": {
            "text/plain": [
              "1_Pooling/config.json:   0%|          | 0.00/190 [00:00<?, ?B/s]"
            ],
            "application/vnd.jupyter.widget-view+json": {
              "version_major": 2,
              "version_minor": 0,
              "model_id": "52382f19087944a28a485c1876f5dc62"
            }
          },
          "metadata": {}
        }
      ],
      "source": [
        "from langchain.embeddings import HuggingFaceEmbeddings\n",
        "from sklearn.metrics.pairwise import cosine_similarity\n",
        "embedding = getEmbeddings()"
      ]
    },
    {
      "cell_type": "code",
      "execution_count": 13,
      "id": "ac7bdb3b-fbb0-4ae1-b18a-06948b1e081d",
      "metadata": {
        "id": "ac7bdb3b-fbb0-4ae1-b18a-06948b1e081d"
      },
      "outputs": [],
      "source": [
        "sentence1 = \"i like dogs\"\n",
        "sentence2 = \"i like canines\"\n",
        "sentence3 = \"the weather is ugly outside\""
      ]
    },
    {
      "cell_type": "code",
      "execution_count": 14,
      "id": "9ac1d6fa-c01e-4e90-9d77-c6e5f401d4da",
      "metadata": {
        "id": "9ac1d6fa-c01e-4e90-9d77-c6e5f401d4da"
      },
      "outputs": [],
      "source": [
        "embedding1 = embedding.embed_query(sentence1)\n",
        "embedding2 = embedding.embed_query(sentence2)\n",
        "embedding3 = embedding.embed_query(sentence3)"
      ]
    },
    {
      "cell_type": "code",
      "execution_count": 15,
      "id": "495ad3ad-d7b2-439f-bf63-6774267a93c9",
      "metadata": {
        "id": "495ad3ad-d7b2-439f-bf63-6774267a93c9"
      },
      "outputs": [],
      "source": [
        "import numpy as np"
      ]
    },
    {
      "cell_type": "code",
      "execution_count": 16,
      "id": "5c35ac78-76a2-486e-8e03-2ba6ca656456",
      "metadata": {
        "colab": {
          "base_uri": "https://localhost:8080/"
        },
        "id": "5c35ac78-76a2-486e-8e03-2ba6ca656456",
        "outputId": "73c854db-0d4e-41de-bb99-05f00201dd70"
      },
      "outputs": [
        {
          "output_type": "execute_result",
          "data": {
            "text/plain": [
              "768"
            ]
          },
          "metadata": {},
          "execution_count": 16
        }
      ],
      "source": [
        "len(embedding1)"
      ]
    },
    {
      "cell_type": "code",
      "execution_count": 17,
      "id": "41f44119-45c4-4b4a-8f14-7325a00fed29",
      "metadata": {
        "colab": {
          "base_uri": "https://localhost:8080/"
        },
        "id": "41f44119-45c4-4b4a-8f14-7325a00fed29",
        "outputId": "8b1e0556-c00c-4082-ebd0-3968c15b2b4f"
      },
      "outputs": [
        {
          "output_type": "execute_result",
          "data": {
            "text/plain": [
              "[-0.0136107811704278,\n",
              " 0.11503762006759644,\n",
              " -0.02767833136022091,\n",
              " -0.04148174449801445,\n",
              " 0.04854818433523178,\n",
              " 0.03823169320821762,\n",
              " -0.045007556676864624,\n",
              " -0.01202703732997179,\n",
              " -0.0024974518455564976,\n",
              " -0.01713002286851406]"
            ]
          },
          "metadata": {},
          "execution_count": 17
        }
      ],
      "source": [
        "embedding1[:10]"
      ]
    },
    {
      "cell_type": "code",
      "execution_count": 18,
      "id": "93096493-e27a-4f67-849f-06b22492cf87",
      "metadata": {
        "colab": {
          "base_uri": "https://localhost:8080/"
        },
        "id": "93096493-e27a-4f67-849f-06b22492cf87",
        "outputId": "668a2f42-8bb3-491f-8601-0e2bd2e040a7"
      },
      "outputs": [
        {
          "output_type": "stream",
          "name": "stdout",
          "text": [
            "0.8981181981809281\n",
            "[[0.89811819]]\n"
          ]
        }
      ],
      "source": [
        "print(np.dot(embedding1, embedding2))\n",
        "print(cosine_similarity([embedding1],[embedding2]))"
      ]
    },
    {
      "cell_type": "code",
      "execution_count": 19,
      "id": "f97da969-766a-446c-b262-1d897ddbecae",
      "metadata": {
        "colab": {
          "base_uri": "https://localhost:8080/"
        },
        "id": "f97da969-766a-446c-b262-1d897ddbecae",
        "outputId": "a1e14804-f21a-4931-f583-5850c2822afc"
      },
      "outputs": [
        {
          "output_type": "stream",
          "name": "stdout",
          "text": [
            "0.03641026720280567\n",
            "[[0.03641027]]\n"
          ]
        }
      ],
      "source": [
        "print(np.dot(embedding1, embedding3))\n",
        "print(cosine_similarity([embedding1],[embedding3]))"
      ]
    },
    {
      "cell_type": "code",
      "execution_count": 20,
      "id": "ea77174c-b009-46d6-876e-82ee36801d14",
      "metadata": {
        "colab": {
          "base_uri": "https://localhost:8080/"
        },
        "id": "ea77174c-b009-46d6-876e-82ee36801d14",
        "outputId": "1b6db189-27a8-44ea-fd85-4f086857698b"
      },
      "outputs": [
        {
          "output_type": "stream",
          "name": "stdout",
          "text": [
            "0.005847666010841036\n",
            "[[0.00584767]]\n"
          ]
        }
      ],
      "source": [
        "print(np.dot(embedding2, embedding3))\n",
        "print(cosine_similarity([embedding2],[embedding3]))"
      ]
    },
    {
      "cell_type": "markdown",
      "id": "f123597f-8a58-4bd8-9b2f-7084107f4d55",
      "metadata": {
        "id": "f123597f-8a58-4bd8-9b2f-7084107f4d55"
      },
      "source": [
        "###  Visualizing Embeddings [source](https://learn.deeplearning.ai/google-cloud-vertex-ai/lesson/4/visualizing-embeddings)"
      ]
    },
    {
      "cell_type": "markdown",
      "id": "0ff234da-d2bf-4ddb-9118-ab8e376409a5",
      "metadata": {
        "id": "0ff234da-d2bf-4ddb-9118-ab8e376409a5"
      },
      "source": [
        "#### Embeddings capture meaning"
      ]
    },
    {
      "cell_type": "code",
      "execution_count": 21,
      "id": "c598a709-6366-437f-a7da-8412975b724d",
      "metadata": {
        "id": "c598a709-6366-437f-a7da-8412975b724d"
      },
      "outputs": [],
      "source": [
        "in_1 = \"Missing flamingo discovered at swimming pool\"\n",
        "in_2 = \"Sea otter spotted on surfboard by beach\"\n",
        "in_3 = \"Baby panda enjoys boat ride\"\n",
        "\n",
        "in_4 = \"Breakfast themed food truck beloved by all!\"\n",
        "in_5 = \"New curry restaurant aims to please!\"\n",
        "\n",
        "in_6 = \"Python developers are wonderful people\"\n",
        "in_7 = \"TypeScript, C++ or Java? All are great!\"\n",
        "\n",
        "\n",
        "input_text_lst_news = [in_1, in_2, in_3, in_4, in_5, in_6, in_7]"
      ]
    },
    {
      "cell_type": "code",
      "execution_count": 22,
      "id": "09d53890-db56-4978-a277-ff6daefb017a",
      "metadata": {
        "id": "09d53890-db56-4978-a277-ff6daefb017a"
      },
      "outputs": [],
      "source": [
        "#Get embeddings for all pieces of text.\n",
        "embeddings = []\n",
        "for input_text in input_text_lst_news:\n",
        "    emb = embedding.embed_query(input_text)\n",
        "    embeddings.append(emb)\n",
        "\n",
        "embeddings_array = np.array(embeddings)"
      ]
    },
    {
      "cell_type": "code",
      "execution_count": 23,
      "id": "dd051e9d-3e7f-442c-84f4-9174e676557b",
      "metadata": {
        "colab": {
          "base_uri": "https://localhost:8080/"
        },
        "id": "dd051e9d-3e7f-442c-84f4-9174e676557b",
        "outputId": "b8c1ac50-5cac-4f29-baf7-e741326003ec"
      },
      "outputs": [
        {
          "output_type": "stream",
          "name": "stdout",
          "text": [
            "Shape: (7, 768)\n",
            "[[ 0.01493032 -0.00331089 -0.02366721 ...  0.04382873 -0.00961944\n",
            "   0.05507185]\n",
            " [ 0.02796176  0.05552787 -0.02646966 ...  0.04219671  0.02042511\n",
            "   0.02744674]\n",
            " [-0.00396612  0.05514324 -0.01845468 ...  0.03014257  0.00855403\n",
            "   0.01467848]\n",
            " ...\n",
            " [-0.00106709  0.07917724 -0.03888064 ...  0.04137965 -0.01599874\n",
            "  -0.03126537]\n",
            " [ 0.02334456  0.03306935 -0.01906764 ...  0.00999067  0.08099694\n",
            "  -0.03875096]\n",
            " [-0.00498157  0.02441759 -0.0479615  ...  0.00601145  0.0627252\n",
            "  -0.01878871]]\n"
          ]
        }
      ],
      "source": [
        "print(\"Shape: \" + str(embeddings_array.shape))\n",
        "print(embeddings_array)"
      ]
    },
    {
      "cell_type": "markdown",
      "id": "8b1c0a55-eafd-42ef-92a2-45c5f5790cc4",
      "metadata": {
        "id": "8b1c0a55-eafd-42ef-92a2-45c5f5790cc4"
      },
      "source": [
        "#### Reduce embeddings from 768/1536 to 2 dimensions for visualization\n",
        "- We'll use principal component analysis (PCA).\n",
        "- You can learn more about PCA in [this video](https://www.coursera.org/learn/unsupervised-learning-recommenders-reinforcement-learning/lecture/73zWO/reducing-the-number-of-features-optional) from the Machine Learning Specialization."
      ]
    },
    {
      "cell_type": "code",
      "execution_count": 24,
      "id": "644830bf-f6ef-4143-a628-3f4341469056",
      "metadata": {
        "id": "644830bf-f6ef-4143-a628-3f4341469056"
      },
      "outputs": [],
      "source": [
        "from sklearn.decomposition import PCA\n",
        "\n",
        "# Perform PCA for 2D visualization\n",
        "PCA_model = PCA(n_components = 2)\n",
        "PCA_model.fit(embeddings_array)\n",
        "new_values = PCA_model.transform(embeddings_array)"
      ]
    },
    {
      "cell_type": "code",
      "execution_count": 25,
      "id": "5a158345-6b23-4ed8-822b-1477d4b78cb7",
      "metadata": {
        "colab": {
          "base_uri": "https://localhost:8080/"
        },
        "id": "5a158345-6b23-4ed8-822b-1477d4b78cb7",
        "outputId": "afd9f73e-7362-46a4-dbf1-81ffed25e712"
      },
      "outputs": [
        {
          "output_type": "stream",
          "name": "stdout",
          "text": [
            "Shape: (7, 2)\n",
            "[[ 0.5822739  -0.06701093]\n",
            " [ 0.59872601 -0.10793817]\n",
            " [ 0.31289851  0.00436359]\n",
            " [-0.29369953  0.58462128]\n",
            " [-0.29095232  0.56312781]\n",
            " [-0.32457206 -0.51324988]\n",
            " [-0.58467451 -0.4639137 ]]\n"
          ]
        }
      ],
      "source": [
        "print(\"Shape: \" + str(new_values.shape))\n",
        "print(new_values)"
      ]
    },
    {
      "cell_type": "code",
      "execution_count": 26,
      "id": "7dac16ec-b5f0-46bf-9c38-27da38b264e7",
      "metadata": {
        "scrolled": true,
        "colab": {
          "base_uri": "https://localhost:8080/"
        },
        "id": "7dac16ec-b5f0-46bf-9c38-27da38b264e7",
        "outputId": "91ad7544-969f-4a5f-82ae-75be1e75ba29"
      },
      "outputs": [
        {
          "output_type": "stream",
          "name": "stdout",
          "text": [
            "\u001b[?25l     \u001b[90m━━━━━━━━━━━━━━━━━━━━━━━━━━━━━━━━━━━━━━━━\u001b[0m \u001b[32m0.0/88.8 kB\u001b[0m \u001b[31m?\u001b[0m eta \u001b[36m-:--:--\u001b[0m\r\u001b[2K     \u001b[90m━━━━━━━━━━━━━━━━━━━━━━━━━━━━━━━━━━━━━━━━\u001b[0m \u001b[32m88.8/88.8 kB\u001b[0m \u001b[31m3.4 MB/s\u001b[0m eta \u001b[36m0:00:00\u001b[0m\n",
            "\u001b[?25h  Installing build dependencies ... \u001b[?25l\u001b[?25hdone\n",
            "  Getting requirements to build wheel ... \u001b[?25l\u001b[?25hdone\n",
            "  Installing backend dependencies ... \u001b[?25l\u001b[?25hdone\n",
            "  Preparing metadata (pyproject.toml) ... \u001b[?25l\u001b[?25hdone\n",
            "\u001b[2K     \u001b[90m━━━━━━━━━━━━━━━━━━━━━━━━━━━━━━━━━━━━━━━━\u001b[0m \u001b[32m511.6/511.6 kB\u001b[0m \u001b[31m13.3 MB/s\u001b[0m eta \u001b[36m0:00:00\u001b[0m\n",
            "\u001b[2K     \u001b[90m━━━━━━━━━━━━━━━━━━━━━━━━━━━━━━━━━━━━━━━━\u001b[0m \u001b[32m11.6/11.6 MB\u001b[0m \u001b[31m42.3 MB/s\u001b[0m eta \u001b[36m0:00:00\u001b[0m\n",
            "\u001b[2K     \u001b[90m━━━━━━━━━━━━━━━━━━━━━━━━━━━━━━━━━━━━━━━━\u001b[0m \u001b[32m1.6/1.6 MB\u001b[0m \u001b[31m60.7 MB/s\u001b[0m eta \u001b[36m0:00:00\u001b[0m\n",
            "\u001b[?25h  Building wheel for mplcursors (pyproject.toml) ... \u001b[?25l\u001b[?25hdone\n"
          ]
        }
      ],
      "source": [
        "! pip -q install matplotlib mplcursors ipympl\n"
      ]
    },
    {
      "cell_type": "code",
      "source": [
        "from google.colab import output\n",
        "output.enable_custom_widget_manager()"
      ],
      "metadata": {
        "id": "PZCl2dvyeefH"
      },
      "id": "PZCl2dvyeefH",
      "execution_count": 27,
      "outputs": []
    },
    {
      "cell_type": "code",
      "execution_count": 28,
      "id": "bc88186a-0971-49cc-8692-832335ece448",
      "metadata": {
        "colab": {
          "base_uri": "https://localhost:8080/",
          "height": 569,
          "referenced_widgets": [
            "bcaddb34d5594eb2b4ae29250247b443",
            "12592c98c50d427297bae7a772a3fff6",
            "461d2100b45949d19a17e4e1f7b40852",
            "3faeced5898c44e39ce14f3aa159722b"
          ]
        },
        "id": "bc88186a-0971-49cc-8692-832335ece448",
        "outputId": "3a739b64-f32e-42fd-f672-8f82a9834725"
      },
      "outputs": [
        {
          "output_type": "display_data",
          "data": {
            "text/plain": [
              "Canvas(toolbar=Toolbar(toolitems=[('Home', 'Reset original view', 'home', 'home'), ('Back', 'Back to previous …"
            ],
            "image/png": "[encoded data removed]",
            "text/html": [
              "\n",
              "            <div style=\"display: inline-block;\">\n",
              "                <div class=\"jupyter-widgets widget-label\" style=\"text-align: center;\">\n",
              "                    Figure\n",
              "                </div>\n",
              "                <img src='data:image/png;base64,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' width=640.0/>\n",
              "            </div>\n",
              "        "
            ],
            "application/vnd.jupyter.widget-view+json": {
              "version_major": 2,
              "version_minor": 0,
              "model_id": "bcaddb34d5594eb2b4ae29250247b443"
            }
          },
          "metadata": {
            "application/vnd.jupyter.widget-view+json": {
              "colab": {
                "custom_widget_manager": {
                  "url": "https://ssl.gstatic.com/colaboratory-static/widgets/colab-cdn-widget-manager/2b70e893a8ba7c0f/manager.min.js"
                }
              }
            }
          }
        }
      ],
      "source": [
        "import matplotlib.pyplot as plt\n",
        "import mplcursors\n",
        "%matplotlib ipympl\n",
        "\n",
        "#plt.plot(new_values[:,0], new_values[:,1], 'o')\n",
        "fig, ax = plt.subplots()\n",
        "ax.scatter(new_values[:,0], new_values[:,1])\n",
        "for i, txt in enumerate(input_text_lst_news):\n",
        "    ax.annotate(txt, (new_values[:,0][i], new_values[:,1][i]))\n",
        "\n",
        "plt.show()\n",
        "#from utils import plot_2D\n",
        "#plot_2D(new_values[:,0], new_values[:,1], input_text_lst_news)"
      ]
    },
    {
      "cell_type": "markdown",
      "id": "ac861f49-543f-45fe-9242-866a966b4e59",
      "metadata": {
        "id": "ac861f49-543f-45fe-9242-866a966b4e59"
      },
      "source": [
        "## Vector Stores\n",
        "![Cursor_and_LangChain2_L3-v3_mp4.png](https://github.com/kamran-redis/rag/blob/main/1f0fe6f9-2962-4f4d-8f2a-92dd7f19e634.png?raw=1)\n",
        "![LangChain2_L3-v3_mp4_and_DLAI_-_Learning_Platform_Beta.png](https://github.com/kamran-redis/rag/blob/main/e1dafda2-a07d-4553-b4c5-192a4b208cd1.png?raw=1)"
      ]
    },
    {
      "cell_type": "code",
      "execution_count": 29,
      "id": "1069d91a-8c20-4b1e-bc82-936beff416e1",
      "metadata": {
        "id": "1069d91a-8c20-4b1e-bc82-936beff416e1"
      },
      "outputs": [],
      "source": [
        "redis_url = \"redis://localhost:6379\"\n",
        "index_name = \"docs\""
      ]
    },
    {
      "cell_type": "code",
      "execution_count": 30,
      "id": "75eceb8b-7e76-4c47-b409-333b15a980b8",
      "metadata": {
        "id": "75eceb8b-7e76-4c47-b409-333b15a980b8"
      },
      "outputs": [],
      "source": [
        "from langchain.vectorstores.redis import Redis as RedisVectorStore\n",
        "from langchain.embeddings import HuggingFaceEmbeddings"
      ]
    },
    {
      "cell_type": "code",
      "execution_count": 31,
      "id": "03241ae3-cd4d-4d75-bb62-760fa895fcaf",
      "metadata": {
        "id": "03241ae3-cd4d-4d75-bb62-760fa895fcaf"
      },
      "outputs": [],
      "source": [
        "vectordb = RedisVectorStore.from_documents(documents=docs,\n",
        "                                embedding=getEmbeddings(),\n",
        "                                index_name=index_name,\n",
        "                                redis_url=redis_url)"
      ]
    },
    {
      "cell_type": "code",
      "source": [
        "#!redis-cli keys \"*\""
      ],
      "metadata": {
        "id": "VcfdMTrKhk8_"
      },
      "id": "VcfdMTrKhk8_",
      "execution_count": 32,
      "outputs": []
    },
    {
      "cell_type": "markdown",
      "id": "0b4c7897-92ed-4093-ab19-20393a46bee7",
      "metadata": {
        "id": "0b4c7897-92ed-4093-ab19-20393a46bee7"
      },
      "source": [
        "# Retrieval"
      ]
    },
    {
      "cell_type": "markdown",
      "id": "d01e689f-87b0-4da5-bae4-d00dd5606b74",
      "metadata": {
        "id": "d01e689f-87b0-4da5-bae4-d00dd5606b74"
      },
      "source": [
        "## Similarity Search"
      ]
    },
    {
      "cell_type": "code",
      "execution_count": 33,
      "id": "bda3176c-d444-4a19-a52a-746c665c3ad6",
      "metadata": {
        "id": "bda3176c-d444-4a19-a52a-746c665c3ad6"
      },
      "outputs": [],
      "source": [
        "#question = \"What is redis\"\n",
        "#vectordb.max_marginal_relevance_search(question,k=2,fetch_k=3)"
      ]
    },
    {
      "cell_type": "code",
      "execution_count": 34,
      "id": "e5162d01-f274-4e05-8fd4-8120fbd3c7e9",
      "metadata": {
        "colab": {
          "base_uri": "https://localhost:8080/",
          "height": 625
        },
        "id": "e5162d01-f274-4e05-8fd4-8120fbd3c7e9",
        "outputId": "11235b70-6204-4590-866c-abfc28213d5b"
      },
      "outputs": [
        {
          "output_type": "stream",
          "name": "stdout",
          "text": [
            "Setting queue=True in a Colab notebook requires sharing enabled. Setting `share=True` (you can turn this off by setting `share=False` in `launch()` explicitly).\n",
            "\n",
            "Colab notebook detected. To show errors in colab notebook, set debug=True in launch()\n",
            "Running on public URL: https://fb849e6453f5f831e4.gradio.live\n",
            "\n",
            "This share link expires in 72 hours. For free permanent hosting and GPU upgrades, run `gradio deploy` from Terminal to deploy to Spaces (https://huggingface.co/spaces)\n"
          ]
        },
        {
          "output_type": "display_data",
          "data": {
            "text/plain": [
              "<IPython.core.display.HTML object>"
            ],
            "text/html": [
              "<div><iframe src=\"https://fb849e6453f5f831e4.gradio.live\" width=\"100%\" height=\"500\" allow=\"autoplay; camera; microphone; clipboard-read; clipboard-write;\" frameborder=\"0\" allowfullscreen></iframe></div>"
            ]
          },
          "metadata": {}
        },
        {
          "output_type": "execute_result",
          "data": {
            "text/plain": []
          },
          "metadata": {},
          "execution_count": 34
        }
      ],
      "source": [
        "import gradio as gr\n",
        "\n",
        "def similaritySearch(question, k):\n",
        "    #result= vectordb.similarity_search(question,k=int(k))\n",
        "    result= vectordb.max_marginal_relevance_search(question,k=int(k),fetch_k=int(k) +1 )\n",
        "    return \"\\n\\n\".join(str(x) for x in result)\n",
        "\n",
        "\n",
        "with gr.Blocks() as demosearch:\n",
        "    documents = gr.TextArea(label=\"Documents\", max_lines=20)\n",
        "    with gr.Row():\n",
        "        search = gr.Textbox(label=\"Search\",scale=5)\n",
        "        k = gr.Number(label=\"# of Results\", maximum=100, minimum=1, value=3,scale=1)\n",
        "    with gr.Row():\n",
        "         gr.Examples([['What is a good cache?'],[\"What are the minimum requirements to install redis enterprise?\"],\n",
        "                      [\"What are the main differences between the three engine types available for the Chevy Colorado?\"]],\n",
        "                     [search],label=\"Example Searches\",)\n",
        "    with gr.Row():\n",
        "        searchBtn = gr.Button(\"Search\")\n",
        "        clearButton = gr.ClearButton(components=[documents,search], value=\"Clear\")\n",
        "    search.submit(similaritySearch, inputs=[search, k],outputs=documents)\n",
        "    searchBtn.click(similaritySearch, inputs=[search, k],outputs=documents)\n",
        "\n",
        "gr.close_all()\n",
        "demosearch.launch()"
      ]
    },
    {
      "cell_type": "markdown",
      "id": "588fa7a4-312b-4fed-87a3-60576267ff0b",
      "metadata": {
        "id": "588fa7a4-312b-4fed-87a3-60576267ff0b"
      },
      "source": [
        "# Question Answering"
      ]
    },
    {
      "cell_type": "markdown",
      "id": "1cce22aa-9ac3-4d4f-9f68-a7ef70d17d6b",
      "metadata": {
        "id": "1cce22aa-9ac3-4d4f-9f68-a7ef70d17d6b"
      },
      "source": [
        "## LLM Model"
      ]
    },
    {
      "cell_type": "markdown",
      "id": "c29cf6f6-5b0e-4da2-bdb2-9f1530ff6457",
      "metadata": {
        "id": "c29cf6f6-5b0e-4da2-bdb2-9f1530ff6457"
      },
      "source": [
        "## Add Redis Semantic Cache for prompts\n",
        "Semantic caching allows users to retrieve cached prompts based on semantic similarity between the user input and previously cached results. Under the hood it blends Redis as both a cache and a vectorstore."
      ]
    },
    {
      "cell_type": "code",
      "execution_count": 35,
      "id": "a29e51b5-4865-471d-a05a-30a15f22cdaf",
      "metadata": {
        "id": "a29e51b5-4865-471d-a05a-30a15f22cdaf"
      },
      "outputs": [],
      "source": [
        "from langchain.cache import RedisSemanticCache\n",
        "from langchain.embeddings import HuggingFaceEmbeddings\n",
        "import langchain\n",
        "\n",
        "# to delte cache redis-cli  --scan --pattern \"doc:cache:*\" -i 0.01 | xargs redis-cli  unlink\n",
        "\n",
        "langchain.llm_cache = RedisSemanticCache(\n",
        "    embedding=getEmbeddings(),\n",
        "    redis_url=redis_url\n",
        ")"
      ]
    },
    {
      "cell_type": "code",
      "execution_count": 36,
      "id": "73a88b8c-f58c-49d4-9fa9-e1a69ebef26e",
      "metadata": {
        "colab": {
          "base_uri": "https://localhost:8080/",
          "height": 625
        },
        "id": "73a88b8c-f58c-49d4-9fa9-e1a69ebef26e",
        "outputId": "b25dfef5-ad91-4d68-b4ab-6d4d91c58521"
      },
      "outputs": [
        {
          "output_type": "stream",
          "name": "stdout",
          "text": [
            "Setting queue=True in a Colab notebook requires sharing enabled. Setting `share=True` (you can turn this off by setting `share=False` in `launch()` explicitly).\n",
            "\n",
            "Colab notebook detected. To show errors in colab notebook, set debug=True in launch()\n",
            "Running on public URL: https://5093edc1c2bdb481b7.gradio.live\n",
            "\n",
            "This share link expires in 72 hours. For free permanent hosting and GPU upgrades, run `gradio deploy` from Terminal to deploy to Spaces (https://huggingface.co/spaces)\n"
          ]
        },
        {
          "output_type": "display_data",
          "data": {
            "text/plain": [
              "<IPython.core.display.HTML object>"
            ],
            "text/html": [
              "<div><iframe src=\"https://5093edc1c2bdb481b7.gradio.live\" width=\"100%\" height=\"500\" allow=\"autoplay; camera; microphone; clipboard-read; clipboard-write;\" frameborder=\"0\" allowfullscreen></iframe></div>"
            ]
          },
          "metadata": {}
        },
        {
          "output_type": "execute_result",
          "data": {
            "text/plain": []
          },
          "metadata": {},
          "execution_count": 36
        }
      ],
      "source": [
        "import gradio as gr\n",
        "from time import perf_counter_ns\n",
        "\n",
        "prompt_template = \"\"\"{prompt}\"\"\"\n",
        "\n",
        "def askLLM(prompt, temperature, top_p,max_tokens):\n",
        "    start = perf_counter_ns()\n",
        "\n",
        "    llm = getLLM(temperature, top_p, max_tokens)\n",
        "    completion= llm(prompt_template.format(prompt=prompt))\n",
        "\n",
        "    stop = perf_counter_ns()\n",
        "    elapasedTime= (stop - start) * 0.000001\n",
        "\n",
        "    return completion, elapasedTime\n",
        "\n",
        "#def clearCache():\n",
        "#    langchain.llm_cache.clear()\n",
        "\n",
        "with gr.Blocks() as demollm:\n",
        "    with gr.Row():\n",
        "        completion = gr.TextArea(label=\"Completion\")\n",
        "    with gr.Row():\n",
        "        execution_time =gr.Textbox(label=\"Execution Time(ms)\", scale=1)\n",
        "        prompt = gr.Textbox(label=\"Prompt\",scale=5, lines=3)\n",
        "    with gr.Row():\n",
        "        with gr.Column(scale=1):\n",
        "            temperature = gr.Slider(label=\"temperature\", maximum=temprature_max, minimum=0, value=temprature_default,step=0.1,scale=1)\n",
        "            top_p = gr.Slider(label=\"top_p\", maximum=top_p_max, minimum=0, value=top_p_default,step=0.05, scale=1)\n",
        "            max_tokens = gr.Slider(label=\"max_tokens\", maximum=max_tokens_max, minimum=-1, value=max_tokens_default, step=10, scale=3)\n",
        "        with gr.Column(scale=2):\n",
        "            gr.Examples([['When should I use Redis?'],[\"What is Redis?\"],\n",
        "                      [\"Argue that earth is flat\"],[\"What is the meaning of life\"]],\n",
        "                     [prompt],label=\"Example Prompts\",)\n",
        "\n",
        "    with gr.Row():\n",
        "        askButton = gr.Button(\"Submit\")\n",
        "        clearButton = gr.ClearButton(components=[completion,prompt,execution_time],value=\"Clear\")\n",
        "\n",
        "    prompt.submit(askLLM, inputs=[prompt, temperature, top_p,max_tokens],outputs=[completion,execution_time])\n",
        "    askButton.click(askLLM,  inputs=[prompt, temperature, top_p,max_tokens],outputs=[completion, execution_time])\n",
        "\n",
        "\n",
        "gr.close_all()\n",
        "demollm.launch()"
      ]
    },
    {
      "cell_type": "code",
      "source": [
        "#just for debugging purposes\n",
        "#askLLM(\"why would I use redis?\",0.8, 0.95, 256)\n",
        "#askLLM(\"why would I use redis?\",temperature, top_p, max_tokens)"
      ],
      "metadata": {
        "id": "tsoKKn7QjFYW"
      },
      "id": "tsoKKn7QjFYW",
      "execution_count": 37,
      "outputs": []
    },
    {
      "cell_type": "markdown",
      "id": "e661ffe9-686e-4a31-900f-9da8c2355a6d",
      "metadata": {
        "id": "e661ffe9-686e-4a31-900f-9da8c2355a6d"
      },
      "source": [
        "## Chat LLM Model"
      ]
    },
    {
      "cell_type": "markdown",
      "id": "bba4b776-3b88-472b-941a-670c52e4dfc7",
      "metadata": {
        "editable": true,
        "tags": [],
        "id": "bba4b776-3b88-472b-941a-670c52e4dfc7"
      },
      "source": [
        "## Run Chain\n",
        "![Cursor_and_LangChain2_L5-v3_mp4.png](https://github.com/kamran-redis/rag/blob/main/2ebb16b1-c314-41b6-848c-faa1ea88a1a5.png?raw=1)"
      ]
    },
    {
      "cell_type": "markdown",
      "id": "3cbaad49-5bc0-4218-9e7a-45d648dd530b",
      "metadata": {
        "id": "3cbaad49-5bc0-4218-9e7a-45d648dd530b"
      },
      "source": [
        "## Prompt"
      ]
    },
    {
      "cell_type": "code",
      "execution_count": 38,
      "id": "ded38214-1e12-4f01-854c-f1027056f52d",
      "metadata": {
        "id": "ded38214-1e12-4f01-854c-f1027056f52d"
      },
      "outputs": [],
      "source": [
        "from langchain.prompts import PromptTemplate\n",
        "\n",
        "# Build prompt\n",
        "template = \"\"\"Use the following pieces of context to answer the question at the end. If you don't know the answer, just say that you don't know, don't try to make up an answer. Use three sentences maximum. Keep the answer as concise as possible. Always say \"thanks for asking!\" at the end of the answer.\n",
        "{context}\n",
        "Question: {question}\n",
        "Helpful Answer:\"\"\"\n",
        "QA_CHAIN_PROMPT = PromptTemplate.from_template(template)"
      ]
    },
    {
      "cell_type": "code",
      "execution_count": 39,
      "id": "0b07f2b4-738f-4d4e-9e39-8b88c8281594",
      "metadata": {
        "colab": {
          "base_uri": "https://localhost:8080/",
          "height": 625
        },
        "id": "0b07f2b4-738f-4d4e-9e39-8b88c8281594",
        "outputId": "5b3aa2b2-98b5-4f8b-b04e-ca53c949f6eb"
      },
      "outputs": [
        {
          "output_type": "stream",
          "name": "stdout",
          "text": [
            "Setting queue=True in a Colab notebook requires sharing enabled. Setting `share=True` (you can turn this off by setting `share=False` in `launch()` explicitly).\n",
            "\n",
            "Colab notebook detected. To show errors in colab notebook, set debug=True in launch()\n",
            "Running on public URL: https://bd3c28f7520c00b77c.gradio.live\n",
            "\n",
            "This share link expires in 72 hours. For free permanent hosting and GPU upgrades, run `gradio deploy` from Terminal to deploy to Spaces (https://huggingface.co/spaces)\n"
          ]
        },
        {
          "output_type": "display_data",
          "data": {
            "text/plain": [
              "<IPython.core.display.HTML object>"
            ],
            "text/html": [
              "<div><iframe src=\"https://bd3c28f7520c00b77c.gradio.live\" width=\"100%\" height=\"500\" allow=\"autoplay; camera; microphone; clipboard-read; clipboard-write;\" frameborder=\"0\" allowfullscreen></iframe></div>"
            ]
          },
          "metadata": {}
        },
        {
          "output_type": "execute_result",
          "data": {
            "text/plain": []
          },
          "metadata": {},
          "execution_count": 39
        }
      ],
      "source": [
        "from langchain.chains import RetrievalQA\n",
        "import gradio as gr\n",
        "\n",
        "def askLLMQA(prompt,temperature, top_p,max_tokens):\n",
        "    qa_chain = RetrievalQA.from_chain_type(\n",
        "        getChatLLM(temperature, top_p,max_tokens),\n",
        "        #retriever=vectordb.as_retriever(),\n",
        "        retriever = vectordb.as_retriever(search_type=\"similarity_distance_threshold\", search_kwargs={\"k\": 4, \"distance_threshold\": 0.4}),\n",
        "        return_source_documents=True,\n",
        "        chain_type_kwargs={\"prompt\": QA_CHAIN_PROMPT},\n",
        "        verbose=True,)\n",
        "    result = qa_chain({\"query\": prompt})\n",
        "    return result[\"result\"], result[\"source_documents\"]\n",
        "\n",
        "\n",
        "with gr.Blocks() as demoRetrievalQA:\n",
        "    with gr.Tab(\"RAG\"):\n",
        "        completion = gr.TextArea(label=\"Completion\")\n",
        "        with gr.Row() as row:\n",
        "            prompt = gr.Textbox(label=\"Prompt\",scale=5)\n",
        "        with gr.Row() as row:\n",
        "            with gr.Column(scale=1):\n",
        "                temperature = gr.Slider(label=\"temperature\", maximum=temprature_max, minimum=0, value=temprature_default,step=0.05,scale=1)\n",
        "                top_p = gr.Slider(label=\"top_p\", maximum=top_p_max, minimum=0, value=top_p_default,step=0.05, scale=1)\n",
        "                max_tokens = gr.Slider(label=\"max_tokens\", maximum=max_tokens_max, minimum=-1, value=max_tokens_default, step=10, scale=1)\n",
        "            with gr.Column(scale=2):\n",
        "                gr.Examples([['What are the minimum requirements to install redis Enterprise?'],[\"What is a good cache?\"],\n",
        "                      [\"What are the main differences between the three engine types available for the Chevy Colorado?\"]],\n",
        "                     [prompt],label=\"Example Prompts\",)\n",
        "\n",
        "        with gr.Row() as row:\n",
        "            askBtn = gr.Button(\"Submit\")\n",
        "    with gr.Tab(\"Source Documents\"):\n",
        "        with gr.Row() as row:\n",
        "            documents = gr.TextArea(label=\"Source Documents\")\n",
        "    prompt.submit(askLLMQA, inputs=[prompt, temperature, top_p,max_tokens],outputs=[completion,documents])\n",
        "    askBtn.click(askLLMQA,  inputs=[prompt, temperature, top_p,max_tokens],outputs=[completion,documents])\n",
        "    clearButton = gr.ClearButton(components=[completion,prompt, documents], value=\"Clear\")\n",
        "\n",
        "gr.close_all()\n",
        "demoRetrievalQA.launch()"
      ]
    },
    {
      "cell_type": "markdown",
      "id": "f73fc330-6914-4458-ab3c-340216d9a842",
      "metadata": {
        "id": "f73fc330-6914-4458-ab3c-340216d9a842"
      },
      "source": [
        "## Add Redis Chat Memory\n",
        "![Cursor_and_LangChain2_L6-v4_mp4.png](https://github.com/kamran-redis/rag/blob/main/9c78b8fa-ebfb-4c29-bf5d-d74ac155affc.png?raw=1)"
      ]
    },
    {
      "cell_type": "code",
      "execution_count": 40,
      "id": "ec0987fb-f69f-4abc-88af-a5c484346fae",
      "metadata": {
        "id": "ec0987fb-f69f-4abc-88af-a5c484346fae"
      },
      "outputs": [],
      "source": [
        "from langchain.memory import ConversationBufferMemory\n",
        "from langchain.memory.chat_memory import ChatMessageHistory\n",
        "from langchain.memory.chat_message_histories import RedisChatMessageHistory\n",
        "message_history = RedisChatMessageHistory(url=redis_url, ttl=600, session_id=\"session-message\")\n",
        "\n",
        "#  see Memory not working with document sources chain? workaround https://github.com/langchain-ai/langchain/issues/2256\n",
        "memory = ConversationBufferMemory(\n",
        "    memory_key=\"chat_history\",\n",
        "    return_messages=True,\n",
        "    input_key=\"question\", output_key=\"answer\",\n",
        "    chat_memory=message_history\n",
        ")"
      ]
    },
    {
      "cell_type": "code",
      "execution_count": 40,
      "id": "1a11d697-fc47-4e2e-a250-da804bea9150",
      "metadata": {
        "id": "1a11d697-fc47-4e2e-a250-da804bea9150"
      },
      "outputs": [],
      "source": []
    },
    {
      "cell_type": "markdown",
      "id": "8c5f5cdd-26ec-4e05-9f71-6fbefcedc4d0",
      "metadata": {
        "scrolled": true,
        "id": "8c5f5cdd-26ec-4e05-9f71-6fbefcedc4d0"
      },
      "source": [
        "## Application"
      ]
    },
    {
      "cell_type": "code",
      "execution_count": 41,
      "id": "3b68b6a4-94dd-4bd7-9977-5f2268da90ee",
      "metadata": {
        "colab": {
          "base_uri": "https://localhost:8080/",
          "height": 625
        },
        "id": "3b68b6a4-94dd-4bd7-9977-5f2268da90ee",
        "outputId": "21bb8ad8-30c2-4ca5-ae91-29bcd022b4e8"
      },
      "outputs": [
        {
          "output_type": "stream",
          "name": "stdout",
          "text": [
            "Setting queue=True in a Colab notebook requires sharing enabled. Setting `share=True` (you can turn this off by setting `share=False` in `launch()` explicitly).\n",
            "\n",
            "Colab notebook detected. To show errors in colab notebook, set debug=True in launch()\n",
            "Running on public URL: https://96142767428534252d.gradio.live\n",
            "\n",
            "This share link expires in 72 hours. For free permanent hosting and GPU upgrades, run `gradio deploy` from Terminal to deploy to Spaces (https://huggingface.co/spaces)\n"
          ]
        },
        {
          "output_type": "display_data",
          "data": {
            "text/plain": [
              "<IPython.core.display.HTML object>"
            ],
            "text/html": [
              "<div><iframe src=\"https://96142767428534252d.gradio.live\" width=\"100%\" height=\"500\" allow=\"autoplay; camera; microphone; clipboard-read; clipboard-write;\" frameborder=\"0\" allowfullscreen></iframe></div>"
            ]
          },
          "metadata": {}
        },
        {
          "output_type": "execute_result",
          "data": {
            "text/plain": []
          },
          "metadata": {},
          "execution_count": 41
        }
      ],
      "source": [
        "langchain.llm_cache = None\n",
        "import gradio as gr\n",
        "from langchain.chains import ConversationalRetrievalChain\n",
        "\n",
        "def respond(message, chat_history,temperature, top_p,max_tokens):\n",
        "    qa = ConversationalRetrievalChain.from_llm(\n",
        "        getChatLLM(temperature, top_p,max_tokens),\n",
        "        retriever=vectordb.as_retriever(),\n",
        "        #retriever = vectordb.as_retriever(search_type=\"similarity_distance_threshold\", search_kwargs={\"k\": 4, \"distance_threshold\": 0.4}),\n",
        "        return_source_documents=True,\n",
        "        memory=memory,\n",
        "        verbose=True,\n",
        "    )\n",
        "    result  = qa({\"question\": message})\n",
        "    completion = result['answer']\n",
        "    chat_history.append((message, completion))\n",
        "    return \"\", chat_history, memory.chat_memory.messages,result[\"source_documents\"]\n",
        "\n",
        "def clearmemory():\n",
        "    memory.clear()\n",
        "\n",
        "\n",
        "with gr.Blocks() as demo:\n",
        "    with gr.Tab(\"Chat\"):\n",
        "        with gr.Row():\n",
        "            chatbot = gr.Chatbot(height=240)\n",
        "        with gr.Row():\n",
        "            msg = gr.Textbox(label=\"Prompt\")\n",
        "        with gr.Row() as row:\n",
        "            with gr.Column(scale=1):\n",
        "                temperature = gr.Slider(label=\"temperature\", maximum=temprature_max, minimum=0, value=temprature_default,step=0.05,scale=1)\n",
        "                top_p = gr.Slider(label=\"top_p\", maximum=top_p_max, minimum=0, value=top_p_default,step=0.05, scale=1)\n",
        "                max_tokens = gr.Slider(label=\"max_tokens\", maximum=max_tokens_max, minimum=-1, value=max_tokens_default, step=10, scale=1)\n",
        "            with gr.Column(scale=2):\n",
        "                gr.Examples([[\"What are the minimum requirements to install redis enterprise?\"],\n",
        "                      [\"What are the main differences between the three engine types available for the Chevy Colorado?\"],\n",
        "                     [\"What about production?\"], [\"Which one is better for towing?\"],[\"What about development\"]],\n",
        "                     [msg],label=\"Example Prompts\",)\n",
        "        btn = gr.Button(\"Submit\")\n",
        "        #gr.ChatInterface(respond)\n",
        "    with gr.Tab(\"Source Documents\"):\n",
        "        rdocs = gr.Text(label=\"Documents\", lines=20)\n",
        "    with gr.Tab(\"Memory\"):\n",
        "        memorybox = gr.Text(label=\"Memory\", lines=20)\n",
        "    clear = gr.ClearButton(components=[msg, chatbot, memorybox,rdocs], value=\"Clear \")\n",
        "    btn.click(respond, inputs=[msg, chatbot,temperature, top_p,max_tokens], outputs=[msg, chatbot,memorybox,rdocs])\n",
        "    msg.submit(respond, inputs=[msg, chatbot,temperature, top_p,max_tokens], outputs=[msg, chatbot,memorybox,rdocs])\n",
        "    clear.click(clearmemory)\n",
        "\n",
        "gr.close_all()\n",
        "demo.launch()"
      ]
    },
    {
      "cell_type": "markdown",
      "id": "99242585-d326-468e-9885-367b4ff06558",
      "metadata": {
        "id": "99242585-d326-468e-9885-367b4ff06558"
      },
      "source": [
        "![DLAI_-_Learning_Platform_Beta.png](https://github.com/kamran-redis/rag/blob/main/c637b2a9-0bce-406f-b4eb-df33c11a2fb3.png?raw=1)"
      ]
    },
    {
      "cell_type": "markdown",
      "id": "348be4cc-4ed3-4a43-af52-cf7398133d0a",
      "metadata": {
        "id": "348be4cc-4ed3-4a43-af52-cf7398133d0a"
      },
      "source": [
        "![CleanShot 2023-10-08 at 17.53.44@2x.png](https://github.com/kamran-redis/rag/blob/main/0c90b3e3-b693-4ace-887e-c6007e2276f5.png?raw=1)"
      ]
    },
    {
      "cell_type": "code",
      "execution_count": 42,
      "id": "f8b5b8f3-e06a-41d5-8b29-eb6b6c113a29",
      "metadata": {
        "colab": {
          "base_uri": "https://localhost:8080/",
          "height": 87
        },
        "id": "f8b5b8f3-e06a-41d5-8b29-eb6b6c113a29",
        "outputId": "768333bc-065c-4fc2-d168-35e84b33f22a"
      },
      "outputs": [
        {
          "output_type": "execute_result",
          "data": {
            "text/plain": [
              "'\\nimport os\\nimport openai\\nimport sys\\nfrom dotenv import load_dotenv, find_dotenv\\n_ = load_dotenv(find_dotenv()) # read local .env file\\n\\nopenai.api_type = \"azure\"\\nopenai.api_base = os.getenv(\"AZURE_OPENAI_API_BASE\")\\nopenai.api_version = \"2023-05-15\"\\nopenai.api_key = os.getenv(\"OPENAI_API_KEY\")\\nopenai.embedding_model = os.getenv(\"OPENAI_EMBEDDING_MODEL\")\\nembedding_model_deployment = os.getenv(\"EMBEDDING_MODEL_DEPLOYMENT_NAME\")\\nopenai.text_model = os.getenv(\"OPENAI_TEXT_MODEL\")\\ntext_model_deployment = os.getenv(\"TEXT_MODEL_DEPLOYMENT_NAME\")\\n'"
            ],
            "application/vnd.google.colaboratory.intrinsic+json": {
              "type": "string"
            }
          },
          "metadata": {},
          "execution_count": 42
        }
      ],
      "source": [
        "\"\"\"\n",
        "import os\n",
        "import openai\n",
        "import sys\n",
        "from dotenv import load_dotenv, find_dotenv\n",
        "_ = load_dotenv(find_dotenv()) # read local .env file\n",
        "\n",
        "openai.api_type = \"azure\"\n",
        "openai.api_base = os.getenv(\"AZURE_OPENAI_API_BASE\")\n",
        "openai.api_version = \"2023-05-15\"\n",
        "openai.api_key = os.getenv(\"OPENAI_API_KEY\")\n",
        "openai.embedding_model = os.getenv(\"OPENAI_EMBEDDING_MODEL\")\n",
        "embedding_model_deployment = os.getenv(\"EMBEDDING_MODEL_DEPLOYMENT_NAME\")\n",
        "openai.text_model = os.getenv(\"OPENAI_TEXT_MODEL\")\n",
        "text_model_deployment = os.getenv(\"TEXT_MODEL_DEPLOYMENT_NAME\")\n",
        "\"\"\"\n"
      ]
    },
    {
      "cell_type": "code",
      "execution_count": 43,
      "id": "3eb2409f-a4e8-4be5-9619-447838a66217",
      "metadata": {
        "colab": {
          "base_uri": "https://localhost:8080/",
          "height": 122
        },
        "id": "3eb2409f-a4e8-4be5-9619-447838a66217",
        "outputId": "048605e4-159d-495b-c9f4-70d469988cce"
      },
      "outputs": [
        {
          "output_type": "execute_result",
          "data": {
            "text/plain": [
              "'\\nfrom langchain.llms import AzureOpenAI\\nfrom langchain.embeddings import OpenAIEmbeddings\\nfrom langchain.chat_models import AzureChatOpenAI\\n\\ntemprature_default=1.0\\ntemprature_max=2.0\\ntop_p_default=1.0\\ntop_p_max=1.0\\nmax_tokens_default=256\\nmax_tokens_max=4000\\n\\ndef getLLM(temperature=1, top_p=1, max_tokens=256):\\n    return AzureOpenAI(\\n    deployment_name=text_model_deployment,\\n    model_name=openai.text_model,\\n    openai_api_base=openai.api_base,\\n    openai_api_key=openai.api_key,\\n    openai_api_version=openai.api_version,\\n    openai_api_type= openai.api_type,\\n    temperature=temperature, top_p=top_p, max_tokens=max_tokens,\\n    )\\ndef getChatLLM(temperature=1, top_p=1, max_tokens=256):\\n       return AzureChatOpenAI(\\n    deployment_name=text_model_deployment,\\n    model_name=openai.text_model,\\n    openai_api_base=openai.api_base,\\n    openai_api_key=openai.api_key,\\n    openai_api_version=openai.api_version,\\n    openai_api_type= openai.api_type,\\n    temperature=temperature, top_p=top_p, max_tokens=max_tokens,\\n    )\\n\\ndef getEmbeddings():\\n    return OpenAIEmbeddings(\\n    deployment=embedding_model_deployment,\\n    model=openai.embedding_model,\\n    openai_api_base=openai.api_base,\\n    openai_api_key=openai.api_key,\\n    openai_api_type= openai.api_type,\\n    chunk_size = 16,\\n    )\\n\\n'"
            ],
            "application/vnd.google.colaboratory.intrinsic+json": {
              "type": "string"
            }
          },
          "metadata": {},
          "execution_count": 43
        }
      ],
      "source": [
        "\"\"\"\n",
        "from langchain.llms import AzureOpenAI\n",
        "from langchain.embeddings import OpenAIEmbeddings\n",
        "from langchain.chat_models import AzureChatOpenAI\n",
        "\n",
        "temprature_default=1.0\n",
        "temprature_max=2.0\n",
        "top_p_default=1.0\n",
        "top_p_max=1.0\n",
        "max_tokens_default=256\n",
        "max_tokens_max=4000\n",
        "\n",
        "def getLLM(temperature=1, top_p=1, max_tokens=256):\n",
        "    return AzureOpenAI(\n",
        "    deployment_name=text_model_deployment,\n",
        "    model_name=openai.text_model,\n",
        "    openai_api_base=openai.api_base,\n",
        "    openai_api_key=openai.api_key,\n",
        "    openai_api_version=openai.api_version,\n",
        "    openai_api_type= openai.api_type,\n",
        "    temperature=temperature, top_p=top_p, max_tokens=max_tokens,\n",
        "    )\n",
        "def getChatLLM(temperature=1, top_p=1, max_tokens=256):\n",
        "       return AzureChatOpenAI(\n",
        "    deployment_name=text_model_deployment,\n",
        "    model_name=openai.text_model,\n",
        "    openai_api_base=openai.api_base,\n",
        "    openai_api_key=openai.api_key,\n",
        "    openai_api_version=openai.api_version,\n",
        "    openai_api_type= openai.api_type,\n",
        "    temperature=temperature, top_p=top_p, max_tokens=max_tokens,\n",
        "    )\n",
        "\n",
        "def getEmbeddings():\n",
        "    return OpenAIEmbeddings(\n",
        "    deployment=embedding_model_deployment,\n",
        "    model=openai.embedding_model,\n",
        "    openai_api_base=openai.api_base,\n",
        "    openai_api_key=openai.api_key,\n",
        "    openai_api_type= openai.api_type,\n",
        "    chunk_size = 16,\n",
        "    )\n",
        "\n",
        "\"\"\"\n"
      ]
    }
  ],
  "metadata": {
    "kernelspec": {
      "display_name": "Python 3",
      "name": "python3"
    },
    "language_info": {
      "codemirror_mode": {
        "name": "ipython",
        "version": 3
      },
      "file_extension": ".py",
      "mimetype": "text/x-python",
      "name": "python",
      "nbconvert_exporter": "python",
      "pygments_lexer": "ipython3",
      "version": "3.11.5"
    },
    "colab": {
      "provenance": [],
      "gpuType": "T4",
      "include_colab_link": true
    },
    "accelerator": "GPU",
    "widgets": {
      "application/vnd.jupyter.widget-state+json": {
        "b4dbc27b3e69421bbce458a33af4da29": {
          "model_module": "@jupyter-widgets/controls",
          "model_name": "HBoxModel",
          "model_module_version": "1.5.0",
          "state": {
            "_dom_classes": [],
            "_model_module": "@jupyter-widgets/controls",
            "_model_module_version": "1.5.0",
            "_model_name": "HBoxModel",
            "_view_count": null,
            "_view_module": "@jupyter-widgets/controls",
            "_view_module_version": "1.5.0",
            "_view_name": "HBoxView",
            "box_style": "",
            "children": [
              "IPY_MODEL_377170d102fd41cda78380260b6cea26",
              "IPY_MODEL_e0bbff7154e54b58b4ce3f32678dd782",
              "IPY_MODEL_84d10db0a5784dd59e3bb3f11d69282e"
            ],
            "layout": "IPY_MODEL_704fe742e4dd4b6d93c9201c158472d0"
          }
        },
        "377170d102fd41cda78380260b6cea26": {
          "model_module": "@jupyter-widgets/controls",
          "model_name": "HTMLModel",
          "model_module_version": "1.5.0",
          "state": {
            "_dom_classes": [],
            "_model_module": "@jupyter-widgets/controls",
            "_model_module_version": "1.5.0",
            "_model_name": "HTMLModel",
            "_view_count": null,
            "_view_module": "@jupyter-widgets/controls",
            "_view_module_version": "1.5.0",
            "_view_name": "HTMLView",
            "description": "",
            "description_tooltip": null,
            "layout": "IPY_MODEL_f96106be504645168476852726e6e24b",
            "placeholder": "​",
            "style": "IPY_MODEL_8996cae1bf8c409581a2748ed6daee66",
            "value": "modules.json: 100%"
          }
        },
        "e0bbff7154e54b58b4ce3f32678dd782": {
          "model_module": "@jupyter-widgets/controls",
          "model_name": "FloatProgressModel",
          "model_module_version": "1.5.0",
          "state": {
            "_dom_classes": [],
            "_model_module": "@jupyter-widgets/controls",
            "_model_module_version": "1.5.0",
            "_model_name": "FloatProgressModel",
            "_view_count": null,
            "_view_module": "@jupyter-widgets/controls",
            "_view_module_version": "1.5.0",
            "_view_name": "ProgressView",
            "bar_style": "success",
            "description": "",
            "description_tooltip": null,
            "layout": "IPY_MODEL_58cf3df33a864e08bdc55dd83c69cac2",
            "max": 349,
            "min": 0,
            "orientation": "horizontal",
            "style": "IPY_MODEL_23849062576946d48cccab1e24bfca53",
            "value": 349
          }
        },
        "84d10db0a5784dd59e3bb3f11d69282e": {
          "model_module": "@jupyter-widgets/controls",
          "model_name": "HTMLModel",
          "model_module_version": "1.5.0",
          "state": {
            "_dom_classes": [],
            "_model_module": "@jupyter-widgets/controls",
            "_model_module_version": "1.5.0",
            "_model_name": "HTMLModel",
            "_view_count": null,
            "_view_module": "@jupyter-widgets/controls",
            "_view_module_version": "1.5.0",
            "_view_name": "HTMLView",
            "description": "",
            "description_tooltip": null,
            "layout": "IPY_MODEL_0bf8e1ef19174c82be183d761e82e844",
            "placeholder": "​",
            "style": "IPY_MODEL_a0a5a17810bd4b5c8aa91a0a2f2d3778",
            "value": " 349/349 [00:00&lt;00:00, 23.0kB/s]"
          }
        },
        "704fe742e4dd4b6d93c9201c158472d0": {
          "model_module": "@jupyter-widgets/base",
          "model_name": "LayoutModel",
          "model_module_version": "1.2.0",
          "state": {
            "_model_module": "@jupyter-widgets/base",
            "_model_module_version": "1.2.0",
            "_model_name": "LayoutModel",
            "_view_count": null,
            "_view_module": "@jupyter-widgets/base",
            "_view_module_version": "1.2.0",
            "_view_name": "LayoutView",
            "align_content": null,
            "align_items": null,
            "align_self": null,
            "border": null,
            "bottom": null,
            "display": null,
            "flex": null,
            "flex_flow": null,
            "grid_area": null,
            "grid_auto_columns": null,
            "grid_auto_flow": null,
            "grid_auto_rows": null,
            "grid_column": null,
            "grid_gap": null,
            "grid_row": null,
            "grid_template_areas": null,
            "grid_template_columns": null,
            "grid_template_rows": null,
            "height": null,
            "justify_content": null,
            "justify_items": null,
            "left": null,
            "margin": null,
            "max_height": null,
            "max_width": null,
            "min_height": null,
            "min_width": null,
            "object_fit": null,
            "object_position": null,
            "order": null,
            "overflow": null,
            "overflow_x": null,
            "overflow_y": null,
            "padding": null,
            "right": null,
            "top": null,
            "visibility": null,
            "width": null
          }
        },
        "f96106be504645168476852726e6e24b": {
          "model_module": "@jupyter-widgets/base",
          "model_name": "LayoutModel",
          "model_module_version": "1.2.0",
          "state": {
            "_model_module": "@jupyter-widgets/base",
            "_model_module_version": "1.2.0",
            "_model_name": "LayoutModel",
            "_view_count": null,
            "_view_module": "@jupyter-widgets/base",
            "_view_module_version": "1.2.0",
            "_view_name": "LayoutView",
            "align_content": null,
            "align_items": null,
            "align_self": null,
            "border": null,
            "bottom": null,
            "display": null,
            "flex": null,
            "flex_flow": null,
            "grid_area": null,
            "grid_auto_columns": null,
            "grid_auto_flow": null,
            "grid_auto_rows": null,
            "grid_column": null,
            "grid_gap": null,
            "grid_row": null,
            "grid_template_areas": null,
            "grid_template_columns": null,
            "grid_template_rows": null,
            "height": null,
            "justify_content": null,
            "justify_items": null,
            "left": null,
            "margin": null,
            "max_height": null,
            "max_width": null,
            "min_height": null,
            "min_width": null,
            "object_fit": null,
            "object_position": null,
            "order": null,
            "overflow": null,
            "overflow_x": null,
            "overflow_y": null,
            "padding": null,
            "right": null,
            "top": null,
            "visibility": null,
            "width": null
          }
        },
        "8996cae1bf8c409581a2748ed6daee66": {
          "model_module": "@jupyter-widgets/controls",
          "model_name": "DescriptionStyleModel",
          "model_module_version": "1.5.0",
          "state": {
            "_model_module": "@jupyter-widgets/controls",
            "_model_module_version": "1.5.0",
            "_model_name": "DescriptionStyleModel",
            "_view_count": null,
            "_view_module": "@jupyter-widgets/base",
            "_view_module_version": "1.2.0",
            "_view_name": "StyleView",
            "description_width": ""
          }
        },
        "58cf3df33a864e08bdc55dd83c69cac2": {
          "model_module": "@jupyter-widgets/base",
          "model_name": "LayoutModel",
          "model_module_version": "1.2.0",
          "state": {
            "_model_module": "@jupyter-widgets/base",
            "_model_module_version": "1.2.0",
            "_model_name": "LayoutModel",
            "_view_count": null,
            "_view_module": "@jupyter-widgets/base",
            "_view_module_version": "1.2.0",
            "_view_name": "LayoutView",
            "align_content": null,
            "align_items": null,
            "align_self": null,
            "border": null,
            "bottom": null,
            "display": null,
            "flex": null,
            "flex_flow": null,
            "grid_area": null,
            "grid_auto_columns": null,
            "grid_auto_flow": null,
            "grid_auto_rows": null,
            "grid_column": null,
            "grid_gap": null,
            "grid_row": null,
            "grid_template_areas": null,
            "grid_template_columns": null,
            "grid_template_rows": null,
            "height": null,
            "justify_content": null,
            "justify_items": null,
            "left": null,
            "margin": null,
            "max_height": null,
            "max_width": null,
            "min_height": null,
            "min_width": null,
            "object_fit": null,
            "object_position": null,
            "order": null,
            "overflow": null,
            "overflow_x": null,
            "overflow_y": null,
            "padding": null,
            "right": null,
            "top": null,
            "visibility": null,
            "width": null
          }
        },
        "23849062576946d48cccab1e24bfca53": {
          "model_module": "@jupyter-widgets/controls",
          "model_name": "ProgressStyleModel",
          "model_module_version": "1.5.0",
          "state": {
            "_model_module": "@jupyter-widgets/controls",
            "_model_module_version": "1.5.0",
            "_model_name": "ProgressStyleModel",
            "_view_count": null,
            "_view_module": "@jupyter-widgets/base",
            "_view_module_version": "1.2.0",
            "_view_name": "StyleView",
            "bar_color": null,
            "description_width": ""
          }
        },
        "0bf8e1ef19174c82be183d761e82e844": {
          "model_module": "@jupyter-widgets/base",
          "model_name": "LayoutModel",
          "model_module_version": "1.2.0",
          "state": {
            "_model_module": "@jupyter-widgets/base",
            "_model_module_version": "1.2.0",
            "_model_name": "LayoutModel",
            "_view_count": null,
            "_view_module": "@jupyter-widgets/base",
            "_view_module_version": "1.2.0",
            "_view_name": "LayoutView",
            "align_content": null,
            "align_items": null,
            "align_self": null,
            "border": null,
            "bottom": null,
            "display": null,
            "flex": null,
            "flex_flow": null,
            "grid_area": null,
            "grid_auto_columns": null,
            "grid_auto_flow": null,
            "grid_auto_rows": null,
            "grid_column": null,
            "grid_gap": null,
            "grid_row": null,
            "grid_template_areas": null,
            "grid_template_columns": null,
            "grid_template_rows": null,
            "height": null,
            "justify_content": null,
            "justify_items": null,
            "left": null,
            "margin": null,
            "max_height": null,
            "max_width": null,
            "min_height": null,
            "min_width": null,
            "object_fit": null,
            "object_position": null,
            "order": null,
            "overflow": null,
            "overflow_x": null,
            "overflow_y": null,
            "padding": null,
            "right": null,
            "top": null,
            "visibility": null,
            "width": null
          }
        },
        "a0a5a17810bd4b5c8aa91a0a2f2d3778": {
          "model_module": "@jupyter-widgets/controls",
          "model_name": "DescriptionStyleModel",
          "model_module_version": "1.5.0",
          "state": {
            "_model_module": "@jupyter-widgets/controls",
            "_model_module_version": "1.5.0",
            "_model_name": "DescriptionStyleModel",
            "_view_count": null,
            "_view_module": "@jupyter-widgets/base",
            "_view_module_version": "1.2.0",
            "_view_name": "StyleView",
            "description_width": ""
          }
        },
        "f354a7c26507495fac259b5baad17891": {
          "model_module": "@jupyter-widgets/controls",
          "model_name": "HBoxModel",
          "model_module_version": "1.5.0",
          "state": {
            "_dom_classes": [],
            "_model_module": "@jupyter-widgets/controls",
            "_model_module_version": "1.5.0",
            "_model_name": "HBoxModel",
            "_view_count": null,
            "_view_module": "@jupyter-widgets/controls",
            "_view_module_version": "1.5.0",
            "_view_name": "HBoxView",
            "box_style": "",
            "children": [
              "IPY_MODEL_7fc9b7e925454b558991253333efbf14",
              "IPY_MODEL_81bfeb147af84bd98e5456d4fc3876ad",
              "IPY_MODEL_dadf0a7f411749f59331ef68cb728d2d"
            ],
            "layout": "IPY_MODEL_ce89e943434d44f1b1b69e0c09e2e579"
          }
        },
        "7fc9b7e925454b558991253333efbf14": {
          "model_module": "@jupyter-widgets/controls",
          "model_name": "HTMLModel",
          "model_module_version": "1.5.0",
          "state": {
            "_dom_classes": [],
            "_model_module": "@jupyter-widgets/controls",
            "_model_module_version": "1.5.0",
            "_model_name": "HTMLModel",
            "_view_count": null,
            "_view_module": "@jupyter-widgets/controls",
            "_view_module_version": "1.5.0",
            "_view_name": "HTMLView",
            "description": "",
            "description_tooltip": null,
            "layout": "IPY_MODEL_e22723b5f4f74f849e7a7adedcc82eae",
            "placeholder": "​",
            "style": "IPY_MODEL_6a4c5d4042fa4f80a544dbdf919cffe2",
            "value": "config_sentence_transformers.json: 100%"
          }
        },
        "81bfeb147af84bd98e5456d4fc3876ad": {
          "model_module": "@jupyter-widgets/controls",
          "model_name": "FloatProgressModel",
          "model_module_version": "1.5.0",
          "state": {
            "_dom_classes": [],
            "_model_module": "@jupyter-widgets/controls",
            "_model_module_version": "1.5.0",
            "_model_name": "FloatProgressModel",
            "_view_count": null,
            "_view_module": "@jupyter-widgets/controls",
            "_view_module_version": "1.5.0",
            "_view_name": "ProgressView",
            "bar_style": "success",
            "description": "",
            "description_tooltip": null,
            "layout": "IPY_MODEL_ba5cb61264634ba79ba4c2514f17f4d5",
            "max": 116,
            "min": 0,
            "orientation": "horizontal",
            "style": "IPY_MODEL_7993e945e0b84a20ba1a7a465ad527dd",
            "value": 116
          }
        },
        "dadf0a7f411749f59331ef68cb728d2d": {
          "model_module": "@jupyter-widgets/controls",
          "model_name": "HTMLModel",
          "model_module_version": "1.5.0",
          "state": {
            "_dom_classes": [],
            "_model_module": "@jupyter-widgets/controls",
            "_model_module_version": "1.5.0",
            "_model_name": "HTMLModel",
            "_view_count": null,
            "_view_module": "@jupyter-widgets/controls",
            "_view_module_version": "1.5.0",
            "_view_name": "HTMLView",
            "description": "",
            "description_tooltip": null,
            "layout": "IPY_MODEL_1fc39dd0983a4c76b27aec4bfddaac9c",
            "placeholder": "​",
            "style": "IPY_MODEL_751fa635846b4e608ee8def85fb158a7",
            "value": " 116/116 [00:00&lt;00:00, 8.58kB/s]"
          }
        },
        "ce89e943434d44f1b1b69e0c09e2e579": {
          "model_module": "@jupyter-widgets/base",
          "model_name": "LayoutModel",
          "model_module_version": "1.2.0",
          "state": {
            "_model_module": "@jupyter-widgets/base",
            "_model_module_version": "1.2.0",
            "_model_name": "LayoutModel",
            "_view_count": null,
            "_view_module": "@jupyter-widgets/base",
            "_view_module_version": "1.2.0",
            "_view_name": "LayoutView",
            "align_content": null,
            "align_items": null,
            "align_self": null,
            "border": null,
            "bottom": null,
            "display": null,
            "flex": null,
            "flex_flow": null,
            "grid_area": null,
            "grid_auto_columns": null,
            "grid_auto_flow": null,
            "grid_auto_rows": null,
            "grid_column": null,
            "grid_gap": null,
            "grid_row": null,
            "grid_template_areas": null,
            "grid_template_columns": null,
            "grid_template_rows": null,
            "height": null,
            "justify_content": null,
            "justify_items": null,
            "left": null,
            "margin": null,
            "max_height": null,
            "max_width": null,
            "min_height": null,
            "min_width": null,
            "object_fit": null,
            "object_position": null,
            "order": null,
            "overflow": null,
            "overflow_x": null,
            "overflow_y": null,
            "padding": null,
            "right": null,
            "top": null,
            "visibility": null,
            "width": null
          }
        },
        "e22723b5f4f74f849e7a7adedcc82eae": {
          "model_module": "@jupyter-widgets/base",
          "model_name": "LayoutModel",
          "model_module_version": "1.2.0",
          "state": {
            "_model_module": "@jupyter-widgets/base",
            "_model_module_version": "1.2.0",
            "_model_name": "LayoutModel",
            "_view_count": null,
            "_view_module": "@jupyter-widgets/base",
            "_view_module_version": "1.2.0",
            "_view_name": "LayoutView",
            "align_content": null,
            "align_items": null,
            "align_self": null,
            "border": null,
            "bottom": null,
            "display": null,
            "flex": null,
            "flex_flow": null,
            "grid_area": null,
            "grid_auto_columns": null,
            "grid_auto_flow": null,
            "grid_auto_rows": null,
            "grid_column": null,
            "grid_gap": null,
            "grid_row": null,
            "grid_template_areas": null,
            "grid_template_columns": null,
            "grid_template_rows": null,
            "height": null,
            "justify_content": null,
            "justify_items": null,
            "left": null,
            "margin": null,
            "max_height": null,
            "max_width": null,
            "min_height": null,
            "min_width": null,
            "object_fit": null,
            "object_position": null,
            "order": null,
            "overflow": null,
            "overflow_x": null,
            "overflow_y": null,
            "padding": null,
            "right": null,
            "top": null,
            "visibility": null,
            "width": null
          }
        },
        "6a4c5d4042fa4f80a544dbdf919cffe2": {
          "model_module": "@jupyter-widgets/controls",
          "model_name": "DescriptionStyleModel",
          "model_module_version": "1.5.0",
          "state": {
            "_model_module": "@jupyter-widgets/controls",
            "_model_module_version": "1.5.0",
            "_model_name": "DescriptionStyleModel",
            "_view_count": null,
            "_view_module": "@jupyter-widgets/base",
            "_view_module_version": "1.2.0",
            "_view_name": "StyleView",
            "description_width": ""
          }
        },
        "ba5cb61264634ba79ba4c2514f17f4d5": {
          "model_module": "@jupyter-widgets/base",
          "model_name": "LayoutModel",
          "model_module_version": "1.2.0",
          "state": {
            "_model_module": "@jupyter-widgets/base",
            "_model_module_version": "1.2.0",
            "_model_name": "LayoutModel",
            "_view_count": null,
            "_view_module": "@jupyter-widgets/base",
            "_view_module_version": "1.2.0",
            "_view_name": "LayoutView",
            "align_content": null,
            "align_items": null,
            "align_self": null,
            "border": null,
            "bottom": null,
            "display": null,
            "flex": null,
            "flex_flow": null,
            "grid_area": null,
            "grid_auto_columns": null,
            "grid_auto_flow": null,
            "grid_auto_rows": null,
            "grid_column": null,
            "grid_gap": null,
            "grid_row": null,
            "grid_template_areas": null,
            "grid_template_columns": null,
            "grid_template_rows": null,
            "height": null,
            "justify_content": null,
            "justify_items": null,
            "left": null,
            "margin": null,
            "max_height": null,
            "max_width": null,
            "min_height": null,
            "min_width": null,
            "object_fit": null,
            "object_position": null,
            "order": null,
            "overflow": null,
            "overflow_x": null,
            "overflow_y": null,
            "padding": null,
            "right": null,
            "top": null,
            "visibility": null,
            "width": null
          }
        },
        "7993e945e0b84a20ba1a7a465ad527dd": {
          "model_module": "@jupyter-widgets/controls",
          "model_name": "ProgressStyleModel",
          "model_module_version": "1.5.0",
          "state": {
            "_model_module": "@jupyter-widgets/controls",
            "_model_module_version": "1.5.0",
            "_model_name": "ProgressStyleModel",
            "_view_count": null,
            "_view_module": "@jupyter-widgets/base",
            "_view_module_version": "1.2.0",
            "_view_name": "StyleView",
            "bar_color": null,
            "description_width": ""
          }
        },
        "1fc39dd0983a4c76b27aec4bfddaac9c": {
          "model_module": "@jupyter-widgets/base",
          "model_name": "LayoutModel",
          "model_module_version": "1.2.0",
          "state": {
            "_model_module": "@jupyter-widgets/base",
            "_model_module_version": "1.2.0",
            "_model_name": "LayoutModel",
            "_view_count": null,
            "_view_module": "@jupyter-widgets/base",
            "_view_module_version": "1.2.0",
            "_view_name": "LayoutView",
            "align_content": null,
            "align_items": null,
            "align_self": null,
            "border": null,
            "bottom": null,
            "display": null,
            "flex": null,
            "flex_flow": null,
            "grid_area": null,
            "grid_auto_columns": null,
            "grid_auto_flow": null,
            "grid_auto_rows": null,
            "grid_column": null,
            "grid_gap": null,
            "grid_row": null,
            "grid_template_areas": null,
            "grid_template_columns": null,
            "grid_template_rows": null,
            "height": null,
            "justify_content": null,
            "justify_items": null,
            "left": null,
            "margin": null,
            "max_height": null,
            "max_width": null,
            "min_height": null,
            "min_width": null,
            "object_fit": null,
            "object_position": null,
            "order": null,
            "overflow": null,
            "overflow_x": null,
            "overflow_y": null,
            "padding": null,
            "right": null,
            "top": null,
            "visibility": null,
            "width": null
          }
        },
        "751fa635846b4e608ee8def85fb158a7": {
          "model_module": "@jupyter-widgets/controls",
          "model_name": "DescriptionStyleModel",
          "model_module_version": "1.5.0",
          "state": {
            "_model_module": "@jupyter-widgets/controls",
            "_model_module_version": "1.5.0",
            "_model_name": "DescriptionStyleModel",
            "_view_count": null,
            "_view_module": "@jupyter-widgets/base",
            "_view_module_version": "1.2.0",
            "_view_name": "StyleView",
            "description_width": ""
          }
        },
        "8fac07871c724b7596f71bfc41da9231": {
          "model_module": "@jupyter-widgets/controls",
          "model_name": "HBoxModel",
          "model_module_version": "1.5.0",
          "state": {
            "_dom_classes": [],
            "_model_module": "@jupyter-widgets/controls",
            "_model_module_version": "1.5.0",
            "_model_name": "HBoxModel",
            "_view_count": null,
            "_view_module": "@jupyter-widgets/controls",
            "_view_module_version": "1.5.0",
            "_view_name": "HBoxView",
            "box_style": "",
            "children": [
              "IPY_MODEL_571234e40e8b431088d16059ed296432",
              "IPY_MODEL_a5fa89a0b336482a8c13308a72691e8d",
              "IPY_MODEL_124c187590dd4b9488c88b995550db54"
            ],
            "layout": "IPY_MODEL_334f178286d2457082b9fdcc42dd925d"
          }
        },
        "571234e40e8b431088d16059ed296432": {
          "model_module": "@jupyter-widgets/controls",
          "model_name": "HTMLModel",
          "model_module_version": "1.5.0",
          "state": {
            "_dom_classes": [],
            "_model_module": "@jupyter-widgets/controls",
            "_model_module_version": "1.5.0",
            "_model_name": "HTMLModel",
            "_view_count": null,
            "_view_module": "@jupyter-widgets/controls",
            "_view_module_version": "1.5.0",
            "_view_name": "HTMLView",
            "description": "",
            "description_tooltip": null,
            "layout": "IPY_MODEL_4b4be9555f1140629897c852377929b5",
            "placeholder": "​",
            "style": "IPY_MODEL_312e07fe428443e5a19ab67ad4adcf40",
            "value": "README.md: 100%"
          }
        },
        "a5fa89a0b336482a8c13308a72691e8d": {
          "model_module": "@jupyter-widgets/controls",
          "model_name": "FloatProgressModel",
          "model_module_version": "1.5.0",
          "state": {
            "_dom_classes": [],
            "_model_module": "@jupyter-widgets/controls",
            "_model_module_version": "1.5.0",
            "_model_name": "FloatProgressModel",
            "_view_count": null,
            "_view_module": "@jupyter-widgets/controls",
            "_view_module_version": "1.5.0",
            "_view_name": "ProgressView",
            "bar_style": "success",
            "description": "",
            "description_tooltip": null,
            "layout": "IPY_MODEL_f2ed84074b124f7b97cf11003c5750a6",
            "max": 10621,
            "min": 0,
            "orientation": "horizontal",
            "style": "IPY_MODEL_25a9a453b6fb4980b3d40f031eceaa44",
            "value": 10621
          }
        },
        "124c187590dd4b9488c88b995550db54": {
          "model_module": "@jupyter-widgets/controls",
          "model_name": "HTMLModel",
          "model_module_version": "1.5.0",
          "state": {
            "_dom_classes": [],
            "_model_module": "@jupyter-widgets/controls",
            "_model_module_version": "1.5.0",
            "_model_name": "HTMLModel",
            "_view_count": null,
            "_view_module": "@jupyter-widgets/controls",
            "_view_module_version": "1.5.0",
            "_view_name": "HTMLView",
            "description": "",
            "description_tooltip": null,
            "layout": "IPY_MODEL_bf19a2ee96a649898266935cc308e303",
            "placeholder": "​",
            "style": "IPY_MODEL_e2ff8be20dfe4eada6e81f4ed956e271",
            "value": " 10.6k/10.6k [00:00&lt;00:00, 720kB/s]"
          }
        },
        "334f178286d2457082b9fdcc42dd925d": {
          "model_module": "@jupyter-widgets/base",
          "model_name": "LayoutModel",
          "model_module_version": "1.2.0",
          "state": {
            "_model_module": "@jupyter-widgets/base",
            "_model_module_version": "1.2.0",
            "_model_name": "LayoutModel",
            "_view_count": null,
            "_view_module": "@jupyter-widgets/base",
            "_view_module_version": "1.2.0",
            "_view_name": "LayoutView",
            "align_content": null,
            "align_items": null,
            "align_self": null,
            "border": null,
            "bottom": null,
            "display": null,
            "flex": null,
            "flex_flow": null,
            "grid_area": null,
            "grid_auto_columns": null,
            "grid_auto_flow": null,
            "grid_auto_rows": null,
            "grid_column": null,
            "grid_gap": null,
            "grid_row": null,
            "grid_template_areas": null,
            "grid_template_columns": null,
            "grid_template_rows": null,
            "height": null,
            "justify_content": null,
            "justify_items": null,
            "left": null,
            "margin": null,
            "max_height": null,
            "max_width": null,
            "min_height": null,
            "min_width": null,
            "object_fit": null,
            "object_position": null,
            "order": null,
            "overflow": null,
            "overflow_x": null,
            "overflow_y": null,
            "padding": null,
            "right": null,
            "top": null,
            "visibility": null,
            "width": null
          }
        },
        "4b4be9555f1140629897c852377929b5": {
          "model_module": "@jupyter-widgets/base",
          "model_name": "LayoutModel",
          "model_module_version": "1.2.0",
          "state": {
            "_model_module": "@jupyter-widgets/base",
            "_model_module_version": "1.2.0",
            "_model_name": "LayoutModel",
            "_view_count": null,
            "_view_module": "@jupyter-widgets/base",
            "_view_module_version": "1.2.0",
            "_view_name": "LayoutView",
            "align_content": null,
            "align_items": null,
            "align_self": null,
            "border": null,
            "bottom": null,
            "display": null,
            "flex": null,
            "flex_flow": null,
            "grid_area": null,
            "grid_auto_columns": null,
            "grid_auto_flow": null,
            "grid_auto_rows": null,
            "grid_column": null,
            "grid_gap": null,
            "grid_row": null,
            "grid_template_areas": null,
            "grid_template_columns": null,
            "grid_template_rows": null,
            "height": null,
            "justify_content": null,
            "justify_items": null,
            "left": null,
            "margin": null,
            "max_height": null,
            "max_width": null,
            "min_height": null,
            "min_width": null,
            "object_fit": null,
            "object_position": null,
            "order": null,
            "overflow": null,
            "overflow_x": null,
            "overflow_y": null,
            "padding": null,
            "right": null,
            "top": null,
            "visibility": null,
            "width": null
          }
        },
        "312e07fe428443e5a19ab67ad4adcf40": {
          "model_module": "@jupyter-widgets/controls",
          "model_name": "DescriptionStyleModel",
          "model_module_version": "1.5.0",
          "state": {
            "_model_module": "@jupyter-widgets/controls",
            "_model_module_version": "1.5.0",
            "_model_name": "DescriptionStyleModel",
            "_view_count": null,
            "_view_module": "@jupyter-widgets/base",
            "_view_module_version": "1.2.0",
            "_view_name": "StyleView",
            "description_width": ""
          }
        },
        "f2ed84074b124f7b97cf11003c5750a6": {
          "model_module": "@jupyter-widgets/base",
          "model_name": "LayoutModel",
          "model_module_version": "1.2.0",
          "state": {
            "_model_module": "@jupyter-widgets/base",
            "_model_module_version": "1.2.0",
            "_model_name": "LayoutModel",
            "_view_count": null,
            "_view_module": "@jupyter-widgets/base",
            "_view_module_version": "1.2.0",
            "_view_name": "LayoutView",
            "align_content": null,
            "align_items": null,
            "align_self": null,
            "border": null,
            "bottom": null,
            "display": null,
            "flex": null,
            "flex_flow": null,
            "grid_area": null,
            "grid_auto_columns": null,
            "grid_auto_flow": null,
            "grid_auto_rows": null,
            "grid_column": null,
            "grid_gap": null,
            "grid_row": null,
            "grid_template_areas": null,
            "grid_template_columns": null,
            "grid_template_rows": null,
            "height": null,
            "justify_content": null,
            "justify_items": null,
            "left": null,
            "margin": null,
            "max_height": null,
            "max_width": null,
            "min_height": null,
            "min_width": null,
            "object_fit": null,
            "object_position": null,
            "order": null,
            "overflow": null,
            "overflow_x": null,
            "overflow_y": null,
            "padding": null,
            "right": null,
            "top": null,
            "visibility": null,
            "width": null
          }
        },
        "25a9a453b6fb4980b3d40f031eceaa44": {
          "model_module": "@jupyter-widgets/controls",
          "model_name": "ProgressStyleModel",
          "model_module_version": "1.5.0",
          "state": {
            "_model_module": "@jupyter-widgets/controls",
            "_model_module_version": "1.5.0",
            "_model_name": "ProgressStyleModel",
            "_view_count": null,
            "_view_module": "@jupyter-widgets/base",
            "_view_module_version": "1.2.0",
            "_view_name": "StyleView",
            "bar_color": null,
            "description_width": ""
          }
        },
        "bf19a2ee96a649898266935cc308e303": {
          "model_module": "@jupyter-widgets/base",
          "model_name": "LayoutModel",
          "model_module_version": "1.2.0",
          "state": {
            "_model_module": "@jupyter-widgets/base",
            "_model_module_version": "1.2.0",
            "_model_name": "LayoutModel",
            "_view_count": null,
            "_view_module": "@jupyter-widgets/base",
            "_view_module_version": "1.2.0",
            "_view_name": "LayoutView",
            "align_content": null,
            "align_items": null,
            "align_self": null,
            "border": null,
            "bottom": null,
            "display": null,
            "flex": null,
            "flex_flow": null,
            "grid_area": null,
            "grid_auto_columns": null,
            "grid_auto_flow": null,
            "grid_auto_rows": null,
            "grid_column": null,
            "grid_gap": null,
            "grid_row": null,
            "grid_template_areas": null,
            "grid_template_columns": null,
            "grid_template_rows": null,
            "height": null,
            "justify_content": null,
            "justify_items": null,
            "left": null,
            "margin": null,
            "max_height": null,
            "max_width": null,
            "min_height": null,
            "min_width": null,
            "object_fit": null,
            "object_position": null,
            "order": null,
            "overflow": null,
            "overflow_x": null,
            "overflow_y": null,
            "padding": null,
            "right": null,
            "top": null,
            "visibility": null,
            "width": null
          }
        },
        "e2ff8be20dfe4eada6e81f4ed956e271": {
          "model_module": "@jupyter-widgets/controls",
          "model_name": "DescriptionStyleModel",
          "model_module_version": "1.5.0",
          "state": {
            "_model_module": "@jupyter-widgets/controls",
            "_model_module_version": "1.5.0",
            "_model_name": "DescriptionStyleModel",
            "_view_count": null,
            "_view_module": "@jupyter-widgets/base",
            "_view_module_version": "1.2.0",
            "_view_name": "StyleView",
            "description_width": ""
          }
        },
        "6ac8bf5169cb4d168c09fe597d0d4fd1": {
          "model_module": "@jupyter-widgets/controls",
          "model_name": "HBoxModel",
          "model_module_version": "1.5.0",
          "state": {
            "_dom_classes": [],
            "_model_module": "@jupyter-widgets/controls",
            "_model_module_version": "1.5.0",
            "_model_name": "HBoxModel",
            "_view_count": null,
            "_view_module": "@jupyter-widgets/controls",
            "_view_module_version": "1.5.0",
            "_view_name": "HBoxView",
            "box_style": "",
            "children": [
              "IPY_MODEL_d80abd2bbb5c40b6ac5572f276610447",
              "IPY_MODEL_7a042db6990344d3b1a2c5df7c368431",
              "IPY_MODEL_56f59e6328a34e5c80f3a90289224bf8"
            ],
            "layout": "IPY_MODEL_5211444e17e8492cb03d4666ec21384e"
          }
        },
        "d80abd2bbb5c40b6ac5572f276610447": {
          "model_module": "@jupyter-widgets/controls",
          "model_name": "HTMLModel",
          "model_module_version": "1.5.0",
          "state": {
            "_dom_classes": [],
            "_model_module": "@jupyter-widgets/controls",
            "_model_module_version": "1.5.0",
            "_model_name": "HTMLModel",
            "_view_count": null,
            "_view_module": "@jupyter-widgets/controls",
            "_view_module_version": "1.5.0",
            "_view_name": "HTMLView",
            "description": "",
            "description_tooltip": null,
            "layout": "IPY_MODEL_f365d2de8eac468a87e92ded0ad74403",
            "placeholder": "​",
            "style": "IPY_MODEL_405449ffa19a4c9d8e75b3d983ef3cd5",
            "value": "sentence_bert_config.json: 100%"
          }
        },
        "7a042db6990344d3b1a2c5df7c368431": {
          "model_module": "@jupyter-widgets/controls",
          "model_name": "FloatProgressModel",
          "model_module_version": "1.5.0",
          "state": {
            "_dom_classes": [],
            "_model_module": "@jupyter-widgets/controls",
            "_model_module_version": "1.5.0",
            "_model_name": "FloatProgressModel",
            "_view_count": null,
            "_view_module": "@jupyter-widgets/controls",
            "_view_module_version": "1.5.0",
            "_view_name": "ProgressView",
            "bar_style": "success",
            "description": "",
            "description_tooltip": null,
            "layout": "IPY_MODEL_41a8c06843fb4bb489e36d08c6add837",
            "max": 53,
            "min": 0,
            "orientation": "horizontal",
            "style": "IPY_MODEL_b80a75c4b732431a865fc351c8ac3db7",
            "value": 53
          }
        },
        "56f59e6328a34e5c80f3a90289224bf8": {
          "model_module": "@jupyter-widgets/controls",
          "model_name": "HTMLModel",
          "model_module_version": "1.5.0",
          "state": {
            "_dom_classes": [],
            "_model_module": "@jupyter-widgets/controls",
            "_model_module_version": "1.5.0",
            "_model_name": "HTMLModel",
            "_view_count": null,
            "_view_module": "@jupyter-widgets/controls",
            "_view_module_version": "1.5.0",
            "_view_name": "HTMLView",
            "description": "",
            "description_tooltip": null,
            "layout": "IPY_MODEL_30333a7647c245c5bdfe7e85fd7aef61",
            "placeholder": "​",
            "style": "IPY_MODEL_236c22556d164c1dba412a58c8369e09",
            "value": " 53.0/53.0 [00:00&lt;00:00, 3.90kB/s]"
          }
        },
        "5211444e17e8492cb03d4666ec21384e": {
          "model_module": "@jupyter-widgets/base",
          "model_name": "LayoutModel",
          "model_module_version": "1.2.0",
          "state": {
            "_model_module": "@jupyter-widgets/base",
            "_model_module_version": "1.2.0",
            "_model_name": "LayoutModel",
            "_view_count": null,
            "_view_module": "@jupyter-widgets/base",
            "_view_module_version": "1.2.0",
            "_view_name": "LayoutView",
            "align_content": null,
            "align_items": null,
            "align_self": null,
            "border": null,
            "bottom": null,
            "display": null,
            "flex": null,
            "flex_flow": null,
            "grid_area": null,
            "grid_auto_columns": null,
            "grid_auto_flow": null,
            "grid_auto_rows": null,
            "grid_column": null,
            "grid_gap": null,
            "grid_row": null,
            "grid_template_areas": null,
            "grid_template_columns": null,
            "grid_template_rows": null,
            "height": null,
            "justify_content": null,
            "justify_items": null,
            "left": null,
            "margin": null,
            "max_height": null,
            "max_width": null,
            "min_height": null,
            "min_width": null,
            "object_fit": null,
            "object_position": null,
            "order": null,
            "overflow": null,
            "overflow_x": null,
            "overflow_y": null,
            "padding": null,
            "right": null,
            "top": null,
            "visibility": null,
            "width": null
          }
        },
        "f365d2de8eac468a87e92ded0ad74403": {
          "model_module": "@jupyter-widgets/base",
          "model_name": "LayoutModel",
          "model_module_version": "1.2.0",
          "state": {
            "_model_module": "@jupyter-widgets/base",
            "_model_module_version": "1.2.0",
            "_model_name": "LayoutModel",
            "_view_count": null,
            "_view_module": "@jupyter-widgets/base",
            "_view_module_version": "1.2.0",
            "_view_name": "LayoutView",
            "align_content": null,
            "align_items": null,
            "align_self": null,
            "border": null,
            "bottom": null,
            "display": null,
            "flex": null,
            "flex_flow": null,
            "grid_area": null,
            "grid_auto_columns": null,
            "grid_auto_flow": null,
            "grid_auto_rows": null,
            "grid_column": null,
            "grid_gap": null,
            "grid_row": null,
            "grid_template_areas": null,
            "grid_template_columns": null,
            "grid_template_rows": null,
            "height": null,
            "justify_content": null,
            "justify_items": null,
            "left": null,
            "margin": null,
            "max_height": null,
            "max_width": null,
            "min_height": null,
            "min_width": null,
            "object_fit": null,
            "object_position": null,
            "order": null,
            "overflow": null,
            "overflow_x": null,
            "overflow_y": null,
            "padding": null,
            "right": null,
            "top": null,
            "visibility": null,
            "width": null
          }
        },
        "405449ffa19a4c9d8e75b3d983ef3cd5": {
          "model_module": "@jupyter-widgets/controls",
          "model_name": "DescriptionStyleModel",
          "model_module_version": "1.5.0",
          "state": {
            "_model_module": "@jupyter-widgets/controls",
            "_model_module_version": "1.5.0",
            "_model_name": "DescriptionStyleModel",
            "_view_count": null,
            "_view_module": "@jupyter-widgets/base",
            "_view_module_version": "1.2.0",
            "_view_name": "StyleView",
            "description_width": ""
          }
        },
        "41a8c06843fb4bb489e36d08c6add837": {
          "model_module": "@jupyter-widgets/base",
          "model_name": "LayoutModel",
          "model_module_version": "1.2.0",
          "state": {
            "_model_module": "@jupyter-widgets/base",
            "_model_module_version": "1.2.0",
            "_model_name": "LayoutModel",
            "_view_count": null,
            "_view_module": "@jupyter-widgets/base",
            "_view_module_version": "1.2.0",
            "_view_name": "LayoutView",
            "align_content": null,
            "align_items": null,
            "align_self": null,
            "border": null,
            "bottom": null,
            "display": null,
            "flex": null,
            "flex_flow": null,
            "grid_area": null,
            "grid_auto_columns": null,
            "grid_auto_flow": null,
            "grid_auto_rows": null,
            "grid_column": null,
            "grid_gap": null,
            "grid_row": null,
            "grid_template_areas": null,
            "grid_template_columns": null,
            "grid_template_rows": null,
            "height": null,
            "justify_content": null,
            "justify_items": null,
            "left": null,
            "margin": null,
            "max_height": null,
            "max_width": null,
            "min_height": null,
            "min_width": null,
            "object_fit": null,
            "object_position": null,
            "order": null,
            "overflow": null,
            "overflow_x": null,
            "overflow_y": null,
            "padding": null,
            "right": null,
            "top": null,
            "visibility": null,
            "width": null
          }
        },
        "b80a75c4b732431a865fc351c8ac3db7": {
          "model_module": "@jupyter-widgets/controls",
          "model_name": "ProgressStyleModel",
          "model_module_version": "1.5.0",
          "state": {
            "_model_module": "@jupyter-widgets/controls",
            "_model_module_version": "1.5.0",
            "_model_name": "ProgressStyleModel",
            "_view_count": null,
            "_view_module": "@jupyter-widgets/base",
            "_view_module_version": "1.2.0",
            "_view_name": "StyleView",
            "bar_color": null,
            "description_width": ""
          }
        },
        "30333a7647c245c5bdfe7e85fd7aef61": {
          "model_module": "@jupyter-widgets/base",
          "model_name": "LayoutModel",
          "model_module_version": "1.2.0",
          "state": {
            "_model_module": "@jupyter-widgets/base",
            "_model_module_version": "1.2.0",
            "_model_name": "LayoutModel",
            "_view_count": null,
            "_view_module": "@jupyter-widgets/base",
            "_view_module_version": "1.2.0",
            "_view_name": "LayoutView",
            "align_content": null,
            "align_items": null,
            "align_self": null,
            "border": null,
            "bottom": null,
            "display": null,
            "flex": null,
            "flex_flow": null,
            "grid_area": null,
            "grid_auto_columns": null,
            "grid_auto_flow": null,
            "grid_auto_rows": null,
            "grid_column": null,
            "grid_gap": null,
            "grid_row": null,
            "grid_template_areas": null,
            "grid_template_columns": null,
            "grid_template_rows": null,
            "height": null,
            "justify_content": null,
            "justify_items": null,
            "left": null,
            "margin": null,
            "max_height": null,
            "max_width": null,
            "min_height": null,
            "min_width": null,
            "object_fit": null,
            "object_position": null,
            "order": null,
            "overflow": null,
            "overflow_x": null,
            "overflow_y": null,
            "padding": null,
            "right": null,
            "top": null,
            "visibility": null,
            "width": null
          }
        },
        "236c22556d164c1dba412a58c8369e09": {
          "model_module": "@jupyter-widgets/controls",
          "model_name": "DescriptionStyleModel",
          "model_module_version": "1.5.0",
          "state": {
            "_model_module": "@jupyter-widgets/controls",
            "_model_module_version": "1.5.0",
            "_model_name": "DescriptionStyleModel",
            "_view_count": null,
            "_view_module": "@jupyter-widgets/base",
            "_view_module_version": "1.2.0",
            "_view_name": "StyleView",
            "description_width": ""
          }
        },
        "465dbb7a123c408d86040c05aff59157": {
          "model_module": "@jupyter-widgets/controls",
          "model_name": "HBoxModel",
          "model_module_version": "1.5.0",
          "state": {
            "_dom_classes": [],
            "_model_module": "@jupyter-widgets/controls",
            "_model_module_version": "1.5.0",
            "_model_name": "HBoxModel",
            "_view_count": null,
            "_view_module": "@jupyter-widgets/controls",
            "_view_module_version": "1.5.0",
            "_view_name": "HBoxView",
            "box_style": "",
            "children": [
              "IPY_MODEL_7080e39826ba47368ce4c66017fd19fd",
              "IPY_MODEL_eb63ab64693a42938b773493037c6d86",
              "IPY_MODEL_7e3c069a71714048b5776361694a51f3"
            ],
            "layout": "IPY_MODEL_c58b405fda864c3a981c778abbc4cb89"
          }
        },
        "7080e39826ba47368ce4c66017fd19fd": {
          "model_module": "@jupyter-widgets/controls",
          "model_name": "HTMLModel",
          "model_module_version": "1.5.0",
          "state": {
            "_dom_classes": [],
            "_model_module": "@jupyter-widgets/controls",
            "_model_module_version": "1.5.0",
            "_model_name": "HTMLModel",
            "_view_count": null,
            "_view_module": "@jupyter-widgets/controls",
            "_view_module_version": "1.5.0",
            "_view_name": "HTMLView",
            "description": "",
            "description_tooltip": null,
            "layout": "IPY_MODEL_73e84260f4fe4e8cb333a94d09b8ec97",
            "placeholder": "​",
            "style": "IPY_MODEL_2decece666ad49a38dcc962ae19b06db",
            "value": "config.json: 100%"
          }
        },
        "eb63ab64693a42938b773493037c6d86": {
          "model_module": "@jupyter-widgets/controls",
          "model_name": "FloatProgressModel",
          "model_module_version": "1.5.0",
          "state": {
            "_dom_classes": [],
            "_model_module": "@jupyter-widgets/controls",
            "_model_module_version": "1.5.0",
            "_model_name": "FloatProgressModel",
            "_view_count": null,
            "_view_module": "@jupyter-widgets/controls",
            "_view_module_version": "1.5.0",
            "_view_name": "ProgressView",
            "bar_style": "success",
            "description": "",
            "description_tooltip": null,
            "layout": "IPY_MODEL_78e546f2b07846188fb7514513b1fd68",
            "max": 571,
            "min": 0,
            "orientation": "horizontal",
            "style": "IPY_MODEL_91c4105d10994fe491c08612c6ba6d9f",
            "value": 571
          }
        },
        "7e3c069a71714048b5776361694a51f3": {
          "model_module": "@jupyter-widgets/controls",
          "model_name": "HTMLModel",
          "model_module_version": "1.5.0",
          "state": {
            "_dom_classes": [],
            "_model_module": "@jupyter-widgets/controls",
            "_model_module_version": "1.5.0",
            "_model_name": "HTMLModel",
            "_view_count": null,
            "_view_module": "@jupyter-widgets/controls",
            "_view_module_version": "1.5.0",
            "_view_name": "HTMLView",
            "description": "",
            "description_tooltip": null,
            "layout": "IPY_MODEL_87ab3216cd4e4f70806bd83f1ffc276a",
            "placeholder": "​",
            "style": "IPY_MODEL_945f4958d76d4c218205766810750aad",
            "value": " 571/571 [00:00&lt;00:00, 44.1kB/s]"
          }
        },
        "c58b405fda864c3a981c778abbc4cb89": {
          "model_module": "@jupyter-widgets/base",
          "model_name": "LayoutModel",
          "model_module_version": "1.2.0",
          "state": {
            "_model_module": "@jupyter-widgets/base",
            "_model_module_version": "1.2.0",
            "_model_name": "LayoutModel",
            "_view_count": null,
            "_view_module": "@jupyter-widgets/base",
            "_view_module_version": "1.2.0",
            "_view_name": "LayoutView",
            "align_content": null,
            "align_items": null,
            "align_self": null,
            "border": null,
            "bottom": null,
            "display": null,
            "flex": null,
            "flex_flow": null,
            "grid_area": null,
            "grid_auto_columns": null,
            "grid_auto_flow": null,
            "grid_auto_rows": null,
            "grid_column": null,
            "grid_gap": null,
            "grid_row": null,
            "grid_template_areas": null,
            "grid_template_columns": null,
            "grid_template_rows": null,
            "height": null,
            "justify_content": null,
            "justify_items": null,
            "left": null,
            "margin": null,
            "max_height": null,
            "max_width": null,
            "min_height": null,
            "min_width": null,
            "object_fit": null,
            "object_position": null,
            "order": null,
            "overflow": null,
            "overflow_x": null,
            "overflow_y": null,
            "padding": null,
            "right": null,
            "top": null,
            "visibility": null,
            "width": null
          }
        },
        "73e84260f4fe4e8cb333a94d09b8ec97": {
          "model_module": "@jupyter-widgets/base",
          "model_name": "LayoutModel",
          "model_module_version": "1.2.0",
          "state": {
            "_model_module": "@jupyter-widgets/base",
            "_model_module_version": "1.2.0",
            "_model_name": "LayoutModel",
            "_view_count": null,
            "_view_module": "@jupyter-widgets/base",
            "_view_module_version": "1.2.0",
            "_view_name": "LayoutView",
            "align_content": null,
            "align_items": null,
            "align_self": null,
            "border": null,
            "bottom": null,
            "display": null,
            "flex": null,
            "flex_flow": null,
            "grid_area": null,
            "grid_auto_columns": null,
            "grid_auto_flow": null,
            "grid_auto_rows": null,
            "grid_column": null,
            "grid_gap": null,
            "grid_row": null,
            "grid_template_areas": null,
            "grid_template_columns": null,
            "grid_template_rows": null,
            "height": null,
            "justify_content": null,
            "justify_items": null,
            "left": null,
            "margin": null,
            "max_height": null,
            "max_width": null,
            "min_height": null,
            "min_width": null,
            "object_fit": null,
            "object_position": null,
            "order": null,
            "overflow": null,
            "overflow_x": null,
            "overflow_y": null,
            "padding": null,
            "right": null,
            "top": null,
            "visibility": null,
            "width": null
          }
        },
        "2decece666ad49a38dcc962ae19b06db": {
          "model_module": "@jupyter-widgets/controls",
          "model_name": "DescriptionStyleModel",
          "model_module_version": "1.5.0",
          "state": {
            "_model_module": "@jupyter-widgets/controls",
            "_model_module_version": "1.5.0",
            "_model_name": "DescriptionStyleModel",
            "_view_count": null,
            "_view_module": "@jupyter-widgets/base",
            "_view_module_version": "1.2.0",
            "_view_name": "StyleView",
            "description_width": ""
          }
        },
        "78e546f2b07846188fb7514513b1fd68": {
          "model_module": "@jupyter-widgets/base",
          "model_name": "LayoutModel",
          "model_module_version": "1.2.0",
          "state": {
            "_model_module": "@jupyter-widgets/base",
            "_model_module_version": "1.2.0",
            "_model_name": "LayoutModel",
            "_view_count": null,
            "_view_module": "@jupyter-widgets/base",
            "_view_module_version": "1.2.0",
            "_view_name": "LayoutView",
            "align_content": null,
            "align_items": null,
            "align_self": null,
            "border": null,
            "bottom": null,
            "display": null,
            "flex": null,
            "flex_flow": null,
            "grid_area": null,
            "grid_auto_columns": null,
            "grid_auto_flow": null,
            "grid_auto_rows": null,
            "grid_column": null,
            "grid_gap": null,
            "grid_row": null,
            "grid_template_areas": null,
            "grid_template_columns": null,
            "grid_template_rows": null,
            "height": null,
            "justify_content": null,
            "justify_items": null,
            "left": null,
            "margin": null,
            "max_height": null,
            "max_width": null,
            "min_height": null,
            "min_width": null,
            "object_fit": null,
            "object_position": null,
            "order": null,
            "overflow": null,
            "overflow_x": null,
            "overflow_y": null,
            "padding": null,
            "right": null,
            "top": null,
            "visibility": null,
            "width": null
          }
        },
        "91c4105d10994fe491c08612c6ba6d9f": {
          "model_module": "@jupyter-widgets/controls",
          "model_name": "ProgressStyleModel",
          "model_module_version": "1.5.0",
          "state": {
            "_model_module": "@jupyter-widgets/controls",
            "_model_module_version": "1.5.0",
            "_model_name": "ProgressStyleModel",
            "_view_count": null,
            "_view_module": "@jupyter-widgets/base",
            "_view_module_version": "1.2.0",
            "_view_name": "StyleView",
            "bar_color": null,
            "description_width": ""
          }
        },
        "87ab3216cd4e4f70806bd83f1ffc276a": {
          "model_module": "@jupyter-widgets/base",
          "model_name": "LayoutModel",
          "model_module_version": "1.2.0",
          "state": {
            "_model_module": "@jupyter-widgets/base",
            "_model_module_version": "1.2.0",
            "_model_name": "LayoutModel",
            "_view_count": null,
            "_view_module": "@jupyter-widgets/base",
            "_view_module_version": "1.2.0",
            "_view_name": "LayoutView",
            "align_content": null,
            "align_items": null,
            "align_self": null,
            "border": null,
            "bottom": null,
            "display": null,
            "flex": null,
            "flex_flow": null,
            "grid_area": null,
            "grid_auto_columns": null,
            "grid_auto_flow": null,
            "grid_auto_rows": null,
            "grid_column": null,
            "grid_gap": null,
            "grid_row": null,
            "grid_template_areas": null,
            "grid_template_columns": null,
            "grid_template_rows": null,
            "height": null,
            "justify_content": null,
            "justify_items": null,
            "left": null,
            "margin": null,
            "max_height": null,
            "max_width": null,
            "min_height": null,
            "min_width": null,
            "object_fit": null,
            "object_position": null,
            "order": null,
            "overflow": null,
            "overflow_x": null,
            "overflow_y": null,
            "padding": null,
            "right": null,
            "top": null,
            "visibility": null,
            "width": null
          }
        },
        "945f4958d76d4c218205766810750aad": {
          "model_module": "@jupyter-widgets/controls",
          "model_name": "DescriptionStyleModel",
          "model_module_version": "1.5.0",
          "state": {
            "_model_module": "@jupyter-widgets/controls",
            "_model_module_version": "1.5.0",
            "_model_name": "DescriptionStyleModel",
            "_view_count": null,
            "_view_module": "@jupyter-widgets/base",
            "_view_module_version": "1.2.0",
            "_view_name": "StyleView",
            "description_width": ""
          }
        },
        "21afec906d334fe3ad574f8a3bf34f7c": {
          "model_module": "@jupyter-widgets/controls",
          "model_name": "HBoxModel",
          "model_module_version": "1.5.0",
          "state": {
            "_dom_classes": [],
            "_model_module": "@jupyter-widgets/controls",
            "_model_module_version": "1.5.0",
            "_model_name": "HBoxModel",
            "_view_count": null,
            "_view_module": "@jupyter-widgets/controls",
            "_view_module_version": "1.5.0",
            "_view_name": "HBoxView",
            "box_style": "",
            "children": [
              "IPY_MODEL_4b178d7e107442c38733005a405bae49",
              "IPY_MODEL_8e4a877fb78940bd93de804850f7dc71",
              "IPY_MODEL_e574cb6f03124628a4ae94d710c55705"
            ],
            "layout": "IPY_MODEL_41afad5723f24401a8424b8c19cfefe3"
          }
        },
        "4b178d7e107442c38733005a405bae49": {
          "model_module": "@jupyter-widgets/controls",
          "model_name": "HTMLModel",
          "model_module_version": "1.5.0",
          "state": {
            "_dom_classes": [],
            "_model_module": "@jupyter-widgets/controls",
            "_model_module_version": "1.5.0",
            "_model_name": "HTMLModel",
            "_view_count": null,
            "_view_module": "@jupyter-widgets/controls",
            "_view_module_version": "1.5.0",
            "_view_name": "HTMLView",
            "description": "",
            "description_tooltip": null,
            "layout": "IPY_MODEL_bb24ba296bf0464daa029796d8807adf",
            "placeholder": "​",
            "style": "IPY_MODEL_2974a9c750594b9797a3f1335ba2c8d0",
            "value": "pytorch_model.bin: 100%"
          }
        },
        "8e4a877fb78940bd93de804850f7dc71": {
          "model_module": "@jupyter-widgets/controls",
          "model_name": "FloatProgressModel",
          "model_module_version": "1.5.0",
          "state": {
            "_dom_classes": [],
            "_model_module": "@jupyter-widgets/controls",
            "_model_module_version": "1.5.0",
            "_model_name": "FloatProgressModel",
            "_view_count": null,
            "_view_module": "@jupyter-widgets/controls",
            "_view_module_version": "1.5.0",
            "_view_name": "ProgressView",
            "bar_style": "success",
            "description": "",
            "description_tooltip": null,
            "layout": "IPY_MODEL_35ab3797589a47dabb84a59bfacb6b0f",
            "max": 438011953,
            "min": 0,
            "orientation": "horizontal",
            "style": "IPY_MODEL_92f965d73e9649a1a895a7165654e413",
            "value": 438011953
          }
        },
        "e574cb6f03124628a4ae94d710c55705": {
          "model_module": "@jupyter-widgets/controls",
          "model_name": "HTMLModel",
          "model_module_version": "1.5.0",
          "state": {
            "_dom_classes": [],
            "_model_module": "@jupyter-widgets/controls",
            "_model_module_version": "1.5.0",
            "_model_name": "HTMLModel",
            "_view_count": null,
            "_view_module": "@jupyter-widgets/controls",
            "_view_module_version": "1.5.0",
            "_view_name": "HTMLView",
            "description": "",
            "description_tooltip": null,
            "layout": "IPY_MODEL_2e2da00351c648f495ecb0b857895a1b",
            "placeholder": "​",
            "style": "IPY_MODEL_c9faf8bb16fa43d6ac44db8019868277",
            "value": " 438M/438M [00:13&lt;00:00, 32.5MB/s]"
          }
        },
        "41afad5723f24401a8424b8c19cfefe3": {
          "model_module": "@jupyter-widgets/base",
          "model_name": "LayoutModel",
          "model_module_version": "1.2.0",
          "state": {
            "_model_module": "@jupyter-widgets/base",
            "_model_module_version": "1.2.0",
            "_model_name": "LayoutModel",
            "_view_count": null,
            "_view_module": "@jupyter-widgets/base",
            "_view_module_version": "1.2.0",
            "_view_name": "LayoutView",
            "align_content": null,
            "align_items": null,
            "align_self": null,
            "border": null,
            "bottom": null,
            "display": null,
            "flex": null,
            "flex_flow": null,
            "grid_area": null,
            "grid_auto_columns": null,
            "grid_auto_flow": null,
            "grid_auto_rows": null,
            "grid_column": null,
            "grid_gap": null,
            "grid_row": null,
            "grid_template_areas": null,
            "grid_template_columns": null,
            "grid_template_rows": null,
            "height": null,
            "justify_content": null,
            "justify_items": null,
            "left": null,
            "margin": null,
            "max_height": null,
            "max_width": null,
            "min_height": null,
            "min_width": null,
            "object_fit": null,
            "object_position": null,
            "order": null,
            "overflow": null,
            "overflow_x": null,
            "overflow_y": null,
            "padding": null,
            "right": null,
            "top": null,
            "visibility": null,
            "width": null
          }
        },
        "bb24ba296bf0464daa029796d8807adf": {
          "model_module": "@jupyter-widgets/base",
          "model_name": "LayoutModel",
          "model_module_version": "1.2.0",
          "state": {
            "_model_module": "@jupyter-widgets/base",
            "_model_module_version": "1.2.0",
            "_model_name": "LayoutModel",
            "_view_count": null,
            "_view_module": "@jupyter-widgets/base",
            "_view_module_version": "1.2.0",
            "_view_name": "LayoutView",
            "align_content": null,
            "align_items": null,
            "align_self": null,
            "border": null,
            "bottom": null,
            "display": null,
            "flex": null,
            "flex_flow": null,
            "grid_area": null,
            "grid_auto_columns": null,
            "grid_auto_flow": null,
            "grid_auto_rows": null,
            "grid_column": null,
            "grid_gap": null,
            "grid_row": null,
            "grid_template_areas": null,
            "grid_template_columns": null,
            "grid_template_rows": null,
            "height": null,
            "justify_content": null,
            "justify_items": null,
            "left": null,
            "margin": null,
            "max_height": null,
            "max_width": null,
            "min_height": null,
            "min_width": null,
            "object_fit": null,
            "object_position": null,
            "order": null,
            "overflow": null,
            "overflow_x": null,
            "overflow_y": null,
            "padding": null,
            "right": null,
            "top": null,
            "visibility": null,
            "width": null
          }
        },
        "2974a9c750594b9797a3f1335ba2c8d0": {
          "model_module": "@jupyter-widgets/controls",
          "model_name": "DescriptionStyleModel",
          "model_module_version": "1.5.0",
          "state": {
            "_model_module": "@jupyter-widgets/controls",
            "_model_module_version": "1.5.0",
            "_model_name": "DescriptionStyleModel",
            "_view_count": null,
            "_view_module": "@jupyter-widgets/base",
            "_view_module_version": "1.2.0",
            "_view_name": "StyleView",
            "description_width": ""
          }
        },
        "35ab3797589a47dabb84a59bfacb6b0f": {
          "model_module": "@jupyter-widgets/base",
          "model_name": "LayoutModel",
          "model_module_version": "1.2.0",
          "state": {
            "_model_module": "@jupyter-widgets/base",
            "_model_module_version": "1.2.0",
            "_model_name": "LayoutModel",
            "_view_count": null,
            "_view_module": "@jupyter-widgets/base",
            "_view_module_version": "1.2.0",
            "_view_name": "LayoutView",
            "align_content": null,
            "align_items": null,
            "align_self": null,
            "border": null,
            "bottom": null,
            "display": null,
            "flex": null,
            "flex_flow": null,
            "grid_area": null,
            "grid_auto_columns": null,
            "grid_auto_flow": null,
            "grid_auto_rows": null,
            "grid_column": null,
            "grid_gap": null,
            "grid_row": null,
            "grid_template_areas": null,
            "grid_template_columns": null,
            "grid_template_rows": null,
            "height": null,
            "justify_content": null,
            "justify_items": null,
            "left": null,
            "margin": null,
            "max_height": null,
            "max_width": null,
            "min_height": null,
            "min_width": null,
            "object_fit": null,
            "object_position": null,
            "order": null,
            "overflow": null,
            "overflow_x": null,
            "overflow_y": null,
            "padding": null,
            "right": null,
            "top": null,
            "visibility": null,
            "width": null
          }
        },
        "92f965d73e9649a1a895a7165654e413": {
          "model_module": "@jupyter-widgets/controls",
          "model_name": "ProgressStyleModel",
          "model_module_version": "1.5.0",
          "state": {
            "_model_module": "@jupyter-widgets/controls",
            "_model_module_version": "1.5.0",
            "_model_name": "ProgressStyleModel",
            "_view_count": null,
            "_view_module": "@jupyter-widgets/base",
            "_view_module_version": "1.2.0",
            "_view_name": "StyleView",
            "bar_color": null,
            "description_width": ""
          }
        },
        "2e2da00351c648f495ecb0b857895a1b": {
          "model_module": "@jupyter-widgets/base",
          "model_name": "LayoutModel",
          "model_module_version": "1.2.0",
          "state": {
            "_model_module": "@jupyter-widgets/base",
            "_model_module_version": "1.2.0",
            "_model_name": "LayoutModel",
            "_view_count": null,
            "_view_module": "@jupyter-widgets/base",
            "_view_module_version": "1.2.0",
            "_view_name": "LayoutView",
            "align_content": null,
            "align_items": null,
            "align_self": null,
            "border": null,
            "bottom": null,
            "display": null,
            "flex": null,
            "flex_flow": null,
            "grid_area": null,
            "grid_auto_columns": null,
            "grid_auto_flow": null,
            "grid_auto_rows": null,
            "grid_column": null,
            "grid_gap": null,
            "grid_row": null,
            "grid_template_areas": null,
            "grid_template_columns": null,
            "grid_template_rows": null,
            "height": null,
            "justify_content": null,
            "justify_items": null,
            "left": null,
            "margin": null,
            "max_height": null,
            "max_width": null,
            "min_height": null,
            "min_width": null,
            "object_fit": null,
            "object_position": null,
            "order": null,
            "overflow": null,
            "overflow_x": null,
            "overflow_y": null,
            "padding": null,
            "right": null,
            "top": null,
            "visibility": null,
            "width": null
          }
        },
        "c9faf8bb16fa43d6ac44db8019868277": {
          "model_module": "@jupyter-widgets/controls",
          "model_name": "DescriptionStyleModel",
          "model_module_version": "1.5.0",
          "state": {
            "_model_module": "@jupyter-widgets/controls",
            "_model_module_version": "1.5.0",
            "_model_name": "DescriptionStyleModel",
            "_view_count": null,
            "_view_module": "@jupyter-widgets/base",
            "_view_module_version": "1.2.0",
            "_view_name": "StyleView",
            "description_width": ""
          }
        },
        "130270cd47b543518a2c993ea19d17b5": {
          "model_module": "@jupyter-widgets/controls",
          "model_name": "HBoxModel",
          "model_module_version": "1.5.0",
          "state": {
            "_dom_classes": [],
            "_model_module": "@jupyter-widgets/controls",
            "_model_module_version": "1.5.0",
            "_model_name": "HBoxModel",
            "_view_count": null,
            "_view_module": "@jupyter-widgets/controls",
            "_view_module_version": "1.5.0",
            "_view_name": "HBoxView",
            "box_style": "",
            "children": [
              "IPY_MODEL_d5d347a907934c31b93173dccf403405",
              "IPY_MODEL_4cadaf449a0d4befaf30545fac71c0bc",
              "IPY_MODEL_bf5f9dbab4224f499c95d136318907c4"
            ],
            "layout": "IPY_MODEL_8133bb7805634748a3872f3342616886"
          }
        },
        "d5d347a907934c31b93173dccf403405": {
          "model_module": "@jupyter-widgets/controls",
          "model_name": "HTMLModel",
          "model_module_version": "1.5.0",
          "state": {
            "_dom_classes": [],
            "_model_module": "@jupyter-widgets/controls",
            "_model_module_version": "1.5.0",
            "_model_name": "HTMLModel",
            "_view_count": null,
            "_view_module": "@jupyter-widgets/controls",
            "_view_module_version": "1.5.0",
            "_view_name": "HTMLView",
            "description": "",
            "description_tooltip": null,
            "layout": "IPY_MODEL_fd7eaa9293414bc0b7b03445acd8df5f",
            "placeholder": "​",
            "style": "IPY_MODEL_e06c53563ca442cab4b3aac58b5a353e",
            "value": "tokenizer_config.json: 100%"
          }
        },
        "4cadaf449a0d4befaf30545fac71c0bc": {
          "model_module": "@jupyter-widgets/controls",
          "model_name": "FloatProgressModel",
          "model_module_version": "1.5.0",
          "state": {
            "_dom_classes": [],
            "_model_module": "@jupyter-widgets/controls",
            "_model_module_version": "1.5.0",
            "_model_name": "FloatProgressModel",
            "_view_count": null,
            "_view_module": "@jupyter-widgets/controls",
            "_view_module_version": "1.5.0",
            "_view_name": "ProgressView",
            "bar_style": "success",
            "description": "",
            "description_tooltip": null,
            "layout": "IPY_MODEL_c37ad2f6a06e456bb1d99aaf1f3e8d36",
            "max": 363,
            "min": 0,
            "orientation": "horizontal",
            "style": "IPY_MODEL_94e849c438534596b92b13ed1eb110d2",
            "value": 363
          }
        },
        "bf5f9dbab4224f499c95d136318907c4": {
          "model_module": "@jupyter-widgets/controls",
          "model_name": "HTMLModel",
          "model_module_version": "1.5.0",
          "state": {
            "_dom_classes": [],
            "_model_module": "@jupyter-widgets/controls",
            "_model_module_version": "1.5.0",
            "_model_name": "HTMLModel",
            "_view_count": null,
            "_view_module": "@jupyter-widgets/controls",
            "_view_module_version": "1.5.0",
            "_view_name": "HTMLView",
            "description": "",
            "description_tooltip": null,
            "layout": "IPY_MODEL_17126727fbef49f09e4393d11ecf5f63",
            "placeholder": "​",
            "style": "IPY_MODEL_82877b515c684630a92d260f7be5120b",
            "value": " 363/363 [00:00&lt;00:00, 26.8kB/s]"
          }
        },
        "8133bb7805634748a3872f3342616886": {
          "model_module": "@jupyter-widgets/base",
          "model_name": "LayoutModel",
          "model_module_version": "1.2.0",
          "state": {
            "_model_module": "@jupyter-widgets/base",
            "_model_module_version": "1.2.0",
            "_model_name": "LayoutModel",
            "_view_count": null,
            "_view_module": "@jupyter-widgets/base",
            "_view_module_version": "1.2.0",
            "_view_name": "LayoutView",
            "align_content": null,
            "align_items": null,
            "align_self": null,
            "border": null,
            "bottom": null,
            "display": null,
            "flex": null,
            "flex_flow": null,
            "grid_area": null,
            "grid_auto_columns": null,
            "grid_auto_flow": null,
            "grid_auto_rows": null,
            "grid_column": null,
            "grid_gap": null,
            "grid_row": null,
            "grid_template_areas": null,
            "grid_template_columns": null,
            "grid_template_rows": null,
            "height": null,
            "justify_content": null,
            "justify_items": null,
            "left": null,
            "margin": null,
            "max_height": null,
            "max_width": null,
            "min_height": null,
            "min_width": null,
            "object_fit": null,
            "object_position": null,
            "order": null,
            "overflow": null,
            "overflow_x": null,
            "overflow_y": null,
            "padding": null,
            "right": null,
            "top": null,
            "visibility": null,
            "width": null
          }
        },
        "fd7eaa9293414bc0b7b03445acd8df5f": {
          "model_module": "@jupyter-widgets/base",
          "model_name": "LayoutModel",
          "model_module_version": "1.2.0",
          "state": {
            "_model_module": "@jupyter-widgets/base",
            "_model_module_version": "1.2.0",
            "_model_name": "LayoutModel",
            "_view_count": null,
            "_view_module": "@jupyter-widgets/base",
            "_view_module_version": "1.2.0",
            "_view_name": "LayoutView",
            "align_content": null,
            "align_items": null,
            "align_self": null,
            "border": null,
            "bottom": null,
            "display": null,
            "flex": null,
            "flex_flow": null,
            "grid_area": null,
            "grid_auto_columns": null,
            "grid_auto_flow": null,
            "grid_auto_rows": null,
            "grid_column": null,
            "grid_gap": null,
            "grid_row": null,
            "grid_template_areas": null,
            "grid_template_columns": null,
            "grid_template_rows": null,
            "height": null,
            "justify_content": null,
            "justify_items": null,
            "left": null,
            "margin": null,
            "max_height": null,
            "max_width": null,
            "min_height": null,
            "min_width": null,
            "object_fit": null,
            "object_position": null,
            "order": null,
            "overflow": null,
            "overflow_x": null,
            "overflow_y": null,
            "padding": null,
            "right": null,
            "top": null,
            "visibility": null,
            "width": null
          }
        },
        "e06c53563ca442cab4b3aac58b5a353e": {
          "model_module": "@jupyter-widgets/controls",
          "model_name": "DescriptionStyleModel",
          "model_module_version": "1.5.0",
          "state": {
            "_model_module": "@jupyter-widgets/controls",
            "_model_module_version": "1.5.0",
            "_model_name": "DescriptionStyleModel",
            "_view_count": null,
            "_view_module": "@jupyter-widgets/base",
            "_view_module_version": "1.2.0",
            "_view_name": "StyleView",
            "description_width": ""
          }
        },
        "c37ad2f6a06e456bb1d99aaf1f3e8d36": {
          "model_module": "@jupyter-widgets/base",
          "model_name": "LayoutModel",
          "model_module_version": "1.2.0",
          "state": {
            "_model_module": "@jupyter-widgets/base",
            "_model_module_version": "1.2.0",
            "_model_name": "LayoutModel",
            "_view_count": null,
            "_view_module": "@jupyter-widgets/base",
            "_view_module_version": "1.2.0",
            "_view_name": "LayoutView",
            "align_content": null,
            "align_items": null,
            "align_self": null,
            "border": null,
            "bottom": null,
            "display": null,
            "flex": null,
            "flex_flow": null,
            "grid_area": null,
            "grid_auto_columns": null,
            "grid_auto_flow": null,
            "grid_auto_rows": null,
            "grid_column": null,
            "grid_gap": null,
            "grid_row": null,
            "grid_template_areas": null,
            "grid_template_columns": null,
            "grid_template_rows": null,
            "height": null,
            "justify_content": null,
            "justify_items": null,
            "left": null,
            "margin": null,
            "max_height": null,
            "max_width": null,
            "min_height": null,
            "min_width": null,
            "object_fit": null,
            "object_position": null,
            "order": null,
            "overflow": null,
            "overflow_x": null,
            "overflow_y": null,
            "padding": null,
            "right": null,
            "top": null,
            "visibility": null,
            "width": null
          }
        },
        "94e849c438534596b92b13ed1eb110d2": {
          "model_module": "@jupyter-widgets/controls",
          "model_name": "ProgressStyleModel",
          "model_module_version": "1.5.0",
          "state": {
            "_model_module": "@jupyter-widgets/controls",
            "_model_module_version": "1.5.0",
            "_model_name": "ProgressStyleModel",
            "_view_count": null,
            "_view_module": "@jupyter-widgets/base",
            "_view_module_version": "1.2.0",
            "_view_name": "StyleView",
            "bar_color": null,
            "description_width": ""
          }
        },
        "17126727fbef49f09e4393d11ecf5f63": {
          "model_module": "@jupyter-widgets/base",
          "model_name": "LayoutModel",
          "model_module_version": "1.2.0",
          "state": {
            "_model_module": "@jupyter-widgets/base",
            "_model_module_version": "1.2.0",
            "_model_name": "LayoutModel",
            "_view_count": null,
            "_view_module": "@jupyter-widgets/base",
            "_view_module_version": "1.2.0",
            "_view_name": "LayoutView",
            "align_content": null,
            "align_items": null,
            "align_self": null,
            "border": null,
            "bottom": null,
            "display": null,
            "flex": null,
            "flex_flow": null,
            "grid_area": null,
            "grid_auto_columns": null,
            "grid_auto_flow": null,
            "grid_auto_rows": null,
            "grid_column": null,
            "grid_gap": null,
            "grid_row": null,
            "grid_template_areas": null,
            "grid_template_columns": null,
            "grid_template_rows": null,
            "height": null,
            "justify_content": null,
            "justify_items": null,
            "left": null,
            "margin": null,
            "max_height": null,
            "max_width": null,
            "min_height": null,
            "min_width": null,
            "object_fit": null,
            "object_position": null,
            "order": null,
            "overflow": null,
            "overflow_x": null,
            "overflow_y": null,
            "padding": null,
            "right": null,
            "top": null,
            "visibility": null,
            "width": null
          }
        },
        "82877b515c684630a92d260f7be5120b": {
          "model_module": "@jupyter-widgets/controls",
          "model_name": "DescriptionStyleModel",
          "model_module_version": "1.5.0",
          "state": {
            "_model_module": "@jupyter-widgets/controls",
            "_model_module_version": "1.5.0",
            "_model_name": "DescriptionStyleModel",
            "_view_count": null,
            "_view_module": "@jupyter-widgets/base",
            "_view_module_version": "1.2.0",
            "_view_name": "StyleView",
            "description_width": ""
          }
        },
        "7a3c0665774c4efd865cf50824446703": {
          "model_module": "@jupyter-widgets/controls",
          "model_name": "HBoxModel",
          "model_module_version": "1.5.0",
          "state": {
            "_dom_classes": [],
            "_model_module": "@jupyter-widgets/controls",
            "_model_module_version": "1.5.0",
            "_model_name": "HBoxModel",
            "_view_count": null,
            "_view_module": "@jupyter-widgets/controls",
            "_view_module_version": "1.5.0",
            "_view_name": "HBoxView",
            "box_style": "",
            "children": [
              "IPY_MODEL_c53428da97cc4d45a23c3f1df9251525",
              "IPY_MODEL_dcc586a30c184478a4fea65bb8b2f7ee",
              "IPY_MODEL_dd232c8003904a2298c4d7d692749b06"
            ],
            "layout": "IPY_MODEL_397665ae0eb54611a27c49c61b9b86ad"
          }
        },
        "c53428da97cc4d45a23c3f1df9251525": {
          "model_module": "@jupyter-widgets/controls",
          "model_name": "HTMLModel",
          "model_module_version": "1.5.0",
          "state": {
            "_dom_classes": [],
            "_model_module": "@jupyter-widgets/controls",
            "_model_module_version": "1.5.0",
            "_model_name": "HTMLModel",
            "_view_count": null,
            "_view_module": "@jupyter-widgets/controls",
            "_view_module_version": "1.5.0",
            "_view_name": "HTMLView",
            "description": "",
            "description_tooltip": null,
            "layout": "IPY_MODEL_5f7b29c4176a4186a9f400618026fbb0",
            "placeholder": "​",
            "style": "IPY_MODEL_6e33ef29161a4a94b933255a7caef6b4",
            "value": "vocab.txt: 100%"
          }
        },
        "dcc586a30c184478a4fea65bb8b2f7ee": {
          "model_module": "@jupyter-widgets/controls",
          "model_name": "FloatProgressModel",
          "model_module_version": "1.5.0",
          "state": {
            "_dom_classes": [],
            "_model_module": "@jupyter-widgets/controls",
            "_model_module_version": "1.5.0",
            "_model_name": "FloatProgressModel",
            "_view_count": null,
            "_view_module": "@jupyter-widgets/controls",
            "_view_module_version": "1.5.0",
            "_view_name": "ProgressView",
            "bar_style": "success",
            "description": "",
            "description_tooltip": null,
            "layout": "IPY_MODEL_b9547b58167b4bf0b1c26d17bf1b774c",
            "max": 231536,
            "min": 0,
            "orientation": "horizontal",
            "style": "IPY_MODEL_7228216149984300bd636d9c7404e15f",
            "value": 231536
          }
        },
        "dd232c8003904a2298c4d7d692749b06": {
          "model_module": "@jupyter-widgets/controls",
          "model_name": "HTMLModel",
          "model_module_version": "1.5.0",
          "state": {
            "_dom_classes": [],
            "_model_module": "@jupyter-widgets/controls",
            "_model_module_version": "1.5.0",
            "_model_name": "HTMLModel",
            "_view_count": null,
            "_view_module": "@jupyter-widgets/controls",
            "_view_module_version": "1.5.0",
            "_view_name": "HTMLView",
            "description": "",
            "description_tooltip": null,
            "layout": "IPY_MODEL_7919e825a6bc416a9c3f44368e817515",
            "placeholder": "​",
            "style": "IPY_MODEL_fb9bcde29a724e78973a2dfbf1d8c2b3",
            "value": " 232k/232k [00:00&lt;00:00, 3.23MB/s]"
          }
        },
        "397665ae0eb54611a27c49c61b9b86ad": {
          "model_module": "@jupyter-widgets/base",
          "model_name": "LayoutModel",
          "model_module_version": "1.2.0",
          "state": {
            "_model_module": "@jupyter-widgets/base",
            "_model_module_version": "1.2.0",
            "_model_name": "LayoutModel",
            "_view_count": null,
            "_view_module": "@jupyter-widgets/base",
            "_view_module_version": "1.2.0",
            "_view_name": "LayoutView",
            "align_content": null,
            "align_items": null,
            "align_self": null,
            "border": null,
            "bottom": null,
            "display": null,
            "flex": null,
            "flex_flow": null,
            "grid_area": null,
            "grid_auto_columns": null,
            "grid_auto_flow": null,
            "grid_auto_rows": null,
            "grid_column": null,
            "grid_gap": null,
            "grid_row": null,
            "grid_template_areas": null,
            "grid_template_columns": null,
            "grid_template_rows": null,
            "height": null,
            "justify_content": null,
            "justify_items": null,
            "left": null,
            "margin": null,
            "max_height": null,
            "max_width": null,
            "min_height": null,
            "min_width": null,
            "object_fit": null,
            "object_position": null,
            "order": null,
            "overflow": null,
            "overflow_x": null,
            "overflow_y": null,
            "padding": null,
            "right": null,
            "top": null,
            "visibility": null,
            "width": null
          }
        },
        "5f7b29c4176a4186a9f400618026fbb0": {
          "model_module": "@jupyter-widgets/base",
          "model_name": "LayoutModel",
          "model_module_version": "1.2.0",
          "state": {
            "_model_module": "@jupyter-widgets/base",
            "_model_module_version": "1.2.0",
            "_model_name": "LayoutModel",
            "_view_count": null,
            "_view_module": "@jupyter-widgets/base",
            "_view_module_version": "1.2.0",
            "_view_name": "LayoutView",
            "align_content": null,
            "align_items": null,
            "align_self": null,
            "border": null,
            "bottom": null,
            "display": null,
            "flex": null,
            "flex_flow": null,
            "grid_area": null,
            "grid_auto_columns": null,
            "grid_auto_flow": null,
            "grid_auto_rows": null,
            "grid_column": null,
            "grid_gap": null,
            "grid_row": null,
            "grid_template_areas": null,
            "grid_template_columns": null,
            "grid_template_rows": null,
            "height": null,
            "justify_content": null,
            "justify_items": null,
            "left": null,
            "margin": null,
            "max_height": null,
            "max_width": null,
            "min_height": null,
            "min_width": null,
            "object_fit": null,
            "object_position": null,
            "order": null,
            "overflow": null,
            "overflow_x": null,
            "overflow_y": null,
            "padding": null,
            "right": null,
            "top": null,
            "visibility": null,
            "width": null
          }
        },
        "6e33ef29161a4a94b933255a7caef6b4": {
          "model_module": "@jupyter-widgets/controls",
          "model_name": "DescriptionStyleModel",
          "model_module_version": "1.5.0",
          "state": {
            "_model_module": "@jupyter-widgets/controls",
            "_model_module_version": "1.5.0",
            "_model_name": "DescriptionStyleModel",
            "_view_count": null,
            "_view_module": "@jupyter-widgets/base",
            "_view_module_version": "1.2.0",
            "_view_name": "StyleView",
            "description_width": ""
          }
        },
        "b9547b58167b4bf0b1c26d17bf1b774c": {
          "model_module": "@jupyter-widgets/base",
          "model_name": "LayoutModel",
          "model_module_version": "1.2.0",
          "state": {
            "_model_module": "@jupyter-widgets/base",
            "_model_module_version": "1.2.0",
            "_model_name": "LayoutModel",
            "_view_count": null,
            "_view_module": "@jupyter-widgets/base",
            "_view_module_version": "1.2.0",
            "_view_name": "LayoutView",
            "align_content": null,
            "align_items": null,
            "align_self": null,
            "border": null,
            "bottom": null,
            "display": null,
            "flex": null,
            "flex_flow": null,
            "grid_area": null,
            "grid_auto_columns": null,
            "grid_auto_flow": null,
            "grid_auto_rows": null,
            "grid_column": null,
            "grid_gap": null,
            "grid_row": null,
            "grid_template_areas": null,
            "grid_template_columns": null,
            "grid_template_rows": null,
            "height": null,
            "justify_content": null,
            "justify_items": null,
            "left": null,
            "margin": null,
            "max_height": null,
            "max_width": null,
            "min_height": null,
            "min_width": null,
            "object_fit": null,
            "object_position": null,
            "order": null,
            "overflow": null,
            "overflow_x": null,
            "overflow_y": null,
            "padding": null,
            "right": null,
            "top": null,
            "visibility": null,
            "width": null
          }
        },
        "7228216149984300bd636d9c7404e15f": {
          "model_module": "@jupyter-widgets/controls",
          "model_name": "ProgressStyleModel",
          "model_module_version": "1.5.0",
          "state": {
            "_model_module": "@jupyter-widgets/controls",
            "_model_module_version": "1.5.0",
            "_model_name": "ProgressStyleModel",
            "_view_count": null,
            "_view_module": "@jupyter-widgets/base",
            "_view_module_version": "1.2.0",
            "_view_name": "StyleView",
            "bar_color": null,
            "description_width": ""
          }
        },
        "7919e825a6bc416a9c3f44368e817515": {
          "model_module": "@jupyter-widgets/base",
          "model_name": "LayoutModel",
          "model_module_version": "1.2.0",
          "state": {
            "_model_module": "@jupyter-widgets/base",
            "_model_module_version": "1.2.0",
            "_model_name": "LayoutModel",
            "_view_count": null,
            "_view_module": "@jupyter-widgets/base",
            "_view_module_version": "1.2.0",
            "_view_name": "LayoutView",
            "align_content": null,
            "align_items": null,
            "align_self": null,
            "border": null,
            "bottom": null,
            "display": null,
            "flex": null,
            "flex_flow": null,
            "grid_area": null,
            "grid_auto_columns": null,
            "grid_auto_flow": null,
            "grid_auto_rows": null,
            "grid_column": null,
            "grid_gap": null,
            "grid_row": null,
            "grid_template_areas": null,
            "grid_template_columns": null,
            "grid_template_rows": null,
            "height": null,
            "justify_content": null,
            "justify_items": null,
            "left": null,
            "margin": null,
            "max_height": null,
            "max_width": null,
            "min_height": null,
            "min_width": null,
            "object_fit": null,
            "object_position": null,
            "order": null,
            "overflow": null,
            "overflow_x": null,
            "overflow_y": null,
            "padding": null,
            "right": null,
            "top": null,
            "visibility": null,
            "width": null
          }
        },
        "fb9bcde29a724e78973a2dfbf1d8c2b3": {
          "model_module": "@jupyter-widgets/controls",
          "model_name": "DescriptionStyleModel",
          "model_module_version": "1.5.0",
          "state": {
            "_model_module": "@jupyter-widgets/controls",
            "_model_module_version": "1.5.0",
            "_model_name": "DescriptionStyleModel",
            "_view_count": null,
            "_view_module": "@jupyter-widgets/base",
            "_view_module_version": "1.2.0",
            "_view_name": "StyleView",
            "description_width": ""
          }
        },
        "60328d6f070a495d8dd1ef473d326296": {
          "model_module": "@jupyter-widgets/controls",
          "model_name": "HBoxModel",
          "model_module_version": "1.5.0",
          "state": {
            "_dom_classes": [],
            "_model_module": "@jupyter-widgets/controls",
            "_model_module_version": "1.5.0",
            "_model_name": "HBoxModel",
            "_view_count": null,
            "_view_module": "@jupyter-widgets/controls",
            "_view_module_version": "1.5.0",
            "_view_name": "HBoxView",
            "box_style": "",
            "children": [
              "IPY_MODEL_909dcd3eb66f41018a557f62135bb6fd",
              "IPY_MODEL_8822b14312ff481e80c32593d4013a17",
              "IPY_MODEL_c17ca8072d324ffc85b2d4b28fc5bddd"
            ],
            "layout": "IPY_MODEL_1cb7c2aebc6c472a8b6642f90b2fe14d"
          }
        },
        "909dcd3eb66f41018a557f62135bb6fd": {
          "model_module": "@jupyter-widgets/controls",
          "model_name": "HTMLModel",
          "model_module_version": "1.5.0",
          "state": {
            "_dom_classes": [],
            "_model_module": "@jupyter-widgets/controls",
            "_model_module_version": "1.5.0",
            "_model_name": "HTMLModel",
            "_view_count": null,
            "_view_module": "@jupyter-widgets/controls",
            "_view_module_version": "1.5.0",
            "_view_name": "HTMLView",
            "description": "",
            "description_tooltip": null,
            "layout": "IPY_MODEL_8e1721cb09c043b8a82baa876db3e582",
            "placeholder": "​",
            "style": "IPY_MODEL_fba60a5f5e304c73b1b6fe08942b5450",
            "value": "tokenizer.json: 100%"
          }
        },
        "8822b14312ff481e80c32593d4013a17": {
          "model_module": "@jupyter-widgets/controls",
          "model_name": "FloatProgressModel",
          "model_module_version": "1.5.0",
          "state": {
            "_dom_classes": [],
            "_model_module": "@jupyter-widgets/controls",
            "_model_module_version": "1.5.0",
            "_model_name": "FloatProgressModel",
            "_view_count": null,
            "_view_module": "@jupyter-widgets/controls",
            "_view_module_version": "1.5.0",
            "_view_name": "ProgressView",
            "bar_style": "success",
            "description": "",
            "description_tooltip": null,
            "layout": "IPY_MODEL_a939055539fe4993a9c942a88d06c975",
            "max": 466021,
            "min": 0,
            "orientation": "horizontal",
            "style": "IPY_MODEL_ae7d876774fe4053be9eb5eff7f6b396",
            "value": 466021
          }
        },
        "c17ca8072d324ffc85b2d4b28fc5bddd": {
          "model_module": "@jupyter-widgets/controls",
          "model_name": "HTMLModel",
          "model_module_version": "1.5.0",
          "state": {
            "_dom_classes": [],
            "_model_module": "@jupyter-widgets/controls",
            "_model_module_version": "1.5.0",
            "_model_name": "HTMLModel",
            "_view_count": null,
            "_view_module": "@jupyter-widgets/controls",
            "_view_module_version": "1.5.0",
            "_view_name": "HTMLView",
            "description": "",
            "description_tooltip": null,
            "layout": "IPY_MODEL_4bbbce9672234c83bdbd6334d7290d81",
            "placeholder": "​",
            "style": "IPY_MODEL_9bb705f2e521493e949c5667386e0c90",
            "value": " 466k/466k [00:00&lt;00:00, 3.83MB/s]"
          }
        },
        "1cb7c2aebc6c472a8b6642f90b2fe14d": {
          "model_module": "@jupyter-widgets/base",
          "model_name": "LayoutModel",
          "model_module_version": "1.2.0",
          "state": {
            "_model_module": "@jupyter-widgets/base",
            "_model_module_version": "1.2.0",
            "_model_name": "LayoutModel",
            "_view_count": null,
            "_view_module": "@jupyter-widgets/base",
            "_view_module_version": "1.2.0",
            "_view_name": "LayoutView",
            "align_content": null,
            "align_items": null,
            "align_self": null,
            "border": null,
            "bottom": null,
            "display": null,
            "flex": null,
            "flex_flow": null,
            "grid_area": null,
            "grid_auto_columns": null,
            "grid_auto_flow": null,
            "grid_auto_rows": null,
            "grid_column": null,
            "grid_gap": null,
            "grid_row": null,
            "grid_template_areas": null,
            "grid_template_columns": null,
            "grid_template_rows": null,
            "height": null,
            "justify_content": null,
            "justify_items": null,
            "left": null,
            "margin": null,
            "max_height": null,
            "max_width": null,
            "min_height": null,
            "min_width": null,
            "object_fit": null,
            "object_position": null,
            "order": null,
            "overflow": null,
            "overflow_x": null,
            "overflow_y": null,
            "padding": null,
            "right": null,
            "top": null,
            "visibility": null,
            "width": null
          }
        },
        "8e1721cb09c043b8a82baa876db3e582": {
          "model_module": "@jupyter-widgets/base",
          "model_name": "LayoutModel",
          "model_module_version": "1.2.0",
          "state": {
            "_model_module": "@jupyter-widgets/base",
            "_model_module_version": "1.2.0",
            "_model_name": "LayoutModel",
            "_view_count": null,
            "_view_module": "@jupyter-widgets/base",
            "_view_module_version": "1.2.0",
            "_view_name": "LayoutView",
            "align_content": null,
            "align_items": null,
            "align_self": null,
            "border": null,
            "bottom": null,
            "display": null,
            "flex": null,
            "flex_flow": null,
            "grid_area": null,
            "grid_auto_columns": null,
            "grid_auto_flow": null,
            "grid_auto_rows": null,
            "grid_column": null,
            "grid_gap": null,
            "grid_row": null,
            "grid_template_areas": null,
            "grid_template_columns": null,
            "grid_template_rows": null,
            "height": null,
            "justify_content": null,
            "justify_items": null,
            "left": null,
            "margin": null,
            "max_height": null,
            "max_width": null,
            "min_height": null,
            "min_width": null,
            "object_fit": null,
            "object_position": null,
            "order": null,
            "overflow": null,
            "overflow_x": null,
            "overflow_y": null,
            "padding": null,
            "right": null,
            "top": null,
            "visibility": null,
            "width": null
          }
        },
        "fba60a5f5e304c73b1b6fe08942b5450": {
          "model_module": "@jupyter-widgets/controls",
          "model_name": "DescriptionStyleModel",
          "model_module_version": "1.5.0",
          "state": {
            "_model_module": "@jupyter-widgets/controls",
            "_model_module_version": "1.5.0",
            "_model_name": "DescriptionStyleModel",
            "_view_count": null,
            "_view_module": "@jupyter-widgets/base",
            "_view_module_version": "1.2.0",
            "_view_name": "StyleView",
            "description_width": ""
          }
        },
        "a939055539fe4993a9c942a88d06c975": {
          "model_module": "@jupyter-widgets/base",
          "model_name": "LayoutModel",
          "model_module_version": "1.2.0",
          "state": {
            "_model_module": "@jupyter-widgets/base",
            "_model_module_version": "1.2.0",
            "_model_name": "LayoutModel",
            "_view_count": null,
            "_view_module": "@jupyter-widgets/base",
            "_view_module_version": "1.2.0",
            "_view_name": "LayoutView",
            "align_content": null,
            "align_items": null,
            "align_self": null,
            "border": null,
            "bottom": null,
            "display": null,
            "flex": null,
            "flex_flow": null,
            "grid_area": null,
            "grid_auto_columns": null,
            "grid_auto_flow": null,
            "grid_auto_rows": null,
            "grid_column": null,
            "grid_gap": null,
            "grid_row": null,
            "grid_template_areas": null,
            "grid_template_columns": null,
            "grid_template_rows": null,
            "height": null,
            "justify_content": null,
            "justify_items": null,
            "left": null,
            "margin": null,
            "max_height": null,
            "max_width": null,
            "min_height": null,
            "min_width": null,
            "object_fit": null,
            "object_position": null,
            "order": null,
            "overflow": null,
            "overflow_x": null,
            "overflow_y": null,
            "padding": null,
            "right": null,
            "top": null,
            "visibility": null,
            "width": null
          }
        },
        "ae7d876774fe4053be9eb5eff7f6b396": {
          "model_module": "@jupyter-widgets/controls",
          "model_name": "ProgressStyleModel",
          "model_module_version": "1.5.0",
          "state": {
            "_model_module": "@jupyter-widgets/controls",
            "_model_module_version": "1.5.0",
            "_model_name": "ProgressStyleModel",
            "_view_count": null,
            "_view_module": "@jupyter-widgets/base",
            "_view_module_version": "1.2.0",
            "_view_name": "StyleView",
            "bar_color": null,
            "description_width": ""
          }
        },
        "4bbbce9672234c83bdbd6334d7290d81": {
          "model_module": "@jupyter-widgets/base",
          "model_name": "LayoutModel",
          "model_module_version": "1.2.0",
          "state": {
            "_model_module": "@jupyter-widgets/base",
            "_model_module_version": "1.2.0",
            "_model_name": "LayoutModel",
            "_view_count": null,
            "_view_module": "@jupyter-widgets/base",
            "_view_module_version": "1.2.0",
            "_view_name": "LayoutView",
            "align_content": null,
            "align_items": null,
            "align_self": null,
            "border": null,
            "bottom": null,
            "display": null,
            "flex": null,
            "flex_flow": null,
            "grid_area": null,
            "grid_auto_columns": null,
            "grid_auto_flow": null,
            "grid_auto_rows": null,
            "grid_column": null,
            "grid_gap": null,
            "grid_row": null,
            "grid_template_areas": null,
            "grid_template_columns": null,
            "grid_template_rows": null,
            "height": null,
            "justify_content": null,
            "justify_items": null,
            "left": null,
            "margin": null,
            "max_height": null,
            "max_width": null,
            "min_height": null,
            "min_width": null,
            "object_fit": null,
            "object_position": null,
            "order": null,
            "overflow": null,
            "overflow_x": null,
            "overflow_y": null,
            "padding": null,
            "right": null,
            "top": null,
            "visibility": null,
            "width": null
          }
        },
        "9bb705f2e521493e949c5667386e0c90": {
          "model_module": "@jupyter-widgets/controls",
          "model_name": "DescriptionStyleModel",
          "model_module_version": "1.5.0",
          "state": {
            "_model_module": "@jupyter-widgets/controls",
            "_model_module_version": "1.5.0",
            "_model_name": "DescriptionStyleModel",
            "_view_count": null,
            "_view_module": "@jupyter-widgets/base",
            "_view_module_version": "1.2.0",
            "_view_name": "StyleView",
            "description_width": ""
          }
        },
        "caf61db9e4864fa7a302f34d8fa301ca": {
          "model_module": "@jupyter-widgets/controls",
          "model_name": "HBoxModel",
          "model_module_version": "1.5.0",
          "state": {
            "_dom_classes": [],
            "_model_module": "@jupyter-widgets/controls",
            "_model_module_version": "1.5.0",
            "_model_name": "HBoxModel",
            "_view_count": null,
            "_view_module": "@jupyter-widgets/controls",
            "_view_module_version": "1.5.0",
            "_view_name": "HBoxView",
            "box_style": "",
            "children": [
              "IPY_MODEL_0c25f26b81f64e269de6ba1ec66bd5b7",
              "IPY_MODEL_d64a59c5040441b6b4209b201c21aa4b",
              "IPY_MODEL_5efbad6282d54c04b32ee2d1d7b62466"
            ],
            "layout": "IPY_MODEL_3b98cd8e4783435e9e97d2d7c0400b7f"
          }
        },
        "0c25f26b81f64e269de6ba1ec66bd5b7": {
          "model_module": "@jupyter-widgets/controls",
          "model_name": "HTMLModel",
          "model_module_version": "1.5.0",
          "state": {
            "_dom_classes": [],
            "_model_module": "@jupyter-widgets/controls",
            "_model_module_version": "1.5.0",
            "_model_name": "HTMLModel",
            "_view_count": null,
            "_view_module": "@jupyter-widgets/controls",
            "_view_module_version": "1.5.0",
            "_view_name": "HTMLView",
            "description": "",
            "description_tooltip": null,
            "layout": "IPY_MODEL_4e09f356f7af432e9b02ec93fc2f2617",
            "placeholder": "​",
            "style": "IPY_MODEL_daae3673cda94c6499e96244ab308aa3",
            "value": "special_tokens_map.json: 100%"
          }
        },
        "d64a59c5040441b6b4209b201c21aa4b": {
          "model_module": "@jupyter-widgets/controls",
          "model_name": "FloatProgressModel",
          "model_module_version": "1.5.0",
          "state": {
            "_dom_classes": [],
            "_model_module": "@jupyter-widgets/controls",
            "_model_module_version": "1.5.0",
            "_model_name": "FloatProgressModel",
            "_view_count": null,
            "_view_module": "@jupyter-widgets/controls",
            "_view_module_version": "1.5.0",
            "_view_name": "ProgressView",
            "bar_style": "success",
            "description": "",
            "description_tooltip": null,
            "layout": "IPY_MODEL_eeefb8eb9a72410591f29b12dba8a016",
            "max": 239,
            "min": 0,
            "orientation": "horizontal",
            "style": "IPY_MODEL_c9d71781b3ec487f848d2c281191ee71",
            "value": 239
          }
        },
        "5efbad6282d54c04b32ee2d1d7b62466": {
          "model_module": "@jupyter-widgets/controls",
          "model_name": "HTMLModel",
          "model_module_version": "1.5.0",
          "state": {
            "_dom_classes": [],
            "_model_module": "@jupyter-widgets/controls",
            "_model_module_version": "1.5.0",
            "_model_name": "HTMLModel",
            "_view_count": null,
            "_view_module": "@jupyter-widgets/controls",
            "_view_module_version": "1.5.0",
            "_view_name": "HTMLView",
            "description": "",
            "description_tooltip": null,
            "layout": "IPY_MODEL_de681ac412364ccb9660eaf92ebc4af3",
            "placeholder": "​",
            "style": "IPY_MODEL_f1720bbe33064fcca49b6ee09a34d84f",
            "value": " 239/239 [00:00&lt;00:00, 14.7kB/s]"
          }
        },
        "3b98cd8e4783435e9e97d2d7c0400b7f": {
          "model_module": "@jupyter-widgets/base",
          "model_name": "LayoutModel",
          "model_module_version": "1.2.0",
          "state": {
            "_model_module": "@jupyter-widgets/base",
            "_model_module_version": "1.2.0",
            "_model_name": "LayoutModel",
            "_view_count": null,
            "_view_module": "@jupyter-widgets/base",
            "_view_module_version": "1.2.0",
            "_view_name": "LayoutView",
            "align_content": null,
            "align_items": null,
            "align_self": null,
            "border": null,
            "bottom": null,
            "display": null,
            "flex": null,
            "flex_flow": null,
            "grid_area": null,
            "grid_auto_columns": null,
            "grid_auto_flow": null,
            "grid_auto_rows": null,
            "grid_column": null,
            "grid_gap": null,
            "grid_row": null,
            "grid_template_areas": null,
            "grid_template_columns": null,
            "grid_template_rows": null,
            "height": null,
            "justify_content": null,
            "justify_items": null,
            "left": null,
            "margin": null,
            "max_height": null,
            "max_width": null,
            "min_height": null,
            "min_width": null,
            "object_fit": null,
            "object_position": null,
            "order": null,
            "overflow": null,
            "overflow_x": null,
            "overflow_y": null,
            "padding": null,
            "right": null,
            "top": null,
            "visibility": null,
            "width": null
          }
        },
        "4e09f356f7af432e9b02ec93fc2f2617": {
          "model_module": "@jupyter-widgets/base",
          "model_name": "LayoutModel",
          "model_module_version": "1.2.0",
          "state": {
            "_model_module": "@jupyter-widgets/base",
            "_model_module_version": "1.2.0",
            "_model_name": "LayoutModel",
            "_view_count": null,
            "_view_module": "@jupyter-widgets/base",
            "_view_module_version": "1.2.0",
            "_view_name": "LayoutView",
            "align_content": null,
            "align_items": null,
            "align_self": null,
            "border": null,
            "bottom": null,
            "display": null,
            "flex": null,
            "flex_flow": null,
            "grid_area": null,
            "grid_auto_columns": null,
            "grid_auto_flow": null,
            "grid_auto_rows": null,
            "grid_column": null,
            "grid_gap": null,
            "grid_row": null,
            "grid_template_areas": null,
            "grid_template_columns": null,
            "grid_template_rows": null,
            "height": null,
            "justify_content": null,
            "justify_items": null,
            "left": null,
            "margin": null,
            "max_height": null,
            "max_width": null,
            "min_height": null,
            "min_width": null,
            "object_fit": null,
            "object_position": null,
            "order": null,
            "overflow": null,
            "overflow_x": null,
            "overflow_y": null,
            "padding": null,
            "right": null,
            "top": null,
            "visibility": null,
            "width": null
          }
        },
        "daae3673cda94c6499e96244ab308aa3": {
          "model_module": "@jupyter-widgets/controls",
          "model_name": "DescriptionStyleModel",
          "model_module_version": "1.5.0",
          "state": {
            "_model_module": "@jupyter-widgets/controls",
            "_model_module_version": "1.5.0",
            "_model_name": "DescriptionStyleModel",
            "_view_count": null,
            "_view_module": "@jupyter-widgets/base",
            "_view_module_version": "1.2.0",
            "_view_name": "StyleView",
            "description_width": ""
          }
        },
        "eeefb8eb9a72410591f29b12dba8a016": {
          "model_module": "@jupyter-widgets/base",
          "model_name": "LayoutModel",
          "model_module_version": "1.2.0",
          "state": {
            "_model_module": "@jupyter-widgets/base",
            "_model_module_version": "1.2.0",
            "_model_name": "LayoutModel",
            "_view_count": null,
            "_view_module": "@jupyter-widgets/base",
            "_view_module_version": "1.2.0",
            "_view_name": "LayoutView",
            "align_content": null,
            "align_items": null,
            "align_self": null,
            "border": null,
            "bottom": null,
            "display": null,
            "flex": null,
            "flex_flow": null,
            "grid_area": null,
            "grid_auto_columns": null,
            "grid_auto_flow": null,
            "grid_auto_rows": null,
            "grid_column": null,
            "grid_gap": null,
            "grid_row": null,
            "grid_template_areas": null,
            "grid_template_columns": null,
            "grid_template_rows": null,
            "height": null,
            "justify_content": null,
            "justify_items": null,
            "left": null,
            "margin": null,
            "max_height": null,
            "max_width": null,
            "min_height": null,
            "min_width": null,
            "object_fit": null,
            "object_position": null,
            "order": null,
            "overflow": null,
            "overflow_x": null,
            "overflow_y": null,
            "padding": null,
            "right": null,
            "top": null,
            "visibility": null,
            "width": null
          }
        },
        "c9d71781b3ec487f848d2c281191ee71": {
          "model_module": "@jupyter-widgets/controls",
          "model_name": "ProgressStyleModel",
          "model_module_version": "1.5.0",
          "state": {
            "_model_module": "@jupyter-widgets/controls",
            "_model_module_version": "1.5.0",
            "_model_name": "ProgressStyleModel",
            "_view_count": null,
            "_view_module": "@jupyter-widgets/base",
            "_view_module_version": "1.2.0",
            "_view_name": "StyleView",
            "bar_color": null,
            "description_width": ""
          }
        },
        "de681ac412364ccb9660eaf92ebc4af3": {
          "model_module": "@jupyter-widgets/base",
          "model_name": "LayoutModel",
          "model_module_version": "1.2.0",
          "state": {
            "_model_module": "@jupyter-widgets/base",
            "_model_module_version": "1.2.0",
            "_model_name": "LayoutModel",
            "_view_count": null,
            "_view_module": "@jupyter-widgets/base",
            "_view_module_version": "1.2.0",
            "_view_name": "LayoutView",
            "align_content": null,
            "align_items": null,
            "align_self": null,
            "border": null,
            "bottom": null,
            "display": null,
            "flex": null,
            "flex_flow": null,
            "grid_area": null,
            "grid_auto_columns": null,
            "grid_auto_flow": null,
            "grid_auto_rows": null,
            "grid_column": null,
            "grid_gap": null,
            "grid_row": null,
            "grid_template_areas": null,
            "grid_template_columns": null,
            "grid_template_rows": null,
            "height": null,
            "justify_content": null,
            "justify_items": null,
            "left": null,
            "margin": null,
            "max_height": null,
            "max_width": null,
            "min_height": null,
            "min_width": null,
            "object_fit": null,
            "object_position": null,
            "order": null,
            "overflow": null,
            "overflow_x": null,
            "overflow_y": null,
            "padding": null,
            "right": null,
            "top": null,
            "visibility": null,
            "width": null
          }
        },
        "f1720bbe33064fcca49b6ee09a34d84f": {
          "model_module": "@jupyter-widgets/controls",
          "model_name": "DescriptionStyleModel",
          "model_module_version": "1.5.0",
          "state": {
            "_model_module": "@jupyter-widgets/controls",
            "_model_module_version": "1.5.0",
            "_model_name": "DescriptionStyleModel",
            "_view_count": null,
            "_view_module": "@jupyter-widgets/base",
            "_view_module_version": "1.2.0",
            "_view_name": "StyleView",
            "description_width": ""
          }
        },
        "52382f19087944a28a485c1876f5dc62": {
          "model_module": "@jupyter-widgets/controls",
          "model_name": "HBoxModel",
          "model_module_version": "1.5.0",
          "state": {
            "_dom_classes": [],
            "_model_module": "@jupyter-widgets/controls",
            "_model_module_version": "1.5.0",
            "_model_name": "HBoxModel",
            "_view_count": null,
            "_view_module": "@jupyter-widgets/controls",
            "_view_module_version": "1.5.0",
            "_view_name": "HBoxView",
            "box_style": "",
            "children": [
              "IPY_MODEL_5eb00c7a0b6445d79cb0de94194b41f4",
              "IPY_MODEL_5c5c61e8366745a39fbe5ceb3bbd2307",
              "IPY_MODEL_f0b114c6aa174d9587c21aba962f936a"
            ],
            "layout": "IPY_MODEL_f1e29e0e850c4fefbbf7991289a80d4d"
          }
        },
        "5eb00c7a0b6445d79cb0de94194b41f4": {
          "model_module": "@jupyter-widgets/controls",
          "model_name": "HTMLModel",
          "model_module_version": "1.5.0",
          "state": {
            "_dom_classes": [],
            "_model_module": "@jupyter-widgets/controls",
            "_model_module_version": "1.5.0",
            "_model_name": "HTMLModel",
            "_view_count": null,
            "_view_module": "@jupyter-widgets/controls",
            "_view_module_version": "1.5.0",
            "_view_name": "HTMLView",
            "description": "",
            "description_tooltip": null,
            "layout": "IPY_MODEL_038ca4f141fd4ee58bfc49333265dbde",
            "placeholder": "​",
            "style": "IPY_MODEL_eee67f9996d848a2bc71abab5061d018",
            "value": "1_Pooling/config.json: 100%"
          }
        },
        "5c5c61e8366745a39fbe5ceb3bbd2307": {
          "model_module": "@jupyter-widgets/controls",
          "model_name": "FloatProgressModel",
          "model_module_version": "1.5.0",
          "state": {
            "_dom_classes": [],
            "_model_module": "@jupyter-widgets/controls",
            "_model_module_version": "1.5.0",
            "_model_name": "FloatProgressModel",
            "_view_count": null,
            "_view_module": "@jupyter-widgets/controls",
            "_view_module_version": "1.5.0",
            "_view_name": "ProgressView",
            "bar_style": "success",
            "description": "",
            "description_tooltip": null,
            "layout": "IPY_MODEL_8f0906422b5c427aaf500715048afc1e",
            "max": 190,
            "min": 0,
            "orientation": "horizontal",
            "style": "IPY_MODEL_49616abc846d4169baccda5efd6efa0c",
            "value": 190
          }
        },
        "f0b114c6aa174d9587c21aba962f936a": {
          "model_module": "@jupyter-widgets/controls",
          "model_name": "HTMLModel",
          "model_module_version": "1.5.0",
          "state": {
            "_dom_classes": [],
            "_model_module": "@jupyter-widgets/controls",
            "_model_module_version": "1.5.0",
            "_model_name": "HTMLModel",
            "_view_count": null,
            "_view_module": "@jupyter-widgets/controls",
            "_view_module_version": "1.5.0",
            "_view_name": "HTMLView",
            "description": "",
            "description_tooltip": null,
            "layout": "IPY_MODEL_5aabc856fbc7498ab879f4c4d2482337",
            "placeholder": "​",
            "style": "IPY_MODEL_a6b4fe9ebd4e4226981594343c2d3add",
            "value": " 190/190 [00:00&lt;00:00, 14.0kB/s]"
          }
        },
        "f1e29e0e850c4fefbbf7991289a80d4d": {
          "model_module": "@jupyter-widgets/base",
          "model_name": "LayoutModel",
          "model_module_version": "1.2.0",
          "state": {
            "_model_module": "@jupyter-widgets/base",
            "_model_module_version": "1.2.0",
            "_model_name": "LayoutModel",
            "_view_count": null,
            "_view_module": "@jupyter-widgets/base",
            "_view_module_version": "1.2.0",
            "_view_name": "LayoutView",
            "align_content": null,
            "align_items": null,
            "align_self": null,
            "border": null,
            "bottom": null,
            "display": null,
            "flex": null,
            "flex_flow": null,
            "grid_area": null,
            "grid_auto_columns": null,
            "grid_auto_flow": null,
            "grid_auto_rows": null,
            "grid_column": null,
            "grid_gap": null,
            "grid_row": null,
            "grid_template_areas": null,
            "grid_template_columns": null,
            "grid_template_rows": null,
            "height": null,
            "justify_content": null,
            "justify_items": null,
            "left": null,
            "margin": null,
            "max_height": null,
            "max_width": null,
            "min_height": null,
            "min_width": null,
            "object_fit": null,
            "object_position": null,
            "order": null,
            "overflow": null,
            "overflow_x": null,
            "overflow_y": null,
            "padding": null,
            "right": null,
            "top": null,
            "visibility": null,
            "width": null
          }
        },
        "038ca4f141fd4ee58bfc49333265dbde": {
          "model_module": "@jupyter-widgets/base",
          "model_name": "LayoutModel",
          "model_module_version": "1.2.0",
          "state": {
            "_model_module": "@jupyter-widgets/base",
            "_model_module_version": "1.2.0",
            "_model_name": "LayoutModel",
            "_view_count": null,
            "_view_module": "@jupyter-widgets/base",
            "_view_module_version": "1.2.0",
            "_view_name": "LayoutView",
            "align_content": null,
            "align_items": null,
            "align_self": null,
            "border": null,
            "bottom": null,
            "display": null,
            "flex": null,
            "flex_flow": null,
            "grid_area": null,
            "grid_auto_columns": null,
            "grid_auto_flow": null,
            "grid_auto_rows": null,
            "grid_column": null,
            "grid_gap": null,
            "grid_row": null,
            "grid_template_areas": null,
            "grid_template_columns": null,
            "grid_template_rows": null,
            "height": null,
            "justify_content": null,
            "justify_items": null,
            "left": null,
            "margin": null,
            "max_height": null,
            "max_width": null,
            "min_height": null,
            "min_width": null,
            "object_fit": null,
            "object_position": null,
            "order": null,
            "overflow": null,
            "overflow_x": null,
            "overflow_y": null,
            "padding": null,
            "right": null,
            "top": null,
            "visibility": null,
            "width": null
          }
        },
        "eee67f9996d848a2bc71abab5061d018": {
          "model_module": "@jupyter-widgets/controls",
          "model_name": "DescriptionStyleModel",
          "model_module_version": "1.5.0",
          "state": {
            "_model_module": "@jupyter-widgets/controls",
            "_model_module_version": "1.5.0",
            "_model_name": "DescriptionStyleModel",
            "_view_count": null,
            "_view_module": "@jupyter-widgets/base",
            "_view_module_version": "1.2.0",
            "_view_name": "StyleView",
            "description_width": ""
          }
        },
        "8f0906422b5c427aaf500715048afc1e": {
          "model_module": "@jupyter-widgets/base",
          "model_name": "LayoutModel",
          "model_module_version": "1.2.0",
          "state": {
            "_model_module": "@jupyter-widgets/base",
            "_model_module_version": "1.2.0",
            "_model_name": "LayoutModel",
            "_view_count": null,
            "_view_module": "@jupyter-widgets/base",
            "_view_module_version": "1.2.0",
            "_view_name": "LayoutView",
            "align_content": null,
            "align_items": null,
            "align_self": null,
            "border": null,
            "bottom": null,
            "display": null,
            "flex": null,
            "flex_flow": null,
            "grid_area": null,
            "grid_auto_columns": null,
            "grid_auto_flow": null,
            "grid_auto_rows": null,
            "grid_column": null,
            "grid_gap": null,
            "grid_row": null,
            "grid_template_areas": null,
            "grid_template_columns": null,
            "grid_template_rows": null,
            "height": null,
            "justify_content": null,
            "justify_items": null,
            "left": null,
            "margin": null,
            "max_height": null,
            "max_width": null,
            "min_height": null,
            "min_width": null,
            "object_fit": null,
            "object_position": null,
            "order": null,
            "overflow": null,
            "overflow_x": null,
            "overflow_y": null,
            "padding": null,
            "right": null,
            "top": null,
            "visibility": null,
            "width": null
          }
        },
        "49616abc846d4169baccda5efd6efa0c": {
          "model_module": "@jupyter-widgets/controls",
          "model_name": "ProgressStyleModel",
          "model_module_version": "1.5.0",
          "state": {
            "_model_module": "@jupyter-widgets/controls",
            "_model_module_version": "1.5.0",
            "_model_name": "ProgressStyleModel",
            "_view_count": null,
            "_view_module": "@jupyter-widgets/base",
            "_view_module_version": "1.2.0",
            "_view_name": "StyleView",
            "bar_color": null,
            "description_width": ""
          }
        },
        "5aabc856fbc7498ab879f4c4d2482337": {
          "model_module": "@jupyter-widgets/base",
          "model_name": "LayoutModel",
          "model_module_version": "1.2.0",
          "state": {
            "_model_module": "@jupyter-widgets/base",
            "_model_module_version": "1.2.0",
            "_model_name": "LayoutModel",
            "_view_count": null,
            "_view_module": "@jupyter-widgets/base",
            "_view_module_version": "1.2.0",
            "_view_name": "LayoutView",
            "align_content": null,
            "align_items": null,
            "align_self": null,
            "border": null,
            "bottom": null,
            "display": null,
            "flex": null,
            "flex_flow": null,
            "grid_area": null,
            "grid_auto_columns": null,
            "grid_auto_flow": null,
            "grid_auto_rows": null,
            "grid_column": null,
            "grid_gap": null,
            "grid_row": null,
            "grid_template_areas": null,
            "grid_template_columns": null,
            "grid_template_rows": null,
            "height": null,
            "justify_content": null,
            "justify_items": null,
            "left": null,
            "margin": null,
            "max_height": null,
            "max_width": null,
            "min_height": null,
            "min_width": null,
            "object_fit": null,
            "object_position": null,
            "order": null,
            "overflow": null,
            "overflow_x": null,
            "overflow_y": null,
            "padding": null,
            "right": null,
            "top": null,
            "visibility": null,
            "width": null
          }
        },
        "a6b4fe9ebd4e4226981594343c2d3add": {
          "model_module": "@jupyter-widgets/controls",
          "model_name": "DescriptionStyleModel",
          "model_module_version": "1.5.0",
          "state": {
            "_model_module": "@jupyter-widgets/controls",
            "_model_module_version": "1.5.0",
            "_model_name": "DescriptionStyleModel",
            "_view_count": null,
            "_view_module": "@jupyter-widgets/base",
            "_view_module_version": "1.2.0",
            "_view_name": "StyleView",
            "description_width": ""
          }
        },
        "bcaddb34d5594eb2b4ae29250247b443": {
          "model_module": "jupyter-matplotlib",
          "model_name": "MPLCanvasModel",
          "model_module_version": "^0.11",
          "state": {
            "_cursor": "default",
            "_data_url": "data:image/png;base64,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",
            "_dom_classes": [],
            "_figure_label": "Figure 1",
            "_image_mode": "full",
            "_message": "",
            "_model_module": "jupyter-matplotlib",
            "_model_module_version": "^0.11",
            "_model_name": "MPLCanvasModel",
            "_rubberband_height": 0,
            "_rubberband_width": 0,
            "_rubberband_x": 0,
            "_rubberband_y": 0,
            "_size": [
              640,
              480
            ],
            "_view_count": null,
            "_view_module": "jupyter-matplotlib",
            "_view_module_version": "^0.11",
            "_view_name": "MPLCanvasView",
            "capture_scroll": false,
            "footer_visible": true,
            "header_visible": true,
            "layout": "IPY_MODEL_12592c98c50d427297bae7a772a3fff6",
            "pan_zoom_throttle": 33,
            "resizable": true,
            "toolbar": "IPY_MODEL_461d2100b45949d19a17e4e1f7b40852",
            "toolbar_position": "left",
            "toolbar_visible": "fade-in-fade-out"
          }
        },
        "12592c98c50d427297bae7a772a3fff6": {
          "model_module": "@jupyter-widgets/base",
          "model_name": "LayoutModel",
          "model_module_version": "1.2.0",
          "state": {
            "_model_module": "@jupyter-widgets/base",
            "_model_module_version": "1.2.0",
            "_model_name": "LayoutModel",
            "_view_count": null,
            "_view_module": "@jupyter-widgets/base",
            "_view_module_version": "1.2.0",
            "_view_name": "LayoutView",
            "align_content": null,
            "align_items": null,
            "align_self": null,
            "border": null,
            "bottom": null,
            "display": null,
            "flex": null,
            "flex_flow": null,
            "grid_area": null,
            "grid_auto_columns": null,
            "grid_auto_flow": null,
            "grid_auto_rows": null,
            "grid_column": null,
            "grid_gap": null,
            "grid_row": null,
            "grid_template_areas": null,
            "grid_template_columns": null,
            "grid_template_rows": null,
            "height": null,
            "justify_content": null,
            "justify_items": null,
            "left": null,
            "margin": null,
            "max_height": null,
            "max_width": null,
            "min_height": null,
            "min_width": null,
            "object_fit": null,
            "object_position": null,
            "order": null,
            "overflow": null,
            "overflow_x": null,
            "overflow_y": null,
            "padding": null,
            "right": null,
            "top": null,
            "visibility": null,
            "width": null
          }
        },
        "461d2100b45949d19a17e4e1f7b40852": {
          "model_module": "jupyter-matplotlib",
          "model_name": "ToolbarModel",
          "model_module_version": "^0.11",
          "state": {
            "_current_action": "",
            "_dom_classes": [],
            "_model_module": "jupyter-matplotlib",
            "_model_module_version": "^0.11",
            "_model_name": "ToolbarModel",
            "_view_count": null,
            "_view_module": "jupyter-matplotlib",
            "_view_module_version": "^0.11",
            "_view_name": "ToolbarView",
            "button_style": "",
            "collapsed": true,
            "layout": "IPY_MODEL_3faeced5898c44e39ce14f3aa159722b",
            "orientation": "vertical",
            "toolitems": [
              [
                "Home",
                "Reset original view",
                "home",
                "home"
              ],
              [
                "Back",
                "Back to previous view",
                "arrow-left",
                "back"
              ],
              [
                "Forward",
                "Forward to next view",
                "arrow-right",
                "forward"
              ],
              [
                "Pan",
                "Left button pans, Right button zooms\nx/y fixes axis, CTRL fixes aspect",
                "arrows",
                "pan"
              ],
              [
                "Zoom",
                "Zoom to rectangle\nx/y fixes axis",
                "square-o",
                "zoom"
              ],
              [
                "Download",
                "Download plot",
                "floppy-o",
                "save_figure"
              ]
            ]
          }
        },
        "3faeced5898c44e39ce14f3aa159722b": {
          "model_module": "@jupyter-widgets/base",
          "model_name": "LayoutModel",
          "model_module_version": "1.2.0",
          "state": {
            "_model_module": "@jupyter-widgets/base",
            "_model_module_version": "1.2.0",
            "_model_name": "LayoutModel",
            "_view_count": null,
            "_view_module": "@jupyter-widgets/base",
            "_view_module_version": "1.2.0",
            "_view_name": "LayoutView",
            "align_content": null,
            "align_items": null,
            "align_self": null,
            "border": null,
            "bottom": null,
            "display": null,
            "flex": null,
            "flex_flow": null,
            "grid_area": null,
            "grid_auto_columns": null,
            "grid_auto_flow": null,
            "grid_auto_rows": null,
            "grid_column": null,
            "grid_gap": null,
            "grid_row": null,
            "grid_template_areas": null,
            "grid_template_columns": null,
            "grid_template_rows": null,
            "height": null,
            "justify_content": null,
            "justify_items": null,
            "left": null,
            "margin": null,
            "max_height": null,
            "max_width": null,
            "min_height": null,
            "min_width": null,
            "object_fit": null,
            "object_position": null,
            "order": null,
            "overflow": null,
            "overflow_x": null,
            "overflow_y": null,
            "padding": null,
            "right": null,
            "top": null,
            "visibility": null,
            "width": null
          }
        }
      }
    }
  },
  "nbformat": 4,
  "nbformat_minor": 5
}