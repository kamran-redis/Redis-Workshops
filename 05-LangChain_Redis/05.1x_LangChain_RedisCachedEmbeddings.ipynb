{
  "cells": [
    {
      "cell_type": "markdown",
      "metadata": {
        "id": "view-in-github",
        "colab_type": "text"
      },
      "source": [
        "<a href=\"https://colab.research.google.com/github/antonum/Redis-Workshops/blob/main/05-LangChain_Redis/05.1x_LangChain_RedisCachedEmbeddings.ipynb\" target=\"_parent\"><img src=\"https://colab.research.google.com/assets/colab-badge.svg\" alt=\"Open In Colab\"/></a>"
      ]
    },
    {
      "cell_type": "markdown",
      "metadata": {
        "id": "R2-i8jBl9GRH"
      },
      "source": [
        "# Redis CacheBackedEmbeddings\n",
        "\n",
        "![Redis](https://redis.com/wp-content/themes/wpx/assets/images/logo-redis.svg?auto=webp&quality=85,75&width=120)\n",
        "\n",
        "This notebook goes over how to use Redis to cache the embeddings."
      ]
    },
    {
      "cell_type": "markdown",
      "metadata": {
        "id": "RZsd9twK9-sJ"
      },
      "source": [
        "### Install Dependencies\n"
      ]
    },
    {
      "cell_type": "code",
      "execution_count": 1,
      "metadata": {
        "colab": {
          "base_uri": "https://localhost:8080/"
        },
        "id": "C8uONNrVbe08",
        "outputId": "b02d60ff-36e9-4321-b4b6-7c03be8163e6"
      },
      "outputs": [
        {
          "output_type": "stream",
          "name": "stdout",
          "text": [
            "\u001b[2K     \u001b[90m━━━━━━━━━━━━━━━━━━━━━━━━━━━━━━━━━━━━━━━━\u001b[0m \u001b[32m1.7/1.7 MB\u001b[0m \u001b[31m15.6 MB/s\u001b[0m eta \u001b[36m0:00:00\u001b[0m\n",
            "\u001b[2K     \u001b[90m━━━━━━━━━━━━━━━━━━━━━━━━━━━━━━━━━━━━━━━━\u001b[0m \u001b[32m817.0/817.0 kB\u001b[0m \u001b[31m24.5 MB/s\u001b[0m eta \u001b[36m0:00:00\u001b[0m\n",
            "\u001b[2K     \u001b[90m━━━━━━━━━━━━━━━━━━━━━━━━━━━━━━━━━━━━━━━━\u001b[0m \u001b[32m250.3/250.3 kB\u001b[0m \u001b[31m18.6 MB/s\u001b[0m eta \u001b[36m0:00:00\u001b[0m\n",
            "\u001b[2K     \u001b[90m━━━━━━━━━━━━━━━━━━━━━━━━━━━━━━━━━━━━━━━━\u001b[0m \u001b[32m1.8/1.8 MB\u001b[0m \u001b[31m22.3 MB/s\u001b[0m eta \u001b[36m0:00:00\u001b[0m\n",
            "\u001b[2K     \u001b[90m━━━━━━━━━━━━━━━━━━━━━━━━━━━━━━━━━━━━━━━━\u001b[0m \u001b[32m17.6/17.6 MB\u001b[0m \u001b[31m55.1 MB/s\u001b[0m eta \u001b[36m0:00:00\u001b[0m\n",
            "\u001b[2K     \u001b[90m━━━━━━━━━━━━━━━━━━━━━━━━━━━━━━━━━━━━━━━━\u001b[0m \u001b[32m246.4/246.4 kB\u001b[0m \u001b[31m11.7 MB/s\u001b[0m eta \u001b[36m0:00:00\u001b[0m\n",
            "\u001b[2K     \u001b[90m━━━━━━━━━━━━━━━━━━━━━━━━━━━━━━━━━━━━━━━━\u001b[0m \u001b[32m226.7/226.7 kB\u001b[0m \u001b[31m25.1 MB/s\u001b[0m eta \u001b[36m0:00:00\u001b[0m\n",
            "\u001b[2K     \u001b[90m━━━━━━━━━━━━━━━━━━━━━━━━━━━━━━━━━━━━━━━━\u001b[0m \u001b[32m1.8/1.8 MB\u001b[0m \u001b[31m67.9 MB/s\u001b[0m eta \u001b[36m0:00:00\u001b[0m\n",
            "\u001b[2K     \u001b[90m━━━━━━━━━━━━━━━━━━━━━━━━━━━━━━━━━━━━━━━━\u001b[0m \u001b[32m62.1/62.1 kB\u001b[0m \u001b[31m8.6 MB/s\u001b[0m eta \u001b[36m0:00:00\u001b[0m\n",
            "\u001b[2K     \u001b[90m━━━━━━━━━━━━━━━━━━━━━━━━━━━━━━━━━━━━━━━━\u001b[0m \u001b[32m421.5/421.5 kB\u001b[0m \u001b[31m51.6 MB/s\u001b[0m eta \u001b[36m0:00:00\u001b[0m\n",
            "\u001b[2K     \u001b[90m━━━━━━━━━━━━━━━━━━━━━━━━━━━━━━━━━━━━━━━━\u001b[0m \u001b[32m274.7/274.7 kB\u001b[0m \u001b[31m38.5 MB/s\u001b[0m eta \u001b[36m0:00:00\u001b[0m\n",
            "\u001b[2K     \u001b[90m━━━━━━━━━━━━━━━━━━━━━━━━━━━━━━━━━━━━━━━━\u001b[0m \u001b[32m981.5/981.5 kB\u001b[0m \u001b[31m83.7 MB/s\u001b[0m eta \u001b[36m0:00:00\u001b[0m\n",
            "\u001b[?25h  Preparing metadata (setup.py) ... \u001b[?25l\u001b[?25hdone\n",
            "\u001b[2K     \u001b[90m━━━━━━━━━━━━━━━━━━━━━━━━━━━━━━━━━━━━━━━━\u001b[0m \u001b[32m3.4/3.4 MB\u001b[0m \u001b[31m96.1 MB/s\u001b[0m eta \u001b[36m0:00:00\u001b[0m\n",
            "\u001b[2K     \u001b[90m━━━━━━━━━━━━━━━━━━━━━━━━━━━━━━━━━━━━━━━━\u001b[0m \u001b[32m49.4/49.4 kB\u001b[0m \u001b[31m6.9 MB/s\u001b[0m eta \u001b[36m0:00:00\u001b[0m\n",
            "\u001b[2K     \u001b[90m━━━━━━━━━━━━━━━━━━━━━━━━━━━━━━━━━━━━━━━━\u001b[0m \u001b[32m138.5/138.5 kB\u001b[0m \u001b[31m19.7 MB/s\u001b[0m eta \u001b[36m0:00:00\u001b[0m\n",
            "\u001b[2K     \u001b[90m━━━━━━━━━━━━━━━━━━━━━━━━━━━━━━━━━━━━━━━━\u001b[0m \u001b[32m75.6/75.6 kB\u001b[0m \u001b[31m11.7 MB/s\u001b[0m eta \u001b[36m0:00:00\u001b[0m\n",
            "\u001b[2K     \u001b[90m━━━━━━━━━━━━━━━━━━━━━━━━━━━━━━━━━━━━━━━━\u001b[0m \u001b[32m77.8/77.8 kB\u001b[0m \u001b[31m12.6 MB/s\u001b[0m eta \u001b[36m0:00:00\u001b[0m\n",
            "\u001b[2K     \u001b[90m━━━━━━━━━━━━━━━━━━━━━━━━━━━━━━━━━━━━━━━━\u001b[0m \u001b[32m58.3/58.3 kB\u001b[0m \u001b[31m9.5 MB/s\u001b[0m eta \u001b[36m0:00:00\u001b[0m\n",
            "\u001b[?25h  Building wheel for langdetect (setup.py) ... \u001b[?25l\u001b[?25hdone\n"
          ]
        }
      ],
      "source": [
        "!pip install -q langchain_openai langchain_community langchain redis unstructured faiss-cpu\n"
      ]
    },
    {
      "cell_type": "markdown",
      "metadata": {
        "id": "NXTpvvXi_Lfe"
      },
      "source": [
        "## Initialize OpenAI\n",
        "\n",
        "You need to supply the OpenAI API key (starts with `sk-...`) when prompted. You can find your API key at https://platform.openai.com/account/api-keys"
      ]
    },
    {
      "cell_type": "code",
      "execution_count": 2,
      "metadata": {
        "colab": {
          "base_uri": "https://localhost:8080/"
        },
        "id": "JxPIg3nZyNp9",
        "outputId": "59674d53-cc65-4b4f-f480-6e05d196431c"
      },
      "outputs": [
        {
          "name": "stdout",
          "output_type": "stream",
          "text": [
            "OPENAI_API_KEY··········\n"
          ]
        }
      ],
      "source": [
        "import openai\n",
        "import os\n",
        "import getpass\n",
        "\n",
        "if \"OPENAI_API_KEY\" not in os.environ:\n",
        "    os.environ[\"OPENAI_API_KEY\"] = getpass.getpass(\"OPENAI_API_KEY\")"
      ]
    },
    {
      "cell_type": "markdown",
      "metadata": {
        "id": "NBlbUrB27QQs"
      },
      "source": [
        "### Install Redis Stack\n",
        "\n",
        "Redis will be used as Va message history store for LangChain. Instead of using in-notebook Redis Stack https://redis.io/docs/getting-started/install-stack/ you can provision your own free instance of Redis in the cloud. Get your own Free Redis Cloud instance at https://redis.com/try-free/"
      ]
    },
    {
      "cell_type": "code",
      "execution_count": 3,
      "metadata": {
        "colab": {
          "base_uri": "https://localhost:8080/"
        },
        "id": "aKMKXPY2j8Gt",
        "outputId": "a778c2b7-a430-4f60-8675-3258022a1f1f"
      },
      "outputs": [
        {
          "output_type": "stream",
          "name": "stdout",
          "text": [
            "deb [signed-by=/usr/share/keyrings/redis-archive-keyring.gpg] https://packages.redis.io/deb jammy main\n",
            "Starting redis-stack-server, database path /var/lib/redis-stack\n"
          ]
        }
      ],
      "source": [
        "%%sh\n",
        "curl -fsSL https://packages.redis.io/gpg | sudo gpg --dearmor -o /usr/share/keyrings/redis-archive-keyring.gpg\n",
        "echo \"deb [signed-by=/usr/share/keyrings/redis-archive-keyring.gpg] https://packages.redis.io/deb $(lsb_release -cs) main\" | sudo tee /etc/apt/sources.list.d/redis.list\n",
        "sudo apt-get update  > /dev/null 2>&1\n",
        "sudo apt-get install redis-stack-server  > /dev/null 2>&1\n",
        "redis-stack-server --daemonize yes"
      ]
    },
    {
      "cell_type": "markdown",
      "metadata": {
        "id": "X7UsU1Ts7TUL"
      },
      "source": [
        "### Connect to Redis\n",
        "\n",
        "By default this notebook would connect to the local instance of Redis Stack. If you have your own Redis Cloud instance - replace REDIS_PASSWORD, REDIS_HOST and REDIS_PORT values with your own."
      ]
    },
    {
      "cell_type": "code",
      "execution_count": 4,
      "metadata": {
        "id": "dyPfCO3pkB7M"
      },
      "outputs": [],
      "source": [
        "import os\n",
        "\n",
        "\n",
        "REDIS_HOST = os.getenv(\"REDIS_HOST\", \"localhost\")\n",
        "REDIS_PORT = os.getenv(\"REDIS_PORT\", \"6379\")\n",
        "REDIS_PASSWORD = os.getenv(\"REDIS_PASSWORD\", \"\")\n",
        "#Replace values above with your own if using Redis Cloud instance\n",
        "#REDIS_HOST=\"redis-18374.c253.us-central1-1.gce.cloud.redislabs.com\"\n",
        "#REDIS_PORT=18374\n",
        "#REDIS_PASSWORD=\"1TNxTEdYRDgIDKM2gDfasupCADXXXX\"\n",
        "\n",
        "#shortcut for redis-cli $REDIS_CONN command\n",
        "# If SSL is enabled on the endpoint add --tls\n",
        "if REDIS_PASSWORD!=\"\":\n",
        "  os.environ[\"REDIS_CONN\"]=f\"-h {REDIS_HOST} -p {REDIS_PORT} -a {REDIS_PASSWORD} --no-auth-warning\"\n",
        "else:\n",
        "  os.environ[\"REDIS_CONN\"]=f\"-h {REDIS_HOST} -p {REDIS_PORT}\"\n",
        "\n",
        "# If SSL is enabled on the endpoint, use rediss:// as the URL prefix\n",
        "REDIS_URL = f\"redis://:{REDIS_PASSWORD}@{REDIS_HOST}:{REDIS_PORT}\""
      ]
    },
    {
      "cell_type": "code",
      "execution_count": 5,
      "metadata": {
        "colab": {
          "base_uri": "https://localhost:8080/"
        },
        "id": "fqaxUHuzOWtQ",
        "outputId": "b388441e-b870-4eee-94ad-f87ddcfafad4"
      },
      "outputs": [
        {
          "output_type": "stream",
          "name": "stdout",
          "text": [
            "PONG\n"
          ]
        }
      ],
      "source": [
        "#test Redis connection\n",
        "!redis-cli $REDIS_CONN PING"
      ]
    },
    {
      "cell_type": "code",
      "execution_count": 6,
      "metadata": {
        "id": "_h1e-L9yZfaY"
      },
      "outputs": [],
      "source": [
        "from langchain.text_splitter import CharacterTextSplitter\n",
        "from langchain_community.document_loaders import TextLoader\n",
        "#from langchain_community.vectorstores import FAISS\n",
        "from langchain.vectorstores.redis import Redis\n",
        "from langchain_openai import OpenAIEmbeddings\n",
        "from langchain.embeddings import CacheBackedEmbeddings\n",
        "from langchain.storage import RedisStore\n",
        "\n",
        "underlying_embeddings = OpenAIEmbeddings()\n",
        "\n",
        "store = RedisStore(redis_url=REDIS_URL)\n",
        "\n",
        "#store = LocalFileStore(\"./cache/\")\n",
        "\n",
        "cached_embedder = CacheBackedEmbeddings.from_bytes_store(\n",
        "    underlying_embeddings, store, namespace=underlying_embeddings.model+\":\"\n",
        ")"
      ]
    },
    {
      "cell_type": "code",
      "execution_count": 7,
      "metadata": {
        "colab": {
          "base_uri": "https://localhost:8080/"
        },
        "id": "fNAgVNRRJxMu",
        "outputId": "7ca85237-3ebf-4e42-fa1c-0a234fb89912"
      },
      "outputs": [
        {
          "output_type": "execute_result",
          "data": {
            "text/plain": [
              "[]"
            ]
          },
          "metadata": {},
          "execution_count": 7
        }
      ],
      "source": [
        "list(store.yield_keys())"
      ]
    },
    {
      "cell_type": "code",
      "source": [
        "#store.mset([(\"k1\", b\"v1\"), (\"k2\", b\"v2\")])\n",
        "#print(store.mget([\"k1\", \"k2\"]))"
      ],
      "metadata": {
        "id": "vaW322BYNJF1"
      },
      "execution_count": 8,
      "outputs": []
    },
    {
      "cell_type": "code",
      "source": [
        "from langchain_community.vectorstores import FAISS\n",
        "from langchain.text_splitter import RecursiveCharacterTextSplitter\n",
        "from langchain.document_loaders import UnstructuredURLLoader"
      ],
      "metadata": {
        "id": "gEyzsWSsNioU"
      },
      "execution_count": 9,
      "outputs": []
    },
    {
      "cell_type": "code",
      "source": [
        "# Add your own URLs here\n",
        "urls = [\n",
        "    \"https://raw.githubusercontent.com/hwchase17/chat-your-data/master/state_of_the_union.txt\"\n",
        "]\n",
        "loader = UnstructuredURLLoader(urls=urls)\n",
        "documents = loader.load()\n",
        "text_splitter = RecursiveCharacterTextSplitter(chunk_size=100, chunk_overlap=20, add_start_index = True)\n",
        "texts = text_splitter.split_documents(documents)"
      ],
      "metadata": {
        "id": "G952jy44NmWC",
        "outputId": "1482935d-e81a-455d-fc49-83e70c78f631",
        "colab": {
          "base_uri": "https://localhost:8080/"
        }
      },
      "execution_count": 10,
      "outputs": [
        {
          "output_type": "stream",
          "name": "stderr",
          "text": [
            "[nltk_data] Downloading package punkt to /root/nltk_data...\n",
            "[nltk_data]   Unzipping tokenizers/punkt.zip.\n",
            "[nltk_data] Downloading package averaged_perceptron_tagger to\n",
            "[nltk_data]     /root/nltk_data...\n",
            "[nltk_data]   Unzipping taggers/averaged_perceptron_tagger.zip.\n"
          ]
        }
      ]
    },
    {
      "cell_type": "code",
      "source": [
        "%%time\n",
        "db = FAISS.from_documents(texts, cached_embedder)"
      ],
      "metadata": {
        "id": "VruzZCEHOTHa",
        "outputId": "bfcf88d8-4126-48dd-faf9-ce254ab16da2",
        "colab": {
          "base_uri": "https://localhost:8080/"
        }
      },
      "execution_count": 22,
      "outputs": [
        {
          "output_type": "stream",
          "name": "stdout",
          "text": [
            "CPU times: user 357 ms, sys: 20.2 ms, total: 377 ms\n",
            "Wall time: 390 ms\n"
          ]
        }
      ]
    },
    {
      "cell_type": "code",
      "source": [
        "%%time\n",
        "db = FAISS.from_documents(texts, cached_embedder)"
      ],
      "metadata": {
        "id": "-yRbE6PySbVE",
        "outputId": "a31f6e6b-4821-4a22-f307-2445ba366fcc",
        "colab": {
          "base_uri": "https://localhost:8080/"
        }
      },
      "execution_count": 17,
      "outputs": [
        {
          "output_type": "stream",
          "name": "stdout",
          "text": [
            "CPU times: user 361 ms, sys: 16.7 ms, total: 378 ms\n",
            "Wall time: 386 ms\n"
          ]
        }
      ]
    },
    {
      "cell_type": "markdown",
      "metadata": {
        "id": "NKIpfIcML9Ad"
      },
      "source": [
        "Finally let's look under the Redis covers. Data for the single session `foo` is stored in the key `message_store:foo` of the type LIST"
      ]
    },
    {
      "cell_type": "code",
      "source": [
        "#db.similarity_search(\"Donald Trump\")"
      ],
      "metadata": {
        "id": "WBF1KXI5TgYx"
      },
      "execution_count": 20,
      "outputs": []
    },
    {
      "cell_type": "code",
      "execution_count": 23,
      "metadata": {
        "colab": {
          "base_uri": "https://localhost:8080/"
        },
        "id": "Nny-B2zgKDng",
        "outputId": "088ccf20-6341-4a25-d220-80ca59f1c8ee"
      },
      "outputs": [
        {
          "output_type": "stream",
          "name": "stdout",
          "text": [
            "  1) \"text-embedding-ada-002:f6302684-d123-5bcc-bd21-138c55bfe1d0\"\n",
            "  2) \"text-embedding-ada-002:57f96d07-6181-500c-b508-2b2e544c4ecf\"\n",
            "  3) \"text-embedding-ada-002:4749907c-fdb4-5491-83bf-e42dae39bd81\"\n",
            "  4) \"text-embedding-ada-002:6b0af38f-609f-5710-beb1-54f2223548fb\"\n",
            "  5) \"text-embedding-ada-002:4a95777c-6bcf-52e0-9d32-19b09b56ca27\"\n",
            "  6) \"text-embedding-ada-002:ee3972d6-2aca-5949-a6f8-5a52834804a2\"\n",
            "  7) \"text-embedding-ada-002:606b8094-4553-53b0-aee9-d91819a7eec6\"\n",
            "  8) \"text-embedding-ada-002:7375d2b7-2b25-5e27-883c-11bc88c8c890\"\n",
            "  9) \"text-embedding-ada-002:20c8623e-38b7-5179-abaa-f5d3f70ccfdd\"\n",
            " 10) \"text-embedding-ada-002:d58f699f-6437-52bc-bdf1-816e8f2be77b\"\n",
            " 11) \"text-embedding-ada-002:2adbac23-90c6-5efe-8e93-29f8bd542877\"\n",
            " 12) \"text-embedding-ada-002:6eb015f0-9f09-5b8f-8418-ad67a9b8ea9d\"\n",
            " 13) \"text-embedding-ada-002:56b01e4b-f04f-5fe1-8a0a-568d65cb5e12\"\n",
            " 14) \"text-embedding-ada-002:71792bb7-993d-542f-947e-656040f2c607\"\n",
            " 15) \"text-embedding-ada-002:164a2401-4a95-5cdc-ab27-8ff22143a80c\"\n",
            " 16) \"text-embedding-ada-002:f9a6dbe8-68ba-5f17-b510-ecfdd0f6586d\"\n",
            " 17) \"text-embedding-ada-002:e4576e4b-0545-5115-8b98-f22c9899e4f1\"\n",
            " 18) \"text-embedding-ada-002:e4d43337-9716-591b-ac38-103c6806b83c\"\n",
            " 19) \"text-embedding-ada-002:fbf46da1-28c1-50da-9bb7-a97ab00259b5\"\n",
            " 20) \"text-embedding-ada-002:14861735-0619-5fb7-8733-dace240295ee\"\n",
            " 21) \"text-embedding-ada-002:def138c4-542b-5ee3-9b8c-99e37a4b40c0\"\n",
            " 22) \"text-embedding-ada-002:226de649-1768-5e50-8db8-aaf18c4aa4fb\"\n",
            " 23) \"text-embedding-ada-002:43ccc9dd-83c1-55eb-bf03-636ae7b680ee\"\n",
            " 24) \"text-embedding-ada-002:d7a0030e-75f2-5497-8abc-f5e51457fe25\"\n",
            " 25) \"text-embedding-ada-002:5ca04a96-0bb6-5d82-8af1-e8056906d20e\"\n",
            " 26) \"text-embedding-ada-002:de5c6516-e5eb-5192-85cf-26c854f60c1a\"\n",
            " 27) \"text-embedding-ada-002:e7df28e0-9d70-5d25-a3f5-e1791977d98b\"\n",
            " 28) \"text-embedding-ada-002:0dd95aa1-f424-5df4-85f3-42b7ea46c6ad\"\n",
            " 29) \"text-embedding-ada-002:53b3ff43-36f0-55ab-8f51-6ed033c5d91b\"\n",
            " 30) \"text-embedding-ada-002:85e32aaf-1b6a-51f9-a9aa-937c24d001fc\"\n",
            " 31) \"text-embedding-ada-002:392847ba-f119-5dd3-ad8c-e819c8a012b9\"\n",
            " 32) \"text-embedding-ada-002:dab41d13-8671-55bc-8948-49cae53c29fd\"\n",
            " 33) \"text-embedding-ada-002:c6a177c0-8c13-52b8-9a4e-8f2c7549b895\"\n",
            " 34) \"text-embedding-ada-002:6689bc61-7424-5563-86fc-67610b145b78\"\n",
            " 35) \"text-embedding-ada-002:31e43edb-aeac-5ea6-bf4d-3ce094c902f4\"\n",
            " 36) \"text-embedding-ada-002:4a60042d-e324-59b1-9d82-61599c60a604\"\n",
            " 37) \"text-embedding-ada-002:5e4d5f8c-3bf5-58ff-af2b-dec9c695323a\"\n",
            " 38) \"text-embedding-ada-002:7987adba-d31d-5138-aa41-66ecf84d7c02\"\n",
            " 39) \"text-embedding-ada-002:e19d8ed5-ac1d-5980-84b7-6ed74394deea\"\n",
            " 40) \"text-embedding-ada-002:5d7b6dd3-ca89-53b7-966f-152cb83e31e6\"\n",
            " 41) \"text-embedding-ada-002:c765fa25-c9ea-58ef-8925-b48a53034945\"\n",
            " 42) \"text-embedding-ada-002:42ee1785-30de-5601-abc7-8344567b20fe\"\n",
            " 43) \"text-embedding-ada-002:6704a26d-4b24-50ad-9fbf-2ae69dd516e7\"\n",
            " 44) \"text-embedding-ada-002:a33b977f-24ee-5426-a7b9-b57745eed11d\"\n",
            " 45) \"text-embedding-ada-002:39255ab2-0135-5c09-828e-3df6793d425b\"\n",
            " 46) \"text-embedding-ada-002:8f419089-0c5d-5958-b80b-53ecbefd2d3a\"\n",
            " 47) \"text-embedding-ada-002:eca3d87a-0205-5fb8-a856-48d1157ff253\"\n",
            " 48) \"text-embedding-ada-002:0309182a-72cf-5de9-90b9-283bdbd259e0\"\n",
            " 49) \"text-embedding-ada-002:d6841274-d643-560a-8f81-83b523020a57\"\n",
            " 50) \"text-embedding-ada-002:aacfb025-984b-5c34-93af-95c535fe8ef2\"\n",
            " 51) \"text-embedding-ada-002:61eb76aa-e0b3-552f-b4bc-8d51f6b9db9d\"\n",
            " 52) \"text-embedding-ada-002:ddc93657-e206-549c-9904-40e173b9914d\"\n",
            " 53) \"text-embedding-ada-002:4979122f-50bd-50dd-be1a-cbab7f64e9db\"\n",
            " 54) \"text-embedding-ada-002:bb7a5cd3-37fe-575d-bc45-987a6ef0e1a3\"\n",
            " 55) \"text-embedding-ada-002:f7a20e74-345d-54aa-a6eb-da98a77d66ed\"\n",
            " 56) \"text-embedding-ada-002:5222febc-d359-540b-82be-e1bafb0fdc9b\"\n",
            " 57) \"text-embedding-ada-002:8570db6d-50d9-54b2-8fbe-52db21e71e17\"\n",
            " 58) \"text-embedding-ada-002:69ed9f6a-1532-5e39-9c3a-3a3c7a235615\"\n",
            " 59) \"text-embedding-ada-002:0b1530e0-0bc2-5522-861d-ca5486b6c927\"\n",
            " 60) \"text-embedding-ada-002:1956133d-9b75-5c9b-80a0-37fabce07068\"\n",
            " 61) \"text-embedding-ada-002:6655baff-1f31-54c8-9024-ed68e0672387\"\n",
            " 62) \"text-embedding-ada-002:7a718fc2-3e1e-53d7-89a4-4018cd229851\"\n",
            " 63) \"text-embedding-ada-002:5b03002e-79cc-5511-b85c-25eefed3caae\"\n",
            " 64) \"text-embedding-ada-002:fb99084c-ee3e-5b2a-a53f-89e9d5f831e4\"\n",
            " 65) \"text-embedding-ada-002:e5adcf3c-e4f6-5c12-9c91-b4e075910668\"\n",
            " 66) \"text-embedding-ada-002:f9fb40f8-3280-5076-8e1b-fc34e092ee82\"\n",
            " 67) \"text-embedding-ada-002:1cbad2b9-59c4-5004-834e-7a71f373f7a5\"\n",
            " 68) \"text-embedding-ada-002:a7b72d93-b4b8-5a95-9641-e1a849b4dd66\"\n",
            " 69) \"text-embedding-ada-002:3800a48d-550c-5638-89ac-52e42e508f79\"\n",
            " 70) \"text-embedding-ada-002:ee1513ec-a88e-5d01-9b71-badc2ed0789d\"\n",
            " 71) \"text-embedding-ada-002:d06bb25d-f0db-5880-a8d7-95263cbf4cbb\"\n",
            " 72) \"text-embedding-ada-002:64bfc58e-9098-560b-8e5e-7bcb988ab4be\"\n",
            " 73) \"text-embedding-ada-002:06ea1fba-dc9e-5188-a3a7-8c423c18fd57\"\n",
            " 74) \"text-embedding-ada-002:b4c2edc8-15a4-5565-80b4-29dd6e74eac9\"\n",
            " 75) \"text-embedding-ada-002:75c75fb5-1c0c-5ed8-844b-c627613cbb9d\"\n",
            " 76) \"text-embedding-ada-002:2f6bf1da-cbc8-54ff-9234-09069e48b4b9\"\n",
            " 77) \"text-embedding-ada-002:1de581dd-b421-57d5-8731-ad2e6b02eb26\"\n",
            " 78) \"text-embedding-ada-002:7dfa9640-1efc-5faf-a97b-994a8c5d5d18\"\n",
            " 79) \"text-embedding-ada-002:62d333d1-9baa-5ce6-95d4-51f03caa0b0b\"\n",
            " 80) \"text-embedding-ada-002:1ff617a9-1f89-59f0-944b-e278140a1c32\"\n",
            " 81) \"text-embedding-ada-002:fc02c528-fc43-5f4e-b367-cb221a12fbd8\"\n",
            " 82) \"text-embedding-ada-002:9f0298c6-c5d0-55ef-b91c-399a2f366de8\"\n",
            " 83) \"text-embedding-ada-002:022e2e96-c1b8-5e81-9541-48c7d023ef8f\"\n",
            " 84) \"text-embedding-ada-002:2169868f-9843-558c-975f-6c885bba2ec7\"\n",
            " 85) \"text-embedding-ada-002:d629055e-b97d-50d9-96a4-076a1ee47c95\"\n",
            " 86) \"text-embedding-ada-002:061fcb58-d657-525c-b822-aaa7bfd03d6a\"\n",
            " 87) \"text-embedding-ada-002:23ad2880-892f-587e-ae3a-1843cd5d7a41\"\n",
            " 88) \"text-embedding-ada-002:320d63ba-800e-5b2a-b732-1f91d325193f\"\n",
            " 89) \"text-embedding-ada-002:85cee710-fb3c-5152-a93e-8cb549726431\"\n",
            " 90) \"text-embedding-ada-002:bd1329e9-c866-57cd-a259-4ca50c3027e2\"\n",
            " 91) \"text-embedding-ada-002:ef0bd6b8-93da-5f74-ab17-705101b6f559\"\n",
            " 92) \"text-embedding-ada-002:16eb895c-5634-5e5a-938c-9c7d1dfcbc83\"\n",
            " 93) \"text-embedding-ada-002:50c8e724-451c-5067-963d-d93387e0ccff\"\n",
            " 94) \"text-embedding-ada-002:6e698b20-94f3-5b09-81f6-8eaeee28145e\"\n",
            " 95) \"text-embedding-ada-002:0a2bd389-c70c-58e5-a641-690c250b0e65\"\n",
            " 96) \"text-embedding-ada-002:6e9c9401-98ab-5ed4-9bd3-76ef86188cb6\"\n",
            " 97) \"text-embedding-ada-002:512dd37a-5b13-5fc5-b274-7734943f8263\"\n",
            " 98) \"text-embedding-ada-002:b4a32c18-5682-538a-a916-e6e5147d99cd\"\n",
            " 99) \"text-embedding-ada-002:918115a4-23d8-5263-8626-a05bfbaa266a\"\n",
            "100) \"text-embedding-ada-002:8451fe3d-c48a-57a5-ba87-0092f1679368\"\n",
            "101) \"text-embedding-ada-002:f150ca5c-4585-57ce-8881-d0875609197c\"\n",
            "102) \"text-embedding-ada-002:71f58992-cc5c-5f9a-a03e-58083050ef23\"\n",
            "103) \"text-embedding-ada-002:b10418c0-6279-5208-96ba-0eb9ababec07\"\n",
            "104) \"text-embedding-ada-002:5dbca4bb-c9a4-5af9-a314-72b827a3a7c5\"\n",
            "105) \"text-embedding-ada-002:8e042d34-d5f0-5b07-8860-57c12939f631\"\n",
            "106) \"text-embedding-ada-002:007cfd13-167a-5b6a-990b-835bbb49b961\"\n",
            "107) \"text-embedding-ada-002:73275264-0baf-5c90-8c0a-d2fab5496052\"\n",
            "108) \"text-embedding-ada-002:65ee0762-ffbf-5432-84f7-c7c2ea17b4d2\"\n",
            "109) \"text-embedding-ada-002:daf2bc8d-1662-5c1d-a11d-dc76765847a1\"\n",
            "110) \"text-embedding-ada-002:fa5bc3d3-6560-5dcf-900e-8f853937e1e0\"\n",
            "111) \"text-embedding-ada-002:288c1c79-bc18-55f6-a1ad-b109a11dad74\"\n",
            "112) \"text-embedding-ada-002:526683a8-50b2-5f25-8a8c-d33dd3ba8fee\"\n",
            "113) \"text-embedding-ada-002:91c57367-fc5b-53c2-a6b5-5a8cafd235e1\"\n",
            "114) \"text-embedding-ada-002:3a0731e2-adbb-5371-953f-01cbddbb32d9\"\n",
            "115) \"text-embedding-ada-002:a1c3023d-8cb8-5535-94e7-32feb5a4ccb3\"\n",
            "116) \"text-embedding-ada-002:bbcc7035-279e-5926-9873-fa28f35e2ca4\"\n",
            "117) \"text-embedding-ada-002:61451f0d-7b3c-542d-b0d4-9d42f5e4d7a9\"\n",
            "118) \"text-embedding-ada-002:fd4f46e1-328b-57c9-a906-ba3a85bad6a8\"\n",
            "119) \"text-embedding-ada-002:a1c074a6-c743-5bf2-b60c-c725fe069697\"\n",
            "120) \"text-embedding-ada-002:c7e68c5e-0879-522f-997a-2c8ed80b699b\"\n",
            "121) \"text-embedding-ada-002:46205dab-34b3-56e4-9ed8-5f1099685ebb\"\n",
            "122) \"text-embedding-ada-002:495776b5-2fb6-5a8b-ae50-51c9b187dbfa\"\n",
            "123) \"text-embedding-ada-002:b78d13ff-0cdf-5468-b564-8422b629926c\"\n",
            "124) \"text-embedding-ada-002:d6ca2b69-d40a-540a-8b86-7c94a03a71e2\"\n",
            "125) \"text-embedding-ada-002:e992db3d-0844-5007-9ffb-cc58aee500e2\"\n",
            "126) \"text-embedding-ada-002:a325465f-0272-54c2-80d2-36c2d9d174f6\"\n",
            "127) \"text-embedding-ada-002:09a9fd5a-fd77-5c8c-87df-bc30d58b9085\"\n",
            "128) \"text-embedding-ada-002:ee69b798-58db-5d3c-9d8a-705d75333be9\"\n",
            "129) \"text-embedding-ada-002:f8ed6047-c6f6-5d6f-899a-2ce8c5d73da6\"\n",
            "130) \"text-embedding-ada-002:6280976a-6ed4-5e65-aa24-63fe3beeccf2\"\n",
            "131) \"text-embedding-ada-002:3dfcd332-3ddc-5d84-bca0-5e0111eedf86\"\n",
            "132) \"text-embedding-ada-002:d7940d90-388f-5c0c-942d-939287acff3e\"\n",
            "133) \"text-embedding-ada-002:7d44fee6-0a8b-5bf1-80ed-3f52e0f193b8\"\n",
            "134) \"text-embedding-ada-002:021c3603-c489-5d87-916d-2dcb5e892f9f\"\n",
            "135) \"text-embedding-ada-002:c71d1284-865e-5737-8e18-faf65b583d71\"\n",
            "136) \"text-embedding-ada-002:fccd1239-88c7-5814-bf18-114ca4c8565f\"\n",
            "137) \"text-embedding-ada-002:41b81629-1146-5205-8922-d56d853e00dd\"\n",
            "138) \"text-embedding-ada-002:1d59ad2a-9410-52ef-99d8-3d1dd183e22c\"\n",
            "139) \"text-embedding-ada-002:e1e96c0f-d5ac-572e-9dc3-71a82249ad80\"\n",
            "140) \"text-embedding-ada-002:32fd7097-0719-5f4f-9384-a9c22a65aab6\"\n",
            "141) \"text-embedding-ada-002:b153b75f-079f-5ec5-951c-cc0a28f67637\"\n",
            "142) \"text-embedding-ada-002:357f3ae8-66df-56dd-8ce5-eebbfbdd438a\"\n",
            "143) \"text-embedding-ada-002:0562eb19-db35-5b94-9257-b506c88037e9\"\n",
            "144) \"text-embedding-ada-002:90adfa84-dcf7-5737-a528-57550b2ac2d7\"\n",
            "145) \"text-embedding-ada-002:88f156f6-0c2e-5d27-a304-fd2200949d7e\"\n",
            "146) \"text-embedding-ada-002:2600d922-a275-5e15-bb1d-180d2c3a4ff4\"\n",
            "147) \"text-embedding-ada-002:8d990b38-aac0-5a48-b02c-c08be9397bfe\"\n",
            "148) \"text-embedding-ada-002:211c3cbc-58cb-5610-ba7b-b012c207b977\"\n",
            "149) \"text-embedding-ada-002:50988a97-45fe-5806-bb90-3dd4352ebddc\"\n",
            "150) \"text-embedding-ada-002:d1657133-e45e-5aa1-8cee-aa4d3ac9433a\"\n",
            "151) \"text-embedding-ada-002:352b7199-1dce-5ac8-8622-2779b4a33b0c\"\n",
            "152) \"text-embedding-ada-002:c901e5ef-09ea-57b1-a949-ae688493746a\"\n",
            "153) \"text-embedding-ada-002:046f7c4b-f55d-555a-b176-5bc5ced4196f\"\n",
            "154) \"text-embedding-ada-002:fdcaed63-80fc-5d94-ba85-d0d451f534c5\"\n",
            "155) \"text-embedding-ada-002:a65d53dd-3172-5c43-adee-126079fd463e\"\n",
            "156) \"text-embedding-ada-002:5e575914-058f-5811-bcdb-753c0f1dd858\"\n",
            "157) \"text-embedding-ada-002:ce415dc8-54f6-5551-b207-dfb04da3df0c\"\n",
            "158) \"text-embedding-ada-002:ffe84562-4f3d-500d-a805-4812b89bfc3a\"\n",
            "159) \"text-embedding-ada-002:c5f9d102-1e9d-574f-b15e-5097cf393ba8\"\n",
            "160) \"text-embedding-ada-002:0b881cc6-d04f-5483-b6fb-95f32ff639b0\"\n",
            "161) \"text-embedding-ada-002:de4351c0-a859-52ef-a896-e9070e964027\"\n",
            "162) \"text-embedding-ada-002:97d279ac-2dc0-5782-be2c-3bf5d20341c9\"\n",
            "163) \"text-embedding-ada-002:462ba862-a039-5fb4-808c-b48cea6b8e9f\"\n",
            "164) \"text-embedding-ada-002:ea1bbcba-7278-5082-9ff6-0e17574c58d4\"\n",
            "165) \"text-embedding-ada-002:a1b51095-5cdb-5973-a074-1aa8bcb9bf1e\"\n",
            "166) \"text-embedding-ada-002:806712d8-4c00-5651-874d-21221cd97e23\"\n",
            "167) \"text-embedding-ada-002:da04f2a5-32bd-54b0-bec3-276795cdec68\"\n",
            "168) \"text-embedding-ada-002:d218b595-cd59-5388-8b32-bbbc1f03734a\"\n",
            "169) \"text-embedding-ada-002:9e0c6667-17a7-54b9-a235-4b39cf19ac71\"\n",
            "170) \"text-embedding-ada-002:c2929420-c648-5991-9876-83f491bd60a0\"\n",
            "171) \"text-embedding-ada-002:46901174-6a4a-546b-b070-6940199bd469\"\n",
            "172) \"text-embedding-ada-002:c6a4e44e-cbf1-50ee-a802-981c7ae22fc0\"\n",
            "173) \"text-embedding-ada-002:6f8066be-a031-5049-ba3a-98c37efa3340\"\n",
            "174) \"text-embedding-ada-002:733654a3-edfa-5c86-83ec-61ac8705726f\"\n",
            "175) \"text-embedding-ada-002:1cf3929b-e327-5b86-acca-272db62c3d77\"\n",
            "176) \"text-embedding-ada-002:fde1d936-dd04-5e97-ad00-a4e103102466\"\n",
            "177) \"text-embedding-ada-002:b934593b-00b3-5a5b-9a89-8d486d18d558\"\n",
            "178) \"text-embedding-ada-002:50054156-9859-5bc7-8edb-49932e2a3e28\"\n",
            "179) \"text-embedding-ada-002:9fd5df12-ef6c-5371-bad8-af8e09baf95f\"\n",
            "180) \"text-embedding-ada-002:c7e8dbc4-8839-5646-b2b4-62f606c57f4c\"\n",
            "181) \"text-embedding-ada-002:7d0aaf7b-3894-54ac-8894-d198c0ee51f2\"\n",
            "182) \"text-embedding-ada-002:3ce37226-fbdd-5a72-9bba-747c5ba7f5c2\"\n",
            "183) \"text-embedding-ada-002:d926d1eb-e136-584e-8578-77273f9f1a69\"\n",
            "184) \"text-embedding-ada-002:3b90b4d4-7688-52ea-b52a-4e89cdd42c3f\"\n",
            "185) \"text-embedding-ada-002:153c9017-1d29-521a-a797-187d83d365a8\"\n",
            "186) \"text-embedding-ada-002:72897b12-7421-572f-ae0a-2b2048dd9e8b\"\n",
            "187) \"text-embedding-ada-002:01fb9f06-28a7-5487-8d10-4088daf015c6\"\n",
            "188) \"text-embedding-ada-002:5602c5cb-cc93-5be3-a004-19535852dc84\"\n",
            "189) \"text-embedding-ada-002:bfa96dd2-87f8-5003-bd83-e710fd7f05b8\"\n",
            "190) \"text-embedding-ada-002:8a086d33-eeba-5857-b452-d40357e29bee\"\n",
            "191) \"text-embedding-ada-002:4070b1aa-ed4e-5b32-83c1-846d8efbd210\"\n",
            "192) \"text-embedding-ada-002:4b0afeca-b04a-5bc9-a23e-062a14fcd257\"\n",
            "193) \"text-embedding-ada-002:4c6d373f-63d7-50b0-8c93-b2b0d9e3a722\"\n",
            "194) \"text-embedding-ada-002:d9641245-9c0c-57bc-b3d5-d0fce655b5e6\"\n",
            "195) \"text-embedding-ada-002:19a3b786-baf4-57ae-910a-3b5d49d58706\"\n",
            "196) \"text-embedding-ada-002:af43a9ad-5d57-5fb3-937f-4023a0564565\"\n",
            "197) \"text-embedding-ada-002:5871118e-40e7-5be7-bded-8d7ac44acc8d\"\n",
            "198) \"text-embedding-ada-002:178a5299-8d69-579e-a129-9b4c2d0faa9a\"\n",
            "199) \"text-embedding-ada-002:026bec3f-0db6-5a08-b9d1-976bd6ca6a7d\"\n",
            "200) \"text-embedding-ada-002:f05ce0cc-1d34-539f-930c-aa10498ea2e3\"\n",
            "201) \"text-embedding-ada-002:1cf6c1f1-4867-55c1-a115-3f61773f998f\"\n",
            "202) \"text-embedding-ada-002:ea40ba65-6046-597b-a77b-75e1591088d8\"\n",
            "203) \"text-embedding-ada-002:ef0db578-81bd-56f2-8244-6e21ef88004a\"\n",
            "204) \"text-embedding-ada-002:c7bf4935-3e0b-57c0-911e-b04c4a9d13c9\"\n",
            "205) \"text-embedding-ada-002:b777d57a-08e3-5ccf-a88e-54850fc11351\"\n",
            "206) \"text-embedding-ada-002:fdda0ca9-b3eb-5ea2-9b3c-060c79a61a06\"\n",
            "207) \"text-embedding-ada-002:43c231b3-7481-5fc3-ac7b-26d7b879d024\"\n",
            "208) \"text-embedding-ada-002:868ce140-2144-5bf1-b15e-7064784d10a3\"\n",
            "209) \"text-embedding-ada-002:5a86d0d4-9c51-5b05-89c0-33ca8a26f21e\"\n",
            "210) \"text-embedding-ada-002:76bdf105-64af-5ef9-936e-f45479c3cc65\"\n",
            "211) \"text-embedding-ada-002:f06be3f3-bf56-515f-8d66-bfda2825556f\"\n",
            "212) \"text-embedding-ada-002:607a5a65-c310-575f-8500-3a7008234163\"\n",
            "213) \"text-embedding-ada-002:e0f5a4a5-62ba-5ce4-ab9c-644465cbbbf8\"\n",
            "214) \"text-embedding-ada-002:dea85a64-e8d2-5aee-a9cf-a311ed5b9812\"\n",
            "215) \"text-embedding-ada-002:2900ed86-73f9-577d-8107-aa3dcaad397e\"\n",
            "216) \"text-embedding-ada-002:658c7c39-17cd-5a40-91b5-772bff877c79\"\n",
            "217) \"text-embedding-ada-002:a45de5ac-8934-5e05-9612-b68c2321fed5\"\n",
            "218) \"text-embedding-ada-002:927410f5-e103-5651-840d-c001fcff3037\"\n",
            "219) \"text-embedding-ada-002:10068262-8e60-503f-955b-e3c8fd40c2c7\"\n",
            "220) \"text-embedding-ada-002:c68b3ae6-9f67-58f9-9c72-ef1716245a06\"\n",
            "221) \"text-embedding-ada-002:c1611be0-5704-5a01-8abc-127c6a18d3bc\"\n",
            "222) \"text-embedding-ada-002:dd99b565-887a-5af4-af6f-df6cff74f0cb\"\n",
            "223) \"text-embedding-ada-002:210f0bdc-d1db-5213-9a23-01213c58a669\"\n",
            "224) \"text-embedding-ada-002:2c35fc0e-dcb6-5e52-ae2f-f722e9471e72\"\n",
            "225) \"text-embedding-ada-002:3637db7a-20ac-55d8-84f4-2276b5be6d4c\"\n",
            "226) \"text-embedding-ada-002:5884bd37-6c5e-54f6-a81e-01e24263b2d6\"\n",
            "227) \"text-embedding-ada-002:3fb501d3-d17e-5402-90ba-61f95b11c807\"\n",
            "228) \"text-embedding-ada-002:bf1b43f5-40d5-52ed-99d6-ff2fba4876e2\"\n",
            "229) \"text-embedding-ada-002:aa7a40ea-405a-535b-b9d3-5ff6c9a855e0\"\n",
            "230) \"text-embedding-ada-002:a6c8d577-0d99-5223-b893-a797f956203d\"\n",
            "231) \"text-embedding-ada-002:4b0534bd-3b2f-597d-b988-d4c73e5d14e6\"\n",
            "232) \"text-embedding-ada-002:f9786e57-9488-5fce-a250-1c5ad1c43d63\"\n",
            "233) \"text-embedding-ada-002:f2157542-a5f5-5174-a41a-134e164dc856\"\n",
            "234) \"text-embedding-ada-002:c5b00a8d-6873-52ff-b1aa-c2bb4ebb7555\"\n",
            "235) \"text-embedding-ada-002:6ede1804-f707-53d7-adb9-550070fbfdaf\"\n",
            "236) \"text-embedding-ada-002:6830b815-d3d0-5138-be52-72d204f53ae3\"\n",
            "237) \"text-embedding-ada-002:f413586a-47c2-5531-a60b-c145c154354a\"\n",
            "238) \"text-embedding-ada-002:ba893a05-ce3d-527d-8fcc-7cd92a9c26fd\"\n",
            "239) \"text-embedding-ada-002:42058200-c38a-5df0-93d4-98493cdd62a1\"\n",
            "240) \"text-embedding-ada-002:2549c53d-6afe-5394-b177-d6cee7ff00a3\"\n",
            "241) \"text-embedding-ada-002:fa7d8790-97ba-5d7e-bc6a-9ed2a362135f\"\n",
            "242) \"text-embedding-ada-002:1e52aff7-0561-5fe0-8678-05a6c3629863\"\n",
            "243) \"text-embedding-ada-002:5882739c-9a40-5b41-b174-58cca537114c\"\n",
            "244) \"text-embedding-ada-002:fcb0c720-ab13-54a1-ac21-97320706d217\"\n",
            "245) \"text-embedding-ada-002:9acad4bb-6b24-50b2-b4a0-2441b92bbd32\"\n",
            "246) \"text-embedding-ada-002:34af8992-9007-5303-ad02-40b3a3f9c88f\"\n",
            "247) \"text-embedding-ada-002:8df68606-c170-5a5b-808e-620945c459b0\"\n",
            "248) \"text-embedding-ada-002:3f744acb-5d26-535a-ac04-e27eaf523dec\"\n",
            "249) \"text-embedding-ada-002:1daae782-6e19-5a92-819c-b9ce6ec04c13\"\n",
            "250) \"text-embedding-ada-002:0ff89d10-668e-548b-8ba7-c3dbe71ad0ce\"\n",
            "251) \"text-embedding-ada-002:ff90af5b-6955-5bad-93be-9f22caf492cf\"\n",
            "252) \"text-embedding-ada-002:5699744e-0656-53a6-a9ab-4b08465057f7\"\n",
            "253) \"text-embedding-ada-002:af46b88c-f4f0-5e55-82fb-01421ebea701\"\n",
            "254) \"text-embedding-ada-002:e93f5220-3ba7-5898-8163-83183c0c6745\"\n",
            "255) \"text-embedding-ada-002:3582ea90-cc61-562f-bc9e-9f370c562958\"\n",
            "256) \"text-embedding-ada-002:025fd475-33a0-5423-88b4-ce6d1986b34f\"\n",
            "257) \"text-embedding-ada-002:8e72ca3e-c646-5301-b5bd-c34f3730eefc\"\n",
            "258) \"text-embedding-ada-002:bfc6e9b6-e136-57ad-8f69-c8ce4955e01f\"\n",
            "259) \"text-embedding-ada-002:f4305dd7-2123-525a-ac48-32fd7f052f79\"\n",
            "260) \"text-embedding-ada-002:efe1fff1-9e6d-575e-8af8-4923eb2e2d09\"\n",
            "261) \"text-embedding-ada-002:444837b3-7c71-53fa-8520-22f72ecc48bd\"\n",
            "262) \"text-embedding-ada-002:eb10a5bf-36fe-52a4-a37b-75072d8860ce\"\n",
            "263) \"text-embedding-ada-002:06901675-994b-573c-963b-587c285836f5\"\n",
            "264) \"text-embedding-ada-002:452db77e-95cc-5202-9272-72e668723207\"\n",
            "265) \"text-embedding-ada-002:c1cc0db3-ec9d-57fe-a768-2148d5cbe5ef\"\n",
            "266) \"text-embedding-ada-002:e1116bab-0d67-543b-af20-1b6160840eee\"\n",
            "267) \"text-embedding-ada-002:84560405-324d-5edb-b50c-4646f7ce2101\"\n",
            "268) \"text-embedding-ada-002:51b71349-2a91-5528-8f9e-3d1414d9f242\"\n",
            "269) \"text-embedding-ada-002:7ef7da90-e322-5108-bb7f-1fbf008dea02\"\n",
            "270) \"text-embedding-ada-002:0c17939a-7ce8-5637-a5bd-a101ad8cf01b\"\n",
            "271) \"text-embedding-ada-002:996a5174-ed4f-5aa1-8e0f-b5510dc7c627\"\n",
            "272) \"text-embedding-ada-002:ed9dad2a-99e7-5d5e-9909-414cb7f25e7f\"\n",
            "273) \"text-embedding-ada-002:b2ef91c5-1c95-5d5c-9c3d-9374f5cf55a7\"\n",
            "274) \"text-embedding-ada-002:14584a76-a3b5-587f-b1c4-81334dc513b1\"\n",
            "275) \"text-embedding-ada-002:076ef093-8ab5-5dff-ac45-1a0fc81ecaa3\"\n",
            "276) \"text-embedding-ada-002:689a9777-9eed-5a89-b93d-686d6c5eb77e\"\n",
            "277) \"text-embedding-ada-002:9ac5f97e-09ac-58bc-9012-985907762cc6\"\n",
            "278) \"text-embedding-ada-002:1f371830-26db-53ba-88a2-8c2f978f3034\"\n",
            "279) \"text-embedding-ada-002:5b67636b-849e-5076-9a09-adf701f61e97\"\n",
            "280) \"text-embedding-ada-002:ffbf0388-0a23-5a15-ba9a-16e9ce874511\"\n",
            "281) \"text-embedding-ada-002:b637e663-20cf-5da4-8eb5-bf01e2633c2a\"\n",
            "282) \"text-embedding-ada-002:d226edf5-6e6d-57cc-b00c-2559868cfaeb\"\n",
            "283) \"text-embedding-ada-002:0241e876-7a97-5a70-8532-b1190e93e8d2\"\n",
            "284) \"text-embedding-ada-002:7e3959b3-87b5-5618-8cbb-502bd1ed31d6\"\n",
            "285) \"text-embedding-ada-002:62e45948-6f6f-571d-b549-91b609a7326a\"\n",
            "286) \"text-embedding-ada-002:83884f3e-9f36-5a47-98e6-27c934fdc30b\"\n",
            "287) \"text-embedding-ada-002:35072d59-687d-586e-8269-457a750b58cb\"\n",
            "288) \"text-embedding-ada-002:aaf917d2-6ec8-592c-a97e-4f0f8044897d\"\n",
            "289) \"text-embedding-ada-002:af98a395-2a5e-5c83-8dc9-cfbb225ca131\"\n",
            "290) \"text-embedding-ada-002:85bd0576-5eac-56bc-98cf-f8407ff79406\"\n",
            "291) \"text-embedding-ada-002:70b9e4d4-ef07-5dee-ae1f-5514fe17e3c5\"\n",
            "292) \"text-embedding-ada-002:fddf6f36-db6c-541e-92ea-308be443d0ce\"\n",
            "293) \"text-embedding-ada-002:a6063a42-ade2-5ccd-80c3-94f5676007d2\"\n",
            "294) \"text-embedding-ada-002:839256d0-aaec-534e-9c38-853b7e15a360\"\n",
            "295) \"text-embedding-ada-002:6aadd17e-d1bd-5552-8d77-459b3e878003\"\n",
            "296) \"text-embedding-ada-002:57990f98-4314-55db-8632-4dfd326b27e1\"\n",
            "297) \"text-embedding-ada-002:3ea065a6-2338-5112-b9ff-8fd7bfbef98b\"\n",
            "298) \"text-embedding-ada-002:707b57b7-0210-500d-868b-35ced97b29dd\"\n",
            "299) \"text-embedding-ada-002:8cc04f7b-fe8a-52d0-ba9c-702cec9f974c\"\n",
            "300) \"text-embedding-ada-002:24e1f8b1-e89b-5383-9f8a-70664a03ffed\"\n",
            "301) \"text-embedding-ada-002:208e0f77-b32e-5310-aba7-53465e73e7d1\"\n",
            "302) \"text-embedding-ada-002:6540ee68-370c-527a-98f6-1b21e7fe7daf\"\n",
            "303) \"text-embedding-ada-002:60e45592-1cd7-57df-bd23-aa63193a3ec8\"\n",
            "304) \"text-embedding-ada-002:446a37be-5530-509e-9652-5ebdffa60fcd\"\n",
            "305) \"text-embedding-ada-002:953b59d7-de2f-5d78-9dea-9f547519243c\"\n",
            "306) \"text-embedding-ada-002:f5cc8e38-ce17-56cc-9423-826789abd72a\"\n",
            "307) \"text-embedding-ada-002:8050e31b-de26-5998-8af3-86d871ffa8c9\"\n",
            "308) \"text-embedding-ada-002:4d867809-c597-5192-b84e-3a9f68b8aae6\"\n",
            "309) \"text-embedding-ada-002:0cb4f5b1-ad91-5875-9f59-2640f0917a4b\"\n",
            "310) \"text-embedding-ada-002:8c7e2da0-99f3-563b-8aaa-245ba42590d4\"\n",
            "311) \"text-embedding-ada-002:fae47aab-a347-5aab-bce1-e50bce7071b2\"\n",
            "312) \"text-embedding-ada-002:a761fec1-c133-51a7-b063-ed666518b2b6\"\n",
            "313) \"text-embedding-ada-002:f5eb61fc-02f6-53d6-9651-1dde2de60e49\"\n",
            "314) \"text-embedding-ada-002:064213d7-8086-5db9-8235-3f5eef419b09\"\n",
            "315) \"text-embedding-ada-002:c3586460-58c3-591d-b05b-7f04a7860e0f\"\n",
            "316) \"text-embedding-ada-002:24d464a0-cfb4-57fc-8967-51157d0f2ea6\"\n",
            "317) \"text-embedding-ada-002:f1f19ef0-9ef0-50c4-b5d0-3753fc629c8d\"\n",
            "318) \"text-embedding-ada-002:25156c1d-2748-579d-90de-5ec47c5126d9\"\n",
            "319) \"text-embedding-ada-002:3505a317-21d6-5202-bc15-ab3e2129e3f2\"\n",
            "320) \"text-embedding-ada-002:ef93aa07-01a8-5e36-949a-b5b334932c76\"\n",
            "321) \"text-embedding-ada-002:87f9bee7-be2d-597f-a13a-b7189491f1f7\"\n",
            "322) \"text-embedding-ada-002:c7c2e50d-f34e-53a1-b664-666984008e49\"\n",
            "323) \"text-embedding-ada-002:fb300d49-a6f3-54d9-99a4-c766f4328c6d\"\n",
            "324) \"text-embedding-ada-002:8ccf3901-c405-519f-b42d-a49f1146716c\"\n",
            "325) \"text-embedding-ada-002:17599860-2e0d-5609-bd30-bf21242fc346\"\n",
            "326) \"text-embedding-ada-002:d76debd2-f023-5c9f-be3b-00fc4b5c0cbd\"\n",
            "327) \"text-embedding-ada-002:8c631df5-3c9c-523a-87bf-2ef9cac46149\"\n",
            "328) \"text-embedding-ada-002:b1c1b150-0bdd-5433-9877-23d68fea0b71\"\n",
            "329) \"text-embedding-ada-002:524d0a8f-76d2-535e-9e5b-9a3a5b1ab607\"\n",
            "330) \"text-embedding-ada-002:da7bdbea-9e55-5b8d-91e2-ab7d990be1f3\"\n",
            "331) \"text-embedding-ada-002:79c2fc42-8a49-5fea-ab66-62d3794efcd7\"\n",
            "332) \"text-embedding-ada-002:1236a9a1-33ac-58ca-b2b2-5fc103e40f79\"\n",
            "333) \"text-embedding-ada-002:0b8c5c40-6932-5912-bb99-18de3e37925f\"\n",
            "334) \"text-embedding-ada-002:58485223-560b-5770-b27e-d082ce1dcc47\"\n",
            "335) \"text-embedding-ada-002:3df17297-76d0-5837-b678-ed9a6a8275a2\"\n",
            "336) \"text-embedding-ada-002:7f33271f-0e73-5e54-93fd-b8033573c794\"\n",
            "337) \"text-embedding-ada-002:c8417cab-6401-5c5e-a90e-360ffcfbd20d\"\n",
            "338) \"text-embedding-ada-002:56fd280d-4614-5256-ac44-3b9c217f6e8d\"\n",
            "339) \"text-embedding-ada-002:8019fccb-4108-59af-963d-4e3c06d29ac4\"\n",
            "340) \"text-embedding-ada-002:70ac58bf-859f-5c83-b81d-05d7f8ea01b5\"\n",
            "341) \"text-embedding-ada-002:500ac757-57ee-5c7c-92b8-d9d5ffecb5d8\"\n",
            "342) \"text-embedding-ada-002:3e6dc578-8a1f-5813-9e21-2bf6977286df\"\n",
            "343) \"text-embedding-ada-002:aaa9046d-ff85-5acb-a5af-1a8052f21bf3\"\n",
            "344) \"text-embedding-ada-002:7a125f68-59b1-5e1d-9609-195271d5f846\"\n",
            "345) \"text-embedding-ada-002:c4bb58f0-83d1-5d0b-9529-ce9ad40f7952\"\n",
            "346) \"text-embedding-ada-002:f26dbef6-ed29-50e8-833a-9d94a882d68c\"\n",
            "347) \"text-embedding-ada-002:4432f2a8-8400-5a35-a94c-c69c4dcb0eb9\"\n",
            "348) \"text-embedding-ada-002:43b33551-d09e-5fb9-b2ed-573aa52c109b\"\n",
            "349) \"text-embedding-ada-002:01072725-86ea-55c9-8929-af941d973816\"\n",
            "350) \"text-embedding-ada-002:dd3403a6-faa7-57c7-81f1-27ccbfcc5872\"\n",
            "351) \"text-embedding-ada-002:21fee018-31c9-5c69-bad9-5d22841ca5c0\"\n",
            "352) \"text-embedding-ada-002:5b9664a0-240f-5f4e-8b4e-9180f3e19741\"\n",
            "353) \"text-embedding-ada-002:03f51a77-4e18-584c-8a6e-235c1903a4ce\"\n",
            "354) \"text-embedding-ada-002:383de8dc-ad65-517b-ad36-8a41e1fd63b0\"\n",
            "355) \"text-embedding-ada-002:3d41166d-fd2c-51e9-91df-6a3e517d741b\"\n",
            "356) \"text-embedding-ada-002:e512b648-74a0-522a-9294-99c93045d9d2\"\n",
            "357) \"text-embedding-ada-002:b9771385-5d36-5233-8f33-55d864da024a\"\n",
            "358) \"text-embedding-ada-002:8db5c8e8-3f26-59e9-bdaa-6966cddc7788\"\n",
            "359) \"text-embedding-ada-002:50e6c85b-866a-52c0-b167-1fcffbc79d54\"\n",
            "360) \"text-embedding-ada-002:13fd1418-4db0-5ed1-87d3-2cec7c6268bd\"\n",
            "361) \"text-embedding-ada-002:667ce4af-2c4c-50db-a3ba-aef3b6dbe5b7\"\n",
            "362) \"text-embedding-ada-002:0b44b549-11f7-56a7-a0f9-6e865a6b5c91\"\n",
            "363) \"text-embedding-ada-002:d237b41e-1f2b-5d27-8a8b-cf2dbd2ee30a\"\n",
            "364) \"text-embedding-ada-002:2d0a4648-b220-52e1-8ec5-24f257ee69bf\"\n",
            "365) \"text-embedding-ada-002:85c883d5-5e72-574b-b43f-b3c42872a18c\"\n",
            "366) \"text-embedding-ada-002:3b3746c1-5ea4-5503-8dc2-b21b9121bdb4\"\n",
            "367) \"text-embedding-ada-002:389ca62e-9c8e-5f44-83a0-7b30d76d1c98\"\n",
            "368) \"text-embedding-ada-002:3e870903-ecad-506c-ba8c-f962e043f16f\"\n",
            "369) \"text-embedding-ada-002:672d5296-7b41-511e-8200-eeeee3420f43\"\n",
            "370) \"text-embedding-ada-002:d60bfccc-68c2-549a-98f1-8e2c2cd003be\"\n",
            "371) \"text-embedding-ada-002:586058ad-1ffb-5d83-bca3-34695914f7e1\"\n",
            "372) \"text-embedding-ada-002:883e41bf-92e2-5e64-b4e1-f9b82a83567a\"\n",
            "373) \"text-embedding-ada-002:299f161a-2139-58b6-9942-eed9661f35f7\"\n",
            "374) \"text-embedding-ada-002:73a0a964-d0b1-5f69-bd97-6564b2c0ab77\"\n",
            "375) \"text-embedding-ada-002:50a627d3-11ce-53f4-ad72-dd88284d4b75\"\n",
            "376) \"text-embedding-ada-002:73971306-615e-577c-8d7c-86f6bd47a453\"\n",
            "377) \"text-embedding-ada-002:ee90e98e-eed1-5f0e-b593-11096f10fe9f\"\n",
            "378) \"text-embedding-ada-002:af3d295a-b6a4-500d-897f-2645c5dbe882\"\n",
            "379) \"text-embedding-ada-002:d910650e-0c7b-5b29-b3ef-c033c077024b\"\n",
            "380) \"text-embedding-ada-002:426b6fe7-b9d5-5909-b8cf-b5f3b09b0159\"\n",
            "381) \"text-embedding-ada-002:96cad5d2-ea3f-5689-bd2a-8df4a6214463\"\n",
            "382) \"text-embedding-ada-002:fec600ba-7ba9-52d1-a69d-1a2f16c65de8\"\n",
            "383) \"text-embedding-ada-002:ea99f872-293a-5b95-a4af-ad8b154944f9\"\n",
            "384) \"text-embedding-ada-002:f6f029b1-ac68-5003-b727-39b3865dec2e\"\n",
            "385) \"text-embedding-ada-002:158322fe-0581-50cc-84c9-166777fb80e6\"\n",
            "386) \"text-embedding-ada-002:f9614df9-5c57-5bfe-a390-faa092916401\"\n",
            "387) \"text-embedding-ada-002:54f64d64-bf84-545a-a35d-8bcf1243b6b1\"\n",
            "388) \"text-embedding-ada-002:44b926c3-6a38-5b3c-9e7e-135f8426a04c\"\n",
            "389) \"text-embedding-ada-002:b2d52fb3-6465-58e5-a410-99ce3ab00b2a\"\n",
            "390) \"text-embedding-ada-002:442fb228-797c-5fb9-bd92-f4ae2dd4120e\"\n",
            "391) \"text-embedding-ada-002:26357ead-b07c-5993-84da-3a8ade102302\"\n",
            "392) \"text-embedding-ada-002:9812eea2-7c86-59e3-ab56-3bb5d2027434\"\n",
            "393) \"text-embedding-ada-002:34651268-34ea-597b-a9f1-92bc93033a7c\"\n",
            "394) \"text-embedding-ada-002:d6e43aab-773a-5013-931f-12bcd9f500e3\"\n",
            "395) \"text-embedding-ada-002:2db93b6b-b95c-5946-b23a-15cc196b1318\"\n",
            "396) \"text-embedding-ada-002:da0d8882-e4e9-5a91-bb7c-d0b276114e0a\"\n",
            "397) \"text-embedding-ada-002:bd154af1-658b-569d-8a07-18d6575576d3\"\n",
            "398) \"text-embedding-ada-002:1c3e16e7-5c6d-5942-ab3c-78454b59eca7\"\n",
            "399) \"text-embedding-ada-002:1482749f-ce77-592b-bbf8-ca9eef424367\"\n",
            "400) \"text-embedding-ada-002:3244ab01-7159-57f8-93aa-eae769560d1f\"\n",
            "401) \"text-embedding-ada-002:6fdc5d08-8943-5b46-acf1-4c6949d5adb5\"\n",
            "402) \"text-embedding-ada-002:f2de1661-2ecd-53f2-a837-f7a503c5c40c\"\n",
            "403) \"text-embedding-ada-002:c329cd01-a37c-5975-b2df-a11dd2aa2c26\"\n",
            "404) \"text-embedding-ada-002:aa77908a-532a-5038-b00f-343b1a03d4c6\"\n",
            "405) \"text-embedding-ada-002:7eca1d9e-e3f8-5fad-a656-0c10dc88e7e3\"\n",
            "406) \"text-embedding-ada-002:0680c7aa-2c3a-54d0-abcb-43fd5285362b\"\n",
            "407) \"text-embedding-ada-002:afd1a211-f805-57fd-a266-45f2dc34080c\"\n",
            "408) \"text-embedding-ada-002:5bf797c6-c6c8-5945-9d10-58a9af8dc989\"\n",
            "409) \"text-embedding-ada-002:5a7862ca-ce20-56c3-9ce3-1f27ae607f71\"\n",
            "410) \"text-embedding-ada-002:bf317b80-1ddd-5583-b5de-36b429bb6ea0\"\n",
            "411) \"text-embedding-ada-002:994e5257-d58a-5767-8b4e-649e99e9abde\"\n",
            "412) \"text-embedding-ada-002:b4c8da95-d243-59f9-a6cf-a883d109b3b1\"\n",
            "413) \"text-embedding-ada-002:d062e897-027c-569d-8eca-f9e707b710ca\"\n",
            "414) \"text-embedding-ada-002:70de45ce-d1cb-56cf-bcac-d5fa66a5fd2c\"\n",
            "415) \"text-embedding-ada-002:cc2d03b6-13dd-5173-a467-7b9bf8a835ad\"\n",
            "416) \"text-embedding-ada-002:b6b6ea97-cdf1-5998-8337-43900bf9bbcc\"\n",
            "417) \"text-embedding-ada-002:8e33d04c-9332-54df-ac49-ebf704aa4e56\"\n",
            "418) \"text-embedding-ada-002:45658024-420c-5536-a680-b356413b5b89\"\n",
            "419) \"text-embedding-ada-002:df4dab8b-6892-5329-9f5e-b291f09d53ad\"\n",
            "420) \"text-embedding-ada-002:c579c488-5afd-5928-862b-0b075a7c73b2\"\n",
            "421) \"text-embedding-ada-002:926f6fc2-57ef-5fbe-bba2-4933afcd7f8e\"\n",
            "422) \"text-embedding-ada-002:e6bff923-bf2b-51f1-8182-09c66f987f65\"\n",
            "423) \"text-embedding-ada-002:26dada87-fe0a-512c-9191-f1c7d88346fe\"\n",
            "424) \"text-embedding-ada-002:d7150bc6-8dbe-5683-bd2c-d0e318a79231\"\n",
            "425) \"text-embedding-ada-002:b35c9251-4ca9-5f6d-a31d-0a2afcc7033a\"\n",
            "426) \"text-embedding-ada-002:f708a4be-b3fb-565f-b8b2-f7341cb041b9\"\n",
            "427) \"text-embedding-ada-002:71a42ffd-1507-5ce9-850a-1ebfac2011f5\"\n",
            "428) \"text-embedding-ada-002:7a17ec22-0f9e-519d-a43a-65afd0ca2a03\"\n",
            "429) \"text-embedding-ada-002:d3969cd7-1963-54a9-ae67-0339f3f8eaf0\"\n",
            "430) \"text-embedding-ada-002:1951a306-7a91-5573-b1f5-d9d07ad02c49\"\n",
            "431) \"text-embedding-ada-002:f9724644-ec2d-53b5-807f-b63a55836f29\"\n",
            "432) \"text-embedding-ada-002:25421309-bfe7-551b-8114-8c1d2c77bbaa\"\n",
            "433) \"text-embedding-ada-002:8cccdfb6-efa1-576e-ba78-dd08c41f7496\"\n",
            "434) \"text-embedding-ada-002:b5709221-ea55-56ae-9fa7-46baf9f90d49\"\n",
            "435) \"text-embedding-ada-002:c7da3c99-3d8e-5ef6-a499-5bcef2f76082\"\n",
            "436) \"text-embedding-ada-002:db42d688-3fe1-52b0-89b6-b77aa9c279f9\"\n",
            "437) \"text-embedding-ada-002:aa45eda2-c289-5da0-91d4-87e1c520e2ce\"\n",
            "438) \"text-embedding-ada-002:6457ec84-130f-5862-b052-a0acacfea404\"\n",
            "439) \"text-embedding-ada-002:70a2f917-824c-559a-8d71-9a867d5ef7ca\"\n",
            "440) \"text-embedding-ada-002:f56faa80-6045-5e22-9c31-da590b89c184\"\n",
            "441) \"text-embedding-ada-002:ebb89b25-8616-5261-98bf-f393c0fe1b62\"\n",
            "442) \"text-embedding-ada-002:bbe10ad6-b028-53d6-8bb0-dbc3e281ab31\"\n",
            "443) \"text-embedding-ada-002:0a2663c2-1546-5953-b3f8-40147aacc034\"\n",
            "444) \"text-embedding-ada-002:978562fe-0cb6-51b6-bfaf-22db77224d66\"\n",
            "445) \"text-embedding-ada-002:a80bb3a0-a696-5900-bd61-6d18ce10fe7c\"\n",
            "446) \"text-embedding-ada-002:504b29ed-591d-5cec-b546-5e46af98f4d3\"\n",
            "447) \"text-embedding-ada-002:afacb6db-1f87-5656-8d4e-50fde06937f3\"\n",
            "448) \"text-embedding-ada-002:dcb95563-4a16-548f-9ae5-71c29f9ed2f3\"\n",
            "449) \"text-embedding-ada-002:fcced1e0-5a80-58ae-a630-a55af1b482d3\"\n",
            "450) \"text-embedding-ada-002:624bd3fd-de7e-59ff-b42a-a19800c96e59\"\n",
            "451) \"text-embedding-ada-002:a602ca2f-8e51-5fd6-89f6-013c41540120\"\n",
            "452) \"text-embedding-ada-002:790244ee-c24a-5a7a-be7d-55f47599e1d4\"\n",
            "453) \"text-embedding-ada-002:fa4bc4fd-70ee-561b-a4c5-719f46cfea31\"\n",
            "454) \"text-embedding-ada-002:d8db63ac-35f1-5b07-90b3-7d38d88f9df4\"\n",
            "455) \"text-embedding-ada-002:d1c08271-0199-512f-9351-3ebe44fea38a\"\n",
            "456) \"text-embedding-ada-002:2106fa99-935d-52f9-b702-427d2b3bbde0\"\n",
            "457) \"text-embedding-ada-002:7fbb0634-1943-5fd4-974a-fa753795cdb1\"\n",
            "458) \"text-embedding-ada-002:fce9d760-6290-5781-a405-10f2c1507417\"\n",
            "459) \"text-embedding-ada-002:11761fed-e3f6-59ae-a6a4-cabbdd1c3720\"\n",
            "460) \"text-embedding-ada-002:aff53600-f8d7-54df-b129-4ef1669c9e1c\"\n",
            "461) \"text-embedding-ada-002:561f7f98-9813-5529-a247-b26346bf9d4e\"\n",
            "462) \"text-embedding-ada-002:b89e5002-982d-563f-b505-69d0b5c983a6\"\n",
            "463) \"text-embedding-ada-002:9c5341da-0cec-5c1b-97ae-1551e9f16cd7\"\n",
            "464) \"text-embedding-ada-002:28b95115-fcca-5cbd-a1c4-e6a61336730b\"\n",
            "465) \"text-embedding-ada-002:4174d7db-ad49-5130-8cb3-f2164b050849\"\n",
            "466) \"text-embedding-ada-002:a00adce9-2c52-5993-b12b-76e16bd88f53\"\n",
            "467) \"text-embedding-ada-002:317daed1-aafd-5ea2-9a45-4a207cb2be53\"\n",
            "468) \"text-embedding-ada-002:b586b06a-fb2a-5969-a0bc-31acd70dffb6\"\n",
            "469) \"text-embedding-ada-002:563b4ee0-1bdc-5513-ad71-58d5d62b8f8c\"\n",
            "470) \"text-embedding-ada-002:f1feeae0-1702-5094-8b9f-3cd820bdada2\"\n",
            "471) \"text-embedding-ada-002:0a99d48b-4b03-5f78-9224-e6ee7d3dd083\"\n",
            "472) \"text-embedding-ada-002:a8a8f5cb-bafb-522a-9e29-2efb0fbb4762\"\n",
            "473) \"text-embedding-ada-002:016ef630-dfc3-5044-a183-59913fd9d899\"\n",
            "474) \"text-embedding-ada-002:6f4b8c4e-998e-5f00-bb41-efeefd01f65a\"\n",
            "475) \"text-embedding-ada-002:3cf4234e-fe5c-5ee8-9d39-6053589b8be6\"\n",
            "476) \"text-embedding-ada-002:2415076c-01f4-5ab6-bcda-9128e26216fa\"\n",
            "477) \"text-embedding-ada-002:95bbcc3c-b4e7-5363-8fb1-00be5de491ed\"\n",
            "478) \"text-embedding-ada-002:be5825f5-c16f-54e5-914a-ed90e8544989\"\n",
            "479) \"text-embedding-ada-002:c64e1f24-de37-52a7-a2b4-259d300ad7e3\"\n",
            "480) \"text-embedding-ada-002:3d2adc38-a46d-55a4-bc9e-71360f66a2ec\"\n",
            "481) \"text-embedding-ada-002:bb3b366a-1abf-5b4c-9e63-595122587588\"\n",
            "482) \"text-embedding-ada-002:3a450fc0-3e2d-549c-a94a-c28e20c3e7a0\"\n",
            "483) \"text-embedding-ada-002:93fa0989-7942-5ab4-a7a3-8fbde794a671\"\n",
            "484) \"text-embedding-ada-002:884f09f5-49b5-5d47-857f-4b73883c2787\"\n",
            "485) \"text-embedding-ada-002:e72ec5ee-8e5d-5e8a-9703-69ed59f26640\"\n",
            "486) \"text-embedding-ada-002:424fa574-0620-5686-a9c5-50c70deb8dc2\"\n",
            "487) \"text-embedding-ada-002:dedabc49-8b7b-5e04-98a9-5a80acba768c\"\n",
            "488) \"text-embedding-ada-002:19ef0f67-e60f-5226-8a55-07d22fb2071b\"\n",
            "489) \"text-embedding-ada-002:b2dc7f4a-a0a3-576b-b93b-effe794870ab\"\n",
            "490) \"text-embedding-ada-002:fec57f96-4a15-55c4-8629-aed7cac71737\"\n",
            "491) \"text-embedding-ada-002:809b4820-bf81-5f96-a33a-aee162f65a06\"\n",
            "492) \"text-embedding-ada-002:b1746d87-3bb4-5f9d-8933-72bf5720d0e5\"\n",
            "493) \"text-embedding-ada-002:b7246426-e960-5da3-8a0a-537fe9ff6120\"\n",
            "494) \"text-embedding-ada-002:f0d9f019-8ba5-5194-8d0b-016e8f65062e\"\n",
            "495) \"text-embedding-ada-002:09a59972-de55-5a1f-98fa-dffd6b68b4ef\"\n",
            "496) \"text-embedding-ada-002:b10787d6-3daa-5076-b60e-79c85dd6bc1e\"\n",
            "497) \"text-embedding-ada-002:380e36b5-5f63-524f-81fb-ea49e41f227c\"\n",
            "498) \"text-embedding-ada-002:4a46ad64-2a46-5fa8-b207-9cc3cbf38b07\"\n",
            "499) \"text-embedding-ada-002:b21042f2-980a-5a18-b28f-2de4ff39576b\"\n",
            "500) \"text-embedding-ada-002:5e22c9d2-3da9-5380-b470-8c2ab1a78c6a\"\n",
            "501) \"text-embedding-ada-002:00c50595-242c-561c-b7b7-e6bbfc7a6047\"\n",
            "502) \"text-embedding-ada-002:9c3fbc45-ca50-5ef8-bb4c-b872991fc836\"\n",
            "503) \"text-embedding-ada-002:73005248-6246-5fb9-bfe7-86cdea5404ba\"\n",
            "504) \"text-embedding-ada-002:a858c53a-7434-524a-ab98-f0d1a7ee56ed\"\n",
            "505) \"text-embedding-ada-002:1e9c73d3-2d89-5c07-97c9-745bf9d849fa\"\n",
            "506) \"text-embedding-ada-002:b68aef5d-36e2-5967-9f56-474572ac62d6\"\n",
            "507) \"text-embedding-ada-002:d70b967b-28ef-52ef-b55c-128a8e17b8e9\"\n",
            "508) \"text-embedding-ada-002:ce2bc3ba-9395-5ed6-b1ff-e3f09d043297\"\n",
            "509) \"text-embedding-ada-002:fba0b0e6-a983-5dd1-8e2c-ba1085e536b0\"\n",
            "510) \"text-embedding-ada-002:52889345-dff7-5e41-910f-e803f21db176\"\n",
            "511) \"text-embedding-ada-002:598bbc6b-3fde-5a93-a16c-1eea40f3fa06\"\n",
            "512) \"text-embedding-ada-002:1ac94497-a8ae-59af-8aa4-89723ad69591\"\n",
            "513) \"text-embedding-ada-002:37748f17-a54b-5351-9f14-84050a8db397\"\n",
            "514) \"text-embedding-ada-002:03c8aecd-d9da-52ab-98df-e552d9c6f147\"\n",
            "515) \"text-embedding-ada-002:efbbfa22-6913-50d3-9869-ba46b03d8f25\"\n",
            "516) \"text-embedding-ada-002:e62f6be7-8dcf-5510-8c37-ee01e888a4dc\"\n",
            "517) \"text-embedding-ada-002:9a6931e1-c377-52c7-899e-1f81fde2ad46\"\n",
            "518) \"text-embedding-ada-002:b305892b-a015-5695-9bc0-063855b3074a\"\n",
            "519) \"text-embedding-ada-002:d0639e1c-b895-5951-9a71-360d1be885f8\"\n",
            "520) \"text-embedding-ada-002:43b81d0e-0b8a-5e50-ab45-0e43f25a6ffa\"\n",
            "521) \"text-embedding-ada-002:10fdbeb9-8f0b-5895-b2db-42bf0ce4ff72\"\n",
            "522) \"text-embedding-ada-002:1613c37b-31e9-55d4-b2e5-0d9e670fd887\"\n",
            "523) \"text-embedding-ada-002:af219b90-ffed-5a3a-a89b-c3faeefdd558\"\n",
            "524) \"text-embedding-ada-002:db9a2d68-5822-5fab-902c-7dab051efec3\"\n",
            "525) \"text-embedding-ada-002:193aafb4-2704-56e2-9f61-0703a379927a\"\n",
            "526) \"text-embedding-ada-002:6145eb9c-b7b2-54e5-abb0-3eada64c1162\"\n",
            "527) \"text-embedding-ada-002:37a4958e-b64a-5e83-ab87-c8437922302e\"\n",
            "528) \"text-embedding-ada-002:ecd42e09-f309-58ec-8b30-0ffa90b0eb8e\"\n",
            "529) \"text-embedding-ada-002:16c886a8-cc42-5b37-af18-8065eb6a73c2\"\n",
            "530) \"text-embedding-ada-002:20a58243-797f-595d-b655-e2dbfd7bfcf3\"\n",
            "531) \"text-embedding-ada-002:46520e5e-ceaa-532c-8e1a-b8bc55e9f820\"\n",
            "532) \"text-embedding-ada-002:7c0fdd88-0f18-554b-b903-1d8006d54531\"\n",
            "533) \"text-embedding-ada-002:363b96f5-53a9-5f33-8a02-a95f7f6aab19\"\n",
            "534) \"text-embedding-ada-002:49697917-9214-54cc-910f-b85e07b71203\"\n",
            "535) \"text-embedding-ada-002:be4896c6-91eb-5d83-a1e9-093cce969140\"\n",
            "536) \"text-embedding-ada-002:ac6deab9-e050-5239-8a18-2ec36c2429f9\"\n",
            "537) \"text-embedding-ada-002:fc5af5a6-374b-56e0-8c9a-001e42502b53\"\n",
            "538) \"text-embedding-ada-002:d9df098c-2515-5c45-a6ed-d2cbbe3ec607\"\n",
            "539) \"text-embedding-ada-002:08fe4db2-d0c8-53f1-9ca7-81dc36655b8d\"\n",
            "540) \"text-embedding-ada-002:4e9e420d-4dd8-5f0e-adfe-fbbb191b585a\"\n",
            "541) \"text-embedding-ada-002:a91325d7-e8e8-56b1-a0ff-76a083aa8082\"\n",
            "542) \"text-embedding-ada-002:8e250b1d-33c1-5af2-bfcb-dad6e2c13768\"\n",
            "543) \"text-embedding-ada-002:92b13796-9604-5ac8-9734-a45fe58d1d71\"\n",
            "544) \"text-embedding-ada-002:dccb01b4-7141-56b3-ab56-b0a4b3430203\"\n",
            "545) \"text-embedding-ada-002:187feeb5-6da9-532b-ba2d-0909b304fd8f\"\n",
            "546) \"text-embedding-ada-002:deaabde9-7dd4-50c8-bddd-d92880c13135\"\n",
            "547) \"text-embedding-ada-002:0f310c76-3fe2-5acb-a2c8-64e4a8492269\"\n",
            "548) \"text-embedding-ada-002:6d56c08a-fd94-58f7-b9f0-eaad1397e91e\"\n",
            "549) \"text-embedding-ada-002:32934d5e-861c-58e4-8d21-a9df9f518582\"\n",
            "550) \"text-embedding-ada-002:21eb27e5-8318-5d88-b090-6d35f2cef8fe\"\n",
            "551) \"text-embedding-ada-002:160403a7-abec-5a64-bd8c-6acbf8d74987\"\n",
            "552) \"text-embedding-ada-002:7e96cb89-dc82-5e9c-bf30-74eb3ef7d7cf\"\n",
            "553) \"text-embedding-ada-002:86887faa-2847-578f-87f9-67deecff883e\"\n",
            "554) \"text-embedding-ada-002:5dba4e61-70de-558f-bebd-5ffb8d4b3062\"\n",
            "555) \"text-embedding-ada-002:cd6505de-5b52-595b-8687-a24e9ba2e0cd\"\n",
            "556) \"text-embedding-ada-002:2b2de1fa-f446-51ca-8633-6193dfe017fa\"\n",
            "557) \"text-embedding-ada-002:1e2c4b2d-57ba-57df-bddb-250f392ae882\"\n",
            "558) \"text-embedding-ada-002:d2f9169b-bb20-5cd0-89f6-97182a832881\"\n",
            "559) \"text-embedding-ada-002:1cc5728f-3ead-5730-bbcf-28ee52b4e7ea\"\n",
            "560) \"text-embedding-ada-002:5a68de9c-0957-5d33-9bbf-3b20fe7d4c92\"\n",
            "(nil)\n"
          ]
        }
      ],
      "source": [
        "!redis-cli $REDIS_CONN keys \"*\"\n",
        "!redis-cli $REDIS_CONN get \"text-embedding-ada-00255c1930e-bc0b-550d-a284-030f8cbfd05a\""
      ]
    }
  ],
  "metadata": {
    "colab": {
      "provenance": [],
      "include_colab_link": true
    },
    "kernelspec": {
      "display_name": "Python 3",
      "name": "python3"
    },
    "language_info": {
      "name": "python"
    }
  },
  "nbformat": 4,
  "nbformat_minor": 0
}